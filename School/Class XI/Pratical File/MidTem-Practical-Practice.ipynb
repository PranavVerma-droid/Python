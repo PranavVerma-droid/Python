{
 "cells": [
  {
   "cell_type": "markdown",
   "metadata": {},
   "source": [
    "## Mid Term Practical Exam Practice Questions"
   ]
  },
  {
   "cell_type": "code",
   "execution_count": 33,
   "metadata": {},
   "outputs": [
    {
     "name": "stdout",
     "output_type": "stream",
     "text": [
      "1\n",
      "1 3\n",
      "1 3 5\n"
     ]
    }
   ],
   "source": [
    "times = int(input(\"Please Enter Times: \"))\n",
    "\n",
    "for i in range(0, times):\n",
    "    numCharacters = i + 1\n",
    "    result = 1\n",
    "    for j in range(0, numCharacters):\n",
    "        if j == numCharacters-1:\n",
    "            print(result, end=\"\\n\")\n",
    "            result = result + 2\n",
    "        else:\n",
    "            print(result, end=\" \")\n",
    "            result = result + 2"
   ]
  },
  {
   "cell_type": "code",
   "execution_count": 40,
   "metadata": {},
   "outputs": [
    {
     "name": "stdout",
     "output_type": "stream",
     "text": [
      "1 \n",
      "1 1 \n",
      "1 1 1 \n",
      "1 1 1 1 \n",
      "1 1 1 1 1 \n"
     ]
    }
   ],
   "source": [
    "times = 5\n",
    "for i in range(1, times+1):\n",
    "    print(\"1 \" * i)"
   ]
  },
  {
   "cell_type": "code",
   "execution_count": 168,
   "metadata": {},
   "outputs": [
    {
     "name": "stdout",
     "output_type": "stream",
     "text": [
      "6 5 4 3 2 1 \t\n",
      "6 5 4 3 2 \t\n",
      "6 5 4 3 \t\n",
      "6 5 4 \t\n",
      "6 5 \t\n",
      "6 \t\n"
     ]
    }
   ],
   "source": [
    "times = 6\n",
    "\n",
    "for i in range(times):\n",
    "    for j in range(times, i, -1):\n",
    "        print(j, end=\" \")\n",
    "    print(\"\\t\")"
   ]
  },
  {
   "cell_type": "code",
   "execution_count": 70,
   "metadata": {},
   "outputs": [
    {
     "name": "stdout",
     "output_type": "stream",
     "text": [
      "1 4 5 3\n"
     ]
    }
   ],
   "source": [
    "line = str(input(\"Please Enter String: \"))\n",
    "upperStats = 0\n",
    "lowerStats = 0\n",
    "alphaStats = 0\n",
    "digitStats = 0\n",
    "\n",
    "\n",
    "for i in line:\n",
    "    if i.isupper():\n",
    "        upperStats += 1\n",
    "    if i.islower():\n",
    "        lowerStats += 1\n",
    "    if i.isalpha():\n",
    "        alphaStats += 1\n",
    "    if i.isnumeric():\n",
    "        digitStats += 1\n",
    "\n",
    "print(upperStats, lowerStats, alphaStats, digitStats, end=\"\\n\")"
   ]
  },
  {
   "cell_type": "code",
   "execution_count": 82,
   "metadata": {},
   "outputs": [
    {
     "name": "stdout",
     "output_type": "stream",
     "text": [
      "7\n"
     ]
    }
   ],
   "source": [
    "number = 34\n",
    "\n",
    "tens = number // 10\n",
    "units = number % 10\n",
    "\n",
    "print(tens + units)"
   ]
  },
  {
   "cell_type": "code",
   "execution_count": 90,
   "metadata": {},
   "outputs": [
    {
     "name": "stdout",
     "output_type": "stream",
     "text": [
      "FizzBuzz\n",
      "1\n",
      "2\n",
      "Fizz\n",
      "4\n",
      "Buzz\n",
      "Fizz\n",
      "7\n",
      "8\n",
      "Fizz\n",
      "Buzz\n"
     ]
    }
   ],
   "source": [
    "for i in range(0, 11):\n",
    "    out = \"\"\n",
    "\n",
    "    if i % 3 == 0:\n",
    "        out = out + \"Fizz\" \n",
    "    if i % 5 == 0:\n",
    "        out = out + \"Buzz\"\n",
    "    if out == \"\":\n",
    "        out = out + str(i)\n",
    "    print(out)"
   ]
  },
  {
   "cell_type": "code",
   "execution_count": 109,
   "metadata": {},
   "outputs": [
    {
     "name": "stdout",
     "output_type": "stream",
     "text": [
      "1010, 1011, 0100\n",
      "1010 "
     ]
    }
   ],
   "source": [
    "string = str(input(\"Please Enter Numbers: \"))\n",
    "print(string)\n",
    "\n",
    "separated = string.split(\",\")\n",
    "\n",
    "for i in separated:\n",
    "    finalNumber = int(i)\n",
    "    finalBinary = 0\n",
    "\n",
    "    unit = finalNumber % 10\n",
    "    tens = (finalNumber // 10) % 10\n",
    "    hundreds = (finalNumber // 100) % 10\n",
    "    thousands = (finalNumber // 1000) % 10\n",
    "\n",
    "    finalBinary = finalBinary + unit * 1\n",
    "    finalBinary = finalBinary + tens * 2\n",
    "    finalBinary = finalBinary + hundreds * 4\n",
    "    finalBinary = finalBinary + thousands * 8\n",
    "\n",
    "    if finalBinary % 5 == 0:\n",
    "        print(i, end=\" \")"
   ]
  },
  {
   "cell_type": "code",
   "execution_count": 165,
   "metadata": {},
   "outputs": [
    {
     "name": "stdout",
     "output_type": "stream",
     "text": [
      " *** \n",
      "*    *\n",
      "*     *\n",
      "*      *\n",
      "*      *\n",
      "*      *\n",
      "*     *\n",
      "*    *\n",
      " *** \n"
     ]
    }
   ],
   "source": [
    "number = 10\n",
    "\n",
    "for row in range(1, number):\n",
    "    if row == 1 or row == number-1:\n",
    "        print(\" \" + \"*\" * 3 + \" \")\n",
    "    elif row > 1 and row < number/2:\n",
    "        print(\"*\" + \" \" * (2 + row) + \"*\")\n",
    "    elif row == number/2:\n",
    "        print(\"*\" + \" \" * (row+1) + \"*\")\n",
    "    elif row > number/2 and row < number:\n",
    "        print(\"*\" + \" \" * ((number + 2) - row) + \"*\")\n",
    "             \n",
    "\n"
   ]
  }
 ],
 "metadata": {
  "kernelspec": {
   "display_name": "base",
   "language": "python",
   "name": "python3"
  },
  "language_info": {
   "codemirror_mode": {
    "name": "ipython",
    "version": 3
   },
   "file_extension": ".py",
   "mimetype": "text/x-python",
   "name": "python",
   "nbconvert_exporter": "python",
   "pygments_lexer": "ipython3",
   "version": "3.12.4"
  }
 },
 "nbformat": 4,
 "nbformat_minor": 2
}

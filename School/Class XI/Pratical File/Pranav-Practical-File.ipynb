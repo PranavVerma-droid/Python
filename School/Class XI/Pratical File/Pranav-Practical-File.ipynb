{
 "cells": [
  {
   "cell_type": "markdown",
   "metadata": {},
   "source": [
    "# Chapter 1, 2, 3, 4"
   ]
  },
  {
   "cell_type": "markdown",
   "metadata": {},
   "source": [
    "### WAP to Convert Dog Age to Human Years."
   ]
  },
  {
   "cell_type": "code",
   "execution_count": 2,
   "metadata": {},
   "outputs": [
    {
     "name": "stdout",
     "output_type": "stream",
     "text": [
      "14 Years\n"
     ]
    }
   ],
   "source": [
    "dogAge = eval(input(\"Please Enter Dog's Age in Human Years: \"))\n",
    "finalAge = 0\n",
    "threshold = 21\n",
    "\n",
    "\n",
    "if (dogAge >= threshold):\n",
    "    finalAge = finalAge + 2\n",
    "    finalAge = finalAge + ((dogAge - threshold) // 4)\n",
    "    print(str(finalAge) + \" Years\")\n",
    "elif (dogAge >= (threshold / 2) and dogAge < threshold):\n",
    "    finalAge = finalAge + 1\n",
    "    print(str(finalAge) + \" Years\")\n",
    "else:\n",
    "    print(\"0 Years\")"
   ]
  },
  {
   "cell_type": "markdown",
   "metadata": {},
   "source": [
    "### WAP to Convert Litres to Mililiters."
   ]
  },
  {
   "cell_type": "code",
   "execution_count": 2,
   "metadata": {},
   "outputs": [
    {
     "name": "stdout",
     "output_type": "stream",
     "text": [
      "Mililiters: 12000 ml\n"
     ]
    }
   ],
   "source": [
    "litre = int(input(\"Please enter litres: \"))\n",
    "\n",
    "print(\"Mililiters: \" + str(litre * 1000) + \" ml\")"
   ]
  },
  {
   "cell_type": "markdown",
   "metadata": {},
   "source": [
    "### WAP to Calculate the Median of 3 Numbers."
   ]
  },
  {
   "cell_type": "code",
   "execution_count": 3,
   "metadata": {},
   "outputs": [
    {
     "name": "stdout",
     "output_type": "stream",
     "text": [
      "Median of the Values: 13.0\n"
     ]
    }
   ],
   "source": [
    "a = int(input(\"Please Give Number 1: \"))\n",
    "b = int(input(\"Please Give Number 2: \"))\n",
    "c = int(input(\"Please Give Number 3: \"))\n",
    "\n",
    "print(\"Median of the Values: \" + str((a + b + c) / 3))"
   ]
  },
  {
   "cell_type": "markdown",
   "metadata": {},
   "source": [
    "### WAP to Get the Age of a User, and, Calculate the Year in which he will turn 100 Years Old."
   ]
  },
  {
   "cell_type": "code",
   "execution_count": 4,
   "metadata": {},
   "outputs": [
    {
     "name": "stdout",
     "output_type": "stream",
     "text": [
      "There is a Message for you:\n",
      "Pranav, You shall be 100 years old in the year 2108.\n"
     ]
    }
   ],
   "source": [
    "name = str(input(\"Please Enter Name: \"))\n",
    "age = int(input(\"Please Enter Age: \"))\n",
    "ageToHundred = int(100 - age)\n",
    "willwere = \"\"\n",
    "\n",
    "if(ageToHundred < 0):\n",
    "    willwere = \"were\"\n",
    "else:\n",
    "    willwere = \"shall be\"\n",
    "\n",
    "print(\"There is a Message for you:\")\n",
    "print(name + \", You \" + str(willwere) + \" 100 years old in the year \" + str(ageToHundred + 2024) + \".\")\n"
   ]
  },
  {
   "cell_type": "markdown",
   "metadata": {},
   "source": [
    "### WAP to Convert Meters to Kilometers."
   ]
  },
  {
   "cell_type": "code",
   "execution_count": 5,
   "metadata": {},
   "outputs": [
    {
     "name": "stdout",
     "output_type": "stream",
     "text": [
      "Kilometer Conversion: 0.012 m\n"
     ]
    }
   ],
   "source": [
    "meters = int(input(\"Please enter meters: \"))\n",
    "\n",
    "print(\"Kilometer Conversion: \" + str(meters / 1000) + \" m\")"
   ]
  },
  {
   "cell_type": "markdown",
   "metadata": {},
   "source": [
    "### WAP to display weather a given number is normal or special."
   ]
  },
  {
   "cell_type": "code",
   "execution_count": 6,
   "metadata": {},
   "outputs": [
    {
     "name": "stdout",
     "output_type": "stream",
     "text": [
      "The Number is a Normal Number.\n"
     ]
    }
   ],
   "source": [
    "x = int(input(\"Please Enter a 2 digit Number: \"))\n",
    "\n",
    "a = x//10\n",
    "b = x % 10\n",
    "\n",
    "if(((a + b) + (a * b)) == x):\n",
    "    print(\"The Number is a Special Number\")\n",
    "else:\n",
    "    print(\"The Number is a Normal Number.\")"
   ]
  },
  {
   "cell_type": "markdown",
   "metadata": {},
   "source": [
    "### Square and Cube"
   ]
  },
  {
   "cell_type": "code",
   "execution_count": 7,
   "metadata": {},
   "outputs": [
    {
     "name": "stdout",
     "output_type": "stream",
     "text": [
      "144 2197\n"
     ]
    }
   ],
   "source": [
    "num1 = int(input(\"Please Enter Number 1: \"))\n",
    "num2 = int(input(\"Please Enter Number 2: \"))\n",
    "\n",
    "if (num1 == num2):\n",
    "    print(\"Numbers are equal.\")\n",
    "elif (num1 < num2):\n",
    "    print(str(num1 ** 2), str(num2 ** 3))\n",
    "else:\n",
    "    print(str(num1 ** 3), str(num2 ** 2))"
   ]
  },
  {
   "cell_type": "markdown",
   "metadata": {},
   "source": [
    "### Odd or Even"
   ]
  },
  {
   "cell_type": "code",
   "execution_count": 8,
   "metadata": {},
   "outputs": [
    {
     "name": "stdout",
     "output_type": "stream",
     "text": [
      "Number is Even\n"
     ]
    }
   ],
   "source": [
    "number = input(\"Please Enter Number: \")\n",
    "\n",
    "if (int(number) % 2) == 0:\n",
    "    print(\"Number is Even\")\n",
    "else:\n",
    "    print(\"Number is Odd\")"
   ]
  },
  {
   "cell_type": "markdown",
   "metadata": {},
   "source": [
    "### Positive or Negative"
   ]
  },
  {
   "cell_type": "code",
   "execution_count": 9,
   "metadata": {},
   "outputs": [
    {
     "name": "stdout",
     "output_type": "stream",
     "text": [
      "Number is Positive.\n"
     ]
    }
   ],
   "source": [
    "number = int(input(\"Please Enter Number: \"))\n",
    "\n",
    "if (number > 0):\n",
    "    print(\"Number is Positive.\")\n",
    "elif (number == 0):\n",
    "    print(\"Number is Neither Positive or Negative.\")\n",
    "else:\n",
    "    print(\"Number is Negative.\")"
   ]
  },
  {
   "cell_type": "markdown",
   "metadata": {},
   "source": [
    "### Calculate the Area of a Circle."
   ]
  },
  {
   "cell_type": "code",
   "execution_count": 10,
   "metadata": {},
   "outputs": [
    {
     "name": "stdout",
     "output_type": "stream",
     "text": [
      "Area of the circle:  452.16\n"
     ]
    }
   ],
   "source": [
    "rad = float(input(\"Please enter radius to calc area: \"))\n",
    "\n",
    "print(\"Area of the circle: \", 3.14 * (rad ** 2))"
   ]
  },
  {
   "cell_type": "markdown",
   "metadata": {},
   "source": [
    "### Calculate Area of a Triangle."
   ]
  },
  {
   "cell_type": "code",
   "execution_count": 12,
   "metadata": {},
   "outputs": [
    {
     "name": "stdout",
     "output_type": "stream",
     "text": [
      "78.0\n"
     ]
    }
   ],
   "source": [
    "measurements = [0, 0]\n",
    "\n",
    "measurements[0] = int(input(\"Please enter base of the triangle: \"))\n",
    "measurements[1] = int(input(\"Please enter height of the triange: \"))\n",
    "\n",
    "area = (measurements[0] * measurements[1] * 0.5)\n",
    "\n",
    "print(area)"
   ]
  },
  {
   "cell_type": "markdown",
   "metadata": {},
   "source": [
    "### Calculate Average Marks."
   ]
  },
  {
   "cell_type": "code",
   "execution_count": 11,
   "metadata": {},
   "outputs": [
    {
     "name": "stdout",
     "output_type": "stream",
     "text": [
      "62.0\n"
     ]
    }
   ],
   "source": [
    "marks = [0, 0, 0, 0, 0]\n",
    "\n",
    "i = 0\n",
    "while(i <= 4):\n",
    "    marks[i] = float(input(\"Please enter marks \" + str(i + 1) + \": \"))\n",
    "    i = i + 1\n",
    "average = (marks[0] + marks [1] + marks [2] + marks [3] + marks [4])/5\n",
    "print(average)"
   ]
  },
  {
   "cell_type": "markdown",
   "metadata": {},
   "source": [
    "### Calculate First 5 Multiples"
   ]
  },
  {
   "cell_type": "code",
   "execution_count": 13,
   "metadata": {},
   "outputs": [
    {
     "name": "stdout",
     "output_type": "stream",
     "text": [
      "First 5 multiples: 12, 24, 36, 48, 60\n"
     ]
    }
   ],
   "source": [
    "number = int(input(\"Please enter number: \"))\n",
    "\n",
    "print(\"First 5 multiples: \" + str(number) + \", \" + str(number * 2) + \", \" + str(number * 3) + \", \" + str(number * 4) + \", \" + str(number * 5))"
   ]
  },
  {
   "cell_type": "markdown",
   "metadata": {},
   "source": [
    "### Sum of Integers"
   ]
  },
  {
   "cell_type": "code",
   "execution_count": 14,
   "metadata": {},
   "outputs": [
    {
     "name": "stdout",
     "output_type": "stream",
     "text": [
      "25\n"
     ]
    }
   ],
   "source": [
    "a = int(input(\"Please Enter Integer 1: \"))\n",
    "b = int(input(\"Please Enter Integer 2: \"))\n",
    "\n",
    "\n",
    "if (a + b > 15 and a + b < 20):\n",
    "    print(\"20\")\n",
    "else:\n",
    "    print(a + b)"
   ]
  },
  {
   "cell_type": "markdown",
   "metadata": {},
   "source": [
    "### Calculate Tax Income"
   ]
  },
  {
   "cell_type": "code",
   "execution_count": 16,
   "metadata": {},
   "outputs": [
    {
     "name": "stdout",
     "output_type": "stream",
     "text": [
      "No Income Tax.\n",
      "Tax Payer Name: Pranav\n"
     ]
    }
   ],
   "source": [
    "name = str(input(\"Please Enter Name: \"))\n",
    "age = int(input(\"Please Enter Your Age: \"))\n",
    "income = int(input(\"Please Enter your Taxable Income: \"))\n",
    "\n",
    "def tax_income_calc (a):\n",
    "    if (a <= 500000):\n",
    "        print(\"No Income Tax.\")\n",
    "    elif (a > 500000 and a <= 750000):\n",
    "        print(str((a - 500000) * 0.1))\n",
    "    elif (a > 750000 and a <= 1000000):\n",
    "        print(str((a - 750000) * 0.2))\n",
    "    else:\n",
    "        print(str(((a - 1000000) * 0.3) + 9000))\n",
    "\n",
    "if (age > 60 or age < 18):\n",
    "    print(\"Wrong Category.\")\n",
    "else:\n",
    "    tax_income_calc(income)\n",
    "    print(\"Tax Payer Name: \" + name)"
   ]
  },
  {
   "cell_type": "markdown",
   "metadata": {},
   "source": [
    "### WAP to convert time to minutes."
   ]
  },
  {
   "cell_type": "code",
   "execution_count": null,
   "metadata": {},
   "outputs": [],
   "source": [
    "time = int(input(\"Please enter time in hours: \"))\n",
    "\n",
    "print(\"Time: \" + str(time * 60) + \" Minutes\")"
   ]
  },
  {
   "cell_type": "markdown",
   "metadata": {},
   "source": [
    "### Check the Type of a Given Triangle."
   ]
  },
  {
   "cell_type": "code",
   "execution_count": 17,
   "metadata": {},
   "outputs": [
    {
     "name": "stdout",
     "output_type": "stream",
     "text": [
      "Scalene Triangle\n"
     ]
    }
   ],
   "source": [
    "a = int(input(\"Please Enter Side 1: \"))\n",
    "b = int(input(\"Please Enter Side 2: \"))\n",
    "c = int(input(\"Please Enter Side 3: \"))\n",
    "\n",
    "s = (a + b + c) / 2\n",
    "\n",
    "herons = (s * (s - a) * (s - b) * (s - c)) ** 2\n",
    "\n",
    "if (herons <= 0):\n",
    "    print(\"Not a Triangle\")\n",
    "else:\n",
    "    if (a == b == c):\n",
    "        print(\"Equlateral Triangle.\")\n",
    "    elif (a == b or b == c or a == c):\n",
    "        print(\"Isoceles Triangle.\")\n",
    "    else:\n",
    "        print(\"Scalene Triangle\")"
   ]
  },
  {
   "cell_type": "markdown",
   "metadata": {},
   "source": [
    "### Print the Middle Value of 3 Unequal Numbers."
   ]
  },
  {
   "cell_type": "code",
   "execution_count": 19,
   "metadata": {},
   "outputs": [
    {
     "name": "stdout",
     "output_type": "stream",
     "text": [
      "13\n"
     ]
    }
   ],
   "source": [
    "num1 = int(input(\"Please Enter Number 1: \"))\n",
    "num2 = int(input(\"Please Enter Number 2: \"))\n",
    "num3 = int(input(\"Please Enter Number 3: \"))\n",
    "\n",
    "array = [num1, num2, num3]\n",
    "\n",
    "if (num1 == num2 or num2 == num3 or num1 == num3):\n",
    "    print(\"Please Enter Unequal Numbers.\")\n",
    "else:\n",
    "    array.sort()\n",
    "    print(array[1])"
   ]
  },
  {
   "cell_type": "markdown",
   "metadata": {},
   "source": [
    "### Month and Day to Represent Season."
   ]
  },
  {
   "cell_type": "code",
   "execution_count": 18,
   "metadata": {},
   "outputs": [
    {
     "name": "stdout",
     "output_type": "stream",
     "text": [
      "Autumn.\n"
     ]
    }
   ],
   "source": [
    "winter = [\"October\", \"November\", \"December\", \"January\", \"February\"]\n",
    "spring = [\"March\", \"April\"]\n",
    "summer = [\"May\", \"June\", \"July\"]\n",
    "autumn = [\"August\", \"September\"]\n",
    "\n",
    "monthInput = str(input(\"Please Enter Month Name: \"))\n",
    "dayInput = int(input(\"Please Enter Day: \"))\n",
    "\n",
    "if (dayInput > 0) and (dayInput <= 31):\n",
    "    if monthInput in winter:\n",
    "        print(\"Winter.\")\n",
    "    elif monthInput in spring:\n",
    "        print(\"Spring.\")\n",
    "    elif monthInput in summer:\n",
    "        print(\"Summer.\")\n",
    "    elif monthInput in autumn:\n",
    "        print(\"Autumn.\")\n",
    "    else:\n",
    "        print(\"Please Enter a Vaild Month Name.\")\n",
    "else:\n",
    "    print(\"Please Enter a Vaild Day in the Month.\")"
   ]
  },
  {
   "cell_type": "markdown",
   "metadata": {},
   "source": [
    "### WAP to Enter a Month and Display Number of Days."
   ]
  },
  {
   "cell_type": "code",
   "execution_count": 20,
   "metadata": {},
   "outputs": [
    {
     "name": "stdout",
     "output_type": "stream",
     "text": [
      "This Month has 30 Days.\n"
     ]
    }
   ],
   "source": [
    "days30 = [\"April\", \"april\", \"June\", \"june\", \"September\", \"september\", \"November\", \"november\"]\n",
    "days31 = [\"January\",\"january\", \"March\", \"march\", \"May\", \"may\", \"July\", \"july\", \"August\", \"august\", \"October\", \"october\",\"December\", \"december\"] \n",
    "days28 = [\"February\", \"february\"]\n",
    "\n",
    "inputMonth = str(input(\"Please Enter Name of Month: \"))\n",
    "\n",
    "if (inputMonth in days30):\n",
    "    print(\"This Month has 30 Days.\")\n",
    "elif(inputMonth in days31):\n",
    "    print(\"This Month has 31 Days.\")\n",
    "elif(inputMonth in days28):\n",
    "    print(\"This Month has 28/29 Days.\")\n",
    "else:\n",
    "    print(\"Please Input a Vaild Month Name.\")"
   ]
  },
  {
   "cell_type": "markdown",
   "metadata": {},
   "source": [
    "### Positive or Negative Odd Number"
   ]
  },
  {
   "cell_type": "code",
   "execution_count": 1,
   "metadata": {},
   "outputs": [
    {
     "name": "stdout",
     "output_type": "stream",
     "text": [
      "-13 -15 -17 -19\n"
     ]
    }
   ],
   "source": [
    "num = int(input(\"Please Enter an Positive Even or Negative Odd Number: \"))\n",
    "\n",
    "\n",
    "if (num % 2 == 0 and num > 0):\n",
    "    print(num, num + 2, num + 4, num + 6)\n",
    "elif (num == 0):\n",
    "    print(\"Number is Neither Odd Or Even.\")\n",
    "elif (num % 2 == 1 and num < 0):\n",
    "    print(num, num - 2, num - 4, num - 6)\n",
    "else:\n",
    "    print(\"Number is not an Positive Even or Negative Odd Number.\")"
   ]
  },
  {
   "cell_type": "markdown",
   "metadata": {},
   "source": [
    "### WAP to check weather a person is eligible to Vote"
   ]
  },
  {
   "cell_type": "code",
   "execution_count": 2,
   "metadata": {},
   "outputs": [
    {
     "name": "stdout",
     "output_type": "stream",
     "text": [
      "Not Eligible to Vote.\n"
     ]
    }
   ],
   "source": [
    "age = int(input(\"Please Enter your Age: \"))\n",
    "\n",
    "if (age >= 18):\n",
    "    print(\"Eligible to Vote\")\n",
    "else:\n",
    "    print(\"Not Eligible to Vote.\")"
   ]
  },
  {
   "cell_type": "markdown",
   "metadata": {},
   "source": [
    "### Calculator"
   ]
  },
  {
   "cell_type": "code",
   "execution_count": 3,
   "metadata": {},
   "outputs": [
    {
     "name": "stdout",
     "output_type": "stream",
     "text": [
      "25\n"
     ]
    }
   ],
   "source": [
    "num1 = int(input(\"Please Enter Number 1: \"))\n",
    "num2 = int(input(\"Please Enter Number 2: \"))\n",
    "operator = str(input(\"Please Enter Operator (+, -, *, /): \"))\n",
    "\n",
    "if (operator == \"+\"):\n",
    "    print(num1 + num2)\n",
    "elif (operator == \"-\"):\n",
    "    print(num1 - num2)\n",
    "elif (operator == \"*\"):\n",
    "    print(num1 * num2)\n",
    "elif (operator == \"X\" or operator == \"x\"):\n",
    "    print(num1 * num2)\n",
    "elif (operator == \"/\"):\n",
    "    print(num1 / num2)"
   ]
  },
  {
   "cell_type": "markdown",
   "metadata": {},
   "source": [
    "### Vowel"
   ]
  },
  {
   "cell_type": "code",
   "execution_count": 4,
   "metadata": {},
   "outputs": [
    {
     "name": "stdout",
     "output_type": "stream",
     "text": [
      "Character is a Vowel.\n"
     ]
    }
   ],
   "source": [
    "a = str(input(\"Please Enter a Character: \"))\n",
    "\n",
    "vowels = [\"a\", \"e\", \"i\", \"o\", \"u\", \"A\", \"E\", \"I\", \"O\", \"U\"]\n",
    "\n",
    "if (a in vowels):\n",
    "    print(\"Character is a Vowel.\")\n",
    "else:\n",
    "    print(\"Character is not a Vowel.\")"
   ]
  },
  {
   "cell_type": "markdown",
   "metadata": {},
   "source": [
    "# Chapter 5"
   ]
  },
  {
   "cell_type": "markdown",
   "metadata": {},
   "source": [
    "### Odd Numbers"
   ]
  },
  {
   "cell_type": "code",
   "execution_count": 5,
   "metadata": {},
   "outputs": [
    {
     "name": "stdout",
     "output_type": "stream",
     "text": [
      "13\n",
      "15\n",
      "17\n",
      "19\n",
      "21\n",
      "23\n",
      "25\n",
      "27\n",
      "29\n",
      "31\n"
     ]
    }
   ],
   "source": [
    "number = int(input(\"Please Enter Number: \"))\n",
    "\n",
    "if(number % 2 == 0):\n",
    "    number = number + 1\n",
    "\n",
    "for i in range(number, number + 20, 2):\n",
    "    print(i)"
   ]
  },
  {
   "cell_type": "markdown",
   "metadata": {},
   "source": [
    "### Sum of Series"
   ]
  },
  {
   "cell_type": "markdown",
   "metadata": {},
   "source": [
    "#### Part 1"
   ]
  },
  {
   "cell_type": "code",
   "execution_count": 6,
   "metadata": {},
   "outputs": [
    {
     "name": "stdout",
     "output_type": "stream",
     "text": [
      "3.103210678210678\n"
     ]
    }
   ],
   "source": [
    "n = int(input(\"Please Enter Input: \"))\n",
    "totalSum = 0\n",
    "for i in range(1, n+1):\n",
    "    x = 1 / i\n",
    "    totalSum = totalSum + (x)\n",
    "    \n",
    "print(totalSum)"
   ]
  },
  {
   "cell_type": "markdown",
   "metadata": {},
   "source": [
    "#### Part 2"
   ]
  },
  {
   "cell_type": "code",
   "execution_count": 7,
   "metadata": {},
   "outputs": [
    {
     "name": "stdout",
     "output_type": "stream",
     "text": [
      "650\n"
     ]
    }
   ],
   "source": [
    "n = int(input(\"Please Enter Input: \"))\n",
    "totalSum = 0\n",
    "\n",
    "for i in range(1, n+1):\n",
    "    x = i ** 2\n",
    "    totalSum = totalSum + (x)\n",
    "    \n",
    "print(totalSum)"
   ]
  },
  {
   "cell_type": "markdown",
   "metadata": {},
   "source": [
    "#### Part 3"
   ]
  },
  {
   "cell_type": "code",
   "execution_count": 8,
   "metadata": {},
   "outputs": [
    {
     "name": "stdout",
     "output_type": "stream",
     "text": [
      "2660\n"
     ]
    }
   ],
   "source": [
    "currentNumber = 2\n",
    "prevNumber = 1\n",
    "\n",
    "totalSum = 0\n",
    "\n",
    "for i in range(1, 20):\n",
    "    totalSum = totalSum + (prevNumber * currentNumber)\n",
    "    prevNumber = currentNumber\n",
    "    currentNumber = currentNumber + 1\n",
    "print(totalSum)"
   ]
  },
  {
   "cell_type": "markdown",
   "metadata": {},
   "source": [
    "#### Part 4"
   ]
  },
  {
   "cell_type": "code",
   "execution_count": 9,
   "metadata": {},
   "outputs": [
    {
     "name": "stdout",
     "output_type": "stream",
     "text": [
      "-10\n"
     ]
    }
   ],
   "source": [
    "prevNumber = 2\n",
    "currentNumber = 4\n",
    "\n",
    "totalSum = 0\n",
    "\n",
    "flag = 0\n",
    "\n",
    "while (flag >= -20):\n",
    "    totalSum = totalSum + (prevNumber - currentNumber)\n",
    "    prevNumber = currentNumber + 2\n",
    "    currentNumber = currentNumber + 4\n",
    "    flag = -currentNumber\n",
    "\n",
    "print(totalSum)"
   ]
  },
  {
   "cell_type": "markdown",
   "metadata": {},
   "source": [
    "#### Part 5"
   ]
  },
  {
   "cell_type": "code",
   "execution_count": 10,
   "metadata": {},
   "outputs": [
    {
     "name": "stdout",
     "output_type": "stream",
     "text": [
      "26.692234063778013\n"
     ]
    }
   ],
   "source": [
    "a = int(input(\"Please Enter Numerator (a): \"))\n",
    "n = int(input(\"Please Enter n For Formula (2n - 1): \"))\n",
    "totalSum = 0\n",
    "\n",
    "for i in range(1, 2 * n, 2):\n",
    "    totalSum = totalSum + (a / i)\n",
    "print(totalSum)"
   ]
  },
  {
   "cell_type": "markdown",
   "metadata": {},
   "source": [
    "### WAP to accept a number and tell whether it is a prime number or composite number"
   ]
  },
  {
   "cell_type": "code",
   "execution_count": 12,
   "metadata": {},
   "outputs": [
    {
     "name": "stdout",
     "output_type": "stream",
     "text": [
      "Number is NOT Prime.\n"
     ]
    }
   ],
   "source": [
    "number = int(input(\"Please Enter Number Here: \"))\n",
    "x = 0\n",
    "\n",
    "for i in range(2, number):\n",
    "    if number%i == 0:\n",
    "        x = 1\n",
    "        \n",
    "if (x == 0):\n",
    "    print(\"Number is Prime.\")\n",
    "else:\n",
    "    print(\"Number is NOT Prime.\")"
   ]
  },
  {
   "cell_type": "markdown",
   "metadata": {},
   "source": [
    "### WAP to check weather a given number is composite number or not."
   ]
  },
  {
   "cell_type": "code",
   "execution_count": 13,
   "metadata": {},
   "outputs": [
    {
     "name": "stdout",
     "output_type": "stream",
     "text": [
      "Number is Composite.\n"
     ]
    }
   ],
   "source": [
    "number = int(input(\"Please Enter Number Here: \"))\n",
    "x = 0\n",
    "\n",
    "for i in range(2, number):\n",
    "    if number%i == 0:\n",
    "        x = 1\n",
    "        \n",
    "if (x == 0):\n",
    "    print(\"Number is Not Composite\")\n",
    "else:\n",
    "    print(\"Number is Composite.\")"
   ]
  },
  {
   "cell_type": "markdown",
   "metadata": {},
   "source": [
    "### WAP to Enter a Number and display the smallest digit from the number"
   ]
  },
  {
   "cell_type": "code",
   "execution_count": 14,
   "metadata": {},
   "outputs": [
    {
     "name": "stdout",
     "output_type": "stream",
     "text": [
      "1\n"
     ]
    }
   ],
   "source": [
    "number = int(input(\"Please Enter a Number: \"))\n",
    "lastDigit = 9\n",
    "x = 0\n",
    "\n",
    "\n",
    "while(number > 0):\n",
    "    digit = number % 10\n",
    "    number = number // 10\n",
    "    if (digit < lastDigit):\n",
    "        #x = digit\n",
    "        lastDigit = digit\n",
    "print(lastDigit)"
   ]
  },
  {
   "cell_type": "markdown",
   "metadata": {},
   "source": [
    "### WAP to Print the First 10 Natural Numbers"
   ]
  },
  {
   "cell_type": "code",
   "execution_count": 15,
   "metadata": {},
   "outputs": [
    {
     "name": "stdout",
     "output_type": "stream",
     "text": [
      "2 4 6 8 10 12 14 16 18 20 "
     ]
    }
   ],
   "source": [
    "for i in range(2, 21, 2):\n",
    "    print(i, end=\" \")"
   ]
  },
  {
   "cell_type": "markdown",
   "metadata": {},
   "source": [
    "### WAP TO Print the Square of First 10 Natural Numbers"
   ]
  },
  {
   "cell_type": "code",
   "execution_count": 16,
   "metadata": {},
   "outputs": [
    {
     "name": "stdout",
     "output_type": "stream",
     "text": [
      "1 to the Power of 2 = 1\n",
      "2 to the Power of 2 = 4\n",
      "3 to the Power of 2 = 9\n",
      "4 to the Power of 2 = 16\n",
      "5 to the Power of 2 = 25\n",
      "6 to the Power of 2 = 36\n",
      "7 to the Power of 2 = 49\n",
      "8 to the Power of 2 = 64\n",
      "9 to the Power of 2 = 81\n",
      "10 to the Power of 2 = 100\n"
     ]
    }
   ],
   "source": [
    "for i in range(1,11,1):\n",
    "    print(i, i ** 2, sep=\" to the Power of 2 = \")"
   ]
  },
  {
   "cell_type": "markdown",
   "metadata": {},
   "source": [
    "### WAP To Print the Sum of First 10 Natural Numbers"
   ]
  },
  {
   "cell_type": "code",
   "execution_count": 17,
   "metadata": {},
   "outputs": [
    {
     "name": "stdout",
     "output_type": "stream",
     "text": [
      "55\n"
     ]
    }
   ],
   "source": [
    "n = 0\n",
    "\n",
    "for i in range(1,11,1):\n",
    "    n = n + i\n",
    "print(n)"
   ]
  },
  {
   "cell_type": "markdown",
   "metadata": {},
   "source": [
    "### WAP to Print the sum of the First 10 Even Numbers"
   ]
  },
  {
   "cell_type": "code",
   "execution_count": 18,
   "metadata": {},
   "outputs": [
    {
     "name": "stdout",
     "output_type": "stream",
     "text": [
      "110\n"
     ]
    }
   ],
   "source": [
    "n = 0\n",
    "for i in range(2, 21, 2):\n",
    "    n = n + i\n",
    "print(n)"
   ]
  },
  {
   "cell_type": "markdown",
   "metadata": {},
   "source": [
    "### WAP to Print the SUM of the Squares of the First 10 Natural Numbers"
   ]
  },
  {
   "cell_type": "code",
   "execution_count": 19,
   "metadata": {},
   "outputs": [
    {
     "name": "stdout",
     "output_type": "stream",
     "text": [
      "1 to the Power of 2 = 1\n",
      "2 to the Power of 2 = 4\n",
      "3 to the Power of 2 = 9\n",
      "4 to the Power of 2 = 16\n",
      "5 to the Power of 2 = 25\n",
      "6 to the Power of 2 = 36\n",
      "7 to the Power of 2 = 49\n",
      "8 to the Power of 2 = 64\n",
      "9 to the Power of 2 = 81\n",
      "10 to the Power of 2 = 100\n",
      "\n",
      "Sum of First 10 Natural Number Squares: 385\n"
     ]
    }
   ],
   "source": [
    "n = 0\n",
    "\n",
    "for i in range(1,11,1):\n",
    "    n = n + (i ** 2)\n",
    "\n",
    "    print(i, i ** 2, sep=\" to the Power of 2 = \")\n",
    "print(\"\")\n",
    "print(\"Sum of First 10 Natural Number Squares: \" + str(n))"
   ]
  },
  {
   "cell_type": "markdown",
   "metadata": {},
   "source": [
    "### WAP to Print the Table of the Given Number"
   ]
  },
  {
   "cell_type": "code",
   "execution_count": 20,
   "metadata": {},
   "outputs": [
    {
     "name": "stdout",
     "output_type": "stream",
     "text": [
      "12  x  1  =  12\n",
      "12  x  2  =  24\n",
      "12  x  3  =  36\n",
      "12  x  4  =  48\n",
      "12  x  5  =  60\n",
      "12  x  6  =  72\n",
      "12  x  7  =  84\n",
      "12  x  8  =  96\n",
      "12  x  9  =  108\n",
      "12  x  10  =  120\n"
     ]
    }
   ],
   "source": [
    "n = int(input(\"Please Enter the Number of the Table that you want: \"))\n",
    "\n",
    "for i in range(1, 11, 1):\n",
    "    print(str(n), \" x \", str(i), \" = \", str(n * i))"
   ]
  },
  {
   "cell_type": "markdown",
   "metadata": {},
   "source": [
    "### Write a Program to accept 10 numbers from the user and display only the even numbers."
   ]
  },
  {
   "cell_type": "code",
   "execution_count": 24,
   "metadata": {},
   "outputs": [
    {
     "name": "stdout",
     "output_type": "stream",
     "text": [
      "12 84 472 204 32 "
     ]
    }
   ],
   "source": [
    "a = []\n",
    "for i in range(1, 11):\n",
    "    i = int(input(\"Please Enter Number \" + str(i) + \":\"))\n",
    "    a.append(i)\n",
    "for j in a:\n",
    "    if(j % 2 == 0):\n",
    "        print(j, end=\" \")\n",
    "    else:\n",
    "        continue"
   ]
  },
  {
   "cell_type": "markdown",
   "metadata": {},
   "source": [
    "### Write a Program to accept 10 numbers from the user and display the largest number."
   ]
  },
  {
   "cell_type": "code",
   "execution_count": 25,
   "metadata": {},
   "outputs": [
    {
     "name": "stdout",
     "output_type": "stream",
     "text": [
      "1238123\n"
     ]
    }
   ],
   "source": [
    "a = []\n",
    "for i in range(1, 11):\n",
    "    i = int(input(\"Please Enter Number \" + str(i) + \":\"))\n",
    "    a.append(i)\n",
    "\n",
    "a.sort()\n",
    "print(a[9])"
   ]
  },
  {
   "cell_type": "markdown",
   "metadata": {},
   "source": [
    "### Write a Program to accept 10 numbers from the user and display the smallest number."
   ]
  },
  {
   "cell_type": "code",
   "execution_count": 26,
   "metadata": {},
   "outputs": [
    {
     "name": "stdout",
     "output_type": "stream",
     "text": [
      "1\n"
     ]
    }
   ],
   "source": [
    "a = []\n",
    "for i in range(1, 11):\n",
    "    i = int(input(\"Please Enter Number \" + str(i) + \":\"))\n",
    "    a.append(i)\n",
    "\n",
    "a.sort()\n",
    "print(a[0])"
   ]
  },
  {
   "cell_type": "markdown",
   "metadata": {},
   "source": [
    "### Write a Program to print first 10 even number in reverse order."
   ]
  },
  {
   "cell_type": "code",
   "execution_count": 27,
   "metadata": {},
   "outputs": [
    {
     "name": "stdout",
     "output_type": "stream",
     "text": [
      "22\n",
      "20\n",
      "18\n",
      "16\n",
      "14\n",
      "12\n",
      "10\n",
      "8\n",
      "6\n",
      "4\n",
      "2\n"
     ]
    }
   ],
   "source": [
    "for i in range(22, 1, -2):\n",
    "    print(i)"
   ]
  },
  {
   "cell_type": "markdown",
   "metadata": {},
   "source": [
    "### Write an Algorithm To Print First 10 Natural Numbers"
   ]
  },
  {
   "cell_type": "raw",
   "metadata": {
    "vscode": {
     "languageId": "raw"
    }
   },
   "source": [
    "1. START\n",
    "2. SET Variable i equal to 1\n",
    "3. Display i\n",
    "4. Add 1 to i\n",
    "5. if i is equal to 11, goto step 7, else goto step 6\n",
    "6. Goto Step 3\n",
    "7. STOP"
   ]
  },
  {
   "cell_type": "markdown",
   "metadata": {},
   "source": [
    "# Chapter 6"
   ]
  },
  {
   "cell_type": "markdown",
   "metadata": {},
   "source": [
    "### WAP to enter a 3 word name, and, get the initials of the name"
   ]
  },
  {
   "cell_type": "code",
   "execution_count": 28,
   "metadata": {},
   "outputs": [
    {
     "name": "stdout",
     "output_type": "stream",
     "text": [
      "KPV\n"
     ]
    }
   ],
   "source": [
    "string = str(input(\"Please Enter 3 Word Name: \"))\n",
    "split_string = string.split()\n",
    "import sys\n",
    "\n",
    "if len(split_string) == 3:\n",
    "    in1 = split_string[0][0:1]\n",
    "    in2 = split_string[1][0:1]\n",
    "    in3 = split_string[2][0:1]\n",
    "\n",
    "    print(in1 + in2 + in3)\n",
    "\n",
    "else:\n",
    "    print(\"Please Enter a 3 Word Name.\")\n",
    "    sys.exit()"
   ]
  },
  {
   "cell_type": "markdown",
   "metadata": {},
   "source": [
    "### WAP to enter a string and count words and letters."
   ]
  },
  {
   "cell_type": "code",
   "execution_count": 30,
   "metadata": {},
   "outputs": [
    {
     "name": "stdout",
     "output_type": "stream",
     "text": [
      "String Inputted: Hello, This is Pranav Verma\n",
      "Number of Letters: 22\n",
      "Number of Words: 5\n"
     ]
    }
   ],
   "source": [
    "string = str(input(\"Please Enter String: \"))\n",
    "print(\"String Inputted: \" + string)\n",
    "split_string = string.split()\n",
    "\n",
    "count_1 = 0\n",
    "count_2 = 0\n",
    "\n",
    "\n",
    "for i in string:\n",
    "    if i.isalpha():\n",
    "        count_1 = count_1 + 1\n",
    "    else:\n",
    "        continue\n",
    "for j in split_string:\n",
    "    count_2 = count_2 + 1\n",
    "\n",
    "print(\"Number of Letters: \" + str(count_1))\n",
    "print(\"Number of Words: \" + str(count_2))"
   ]
  },
  {
   "cell_type": "markdown",
   "metadata": {},
   "source": [
    "### WAP to Count the Number of Each Vowel in a Given String."
   ]
  },
  {
   "cell_type": "code",
   "execution_count": 3,
   "metadata": {},
   "outputs": [
    {
     "name": "stdout",
     "output_type": "stream",
     "text": [
      "Inputted String: Hi! My Name is Pranav Verma\n",
      "Vowel counts:\n",
      "A: 4\n",
      "E: 2\n",
      "I: 2\n",
      "O: 0\n",
      "U: 0\n"
     ]
    }
   ],
   "source": [
    "input_string = str(input(\"Enter a string: \"))\n",
    "print(\"Inputted String: \" + input_string)\n",
    "input_string = input_string.lower()\n",
    "\n",
    "a_count = 0\n",
    "e_count = 0\n",
    "i_count = 0\n",
    "o_count = 0\n",
    "u_count = 0\n",
    "\n",
    "for char in input_string:\n",
    "    if char == 'a':\n",
    "        a_count += 1\n",
    "    elif char == 'e':\n",
    "        e_count += 1\n",
    "    elif char == 'i':\n",
    "        i_count += 1\n",
    "    elif char == 'o':\n",
    "        o_count += 1\n",
    "    elif char == 'u':\n",
    "        u_count += 1\n",
    "\n",
    "print(\"Vowel counts:\")\n",
    "print(\"A:\", a_count)\n",
    "print(\"E:\", e_count)\n",
    "print(\"I:\", i_count)\n",
    "print(\"O:\", o_count)\n",
    "print(\"U:\", u_count)"
   ]
  },
  {
   "cell_type": "markdown",
   "metadata": {},
   "source": [
    "### WAP that reads a line, then counts how many times the word 'is' appears in the line and displays the content."
   ]
  },
  {
   "cell_type": "code",
   "execution_count": 4,
   "metadata": {},
   "outputs": [
    {
     "name": "stdout",
     "output_type": "stream",
     "text": [
      "Original line: This is Coded in Python.\n",
      "Number of times 'is' appears: 1\n"
     ]
    }
   ],
   "source": [
    "input_line = input(\"Enter a line of text: \")\n",
    "\n",
    "words = input_line.lower().split()\n",
    "\n",
    "is_count = 0\n",
    "\n",
    "for word in words:\n",
    "    if word == 'is':\n",
    "        is_count += 1\n",
    "\n",
    "print(\"Original line:\", input_line)\n",
    "print(\"Number of times 'is' appears:\", is_count)"
   ]
  },
  {
   "cell_type": "markdown",
   "metadata": {},
   "source": [
    "### WAP to remove 'i' (if any) from a string."
   ]
  },
  {
   "cell_type": "code",
   "execution_count": 5,
   "metadata": {},
   "outputs": [
    {
     "name": "stdout",
     "output_type": "stream",
     "text": [
      "Original string: Hello! This is Coded in Python!\n",
      "String after removing 'i': Hello! Ths s Coded n Python!\n"
     ]
    }
   ],
   "source": [
    "input_string = input(\"Enter a string: \")\n",
    "\n",
    "result = \"\"\n",
    "\n",
    "for char in input_string:\n",
    "    if char.lower() != 'i':\n",
    "        result += char\n",
    "\n",
    "print(\"Original string:\", input_string)\n",
    "print(\"String after removing 'i':\", result)"
   ]
  }
 ],
 "metadata": {
  "kernelspec": {
   "display_name": "Python 3 (ipykernel)",
   "language": "python",
   "name": "python3"
  },
  "language_info": {
   "codemirror_mode": {
    "name": "ipython",
    "version": 3
   },
   "file_extension": ".py",
   "mimetype": "text/x-python",
   "name": "python",
   "nbconvert_exporter": "python",
   "pygments_lexer": "ipython3",
   "version": "3.12.4"
  }
 },
 "nbformat": 4,
 "nbformat_minor": 4
}

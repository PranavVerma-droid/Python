{
 "cells": [
  {
   "cell_type": "markdown",
   "metadata": {},
   "source": [
    "### Python Program to Replace all Occurrences of ‘a’ with $ in a String "
   ]
  },
  {
   "cell_type": "code",
   "execution_count": 7,
   "metadata": {},
   "outputs": [
    {
     "name": "stdout",
     "output_type": "stream",
     "text": [
      "Original string: aaa\n",
      "Modified string: $$$\n"
     ]
    }
   ],
   "source": [
    "input_string = input(\"Enter a string: \")\n",
    "result = input_string.replace('a', '$')\n",
    "\n",
    "print(\"Original string:\", input_string)\n",
    "print(\"Modified string:\", result)"
   ]
  },
  {
   "cell_type": "markdown",
   "metadata": {},
   "source": [
    "### Python Program to Remove the nth Index Character from a Non-Empty String"
   ]
  },
  {
   "cell_type": "code",
   "execution_count": 8,
   "metadata": {},
   "outputs": [
    {
     "name": "stdout",
     "output_type": "stream",
     "text": [
      "Helo\n"
     ]
    }
   ],
   "source": [
    "n = int(input(\"Please Enter nth Index Value: \"))\n",
    "string = str(input(\"Please Enter String: \"))\n",
    "\n",
    "result = string[:n] + string[n+1:]\n",
    "print(result)"
   ]
  },
  {
   "cell_type": "markdown",
   "metadata": {},
   "source": [
    "### Python Program to Detect if Two Strings are Anagrams "
   ]
  },
  {
   "cell_type": "code",
   "execution_count": 20,
   "metadata": {},
   "outputs": [
    {
     "name": "stdout",
     "output_type": "stream",
     "text": [
      "String 1 Entered: Anagram\n",
      "String 2 Entered: Nagaram\n",
      "They are Anagrams!\n"
     ]
    }
   ],
   "source": [
    "string_1 = str(input(\"Please Enter String 1: \"))\n",
    "string_2 = str(input(\"Please Enter String 2: \"))\n",
    "\n",
    "print(\"String 1 Entered: \" + string_1)\n",
    "print(\"String 2 Entered: \" + string_2)\n",
    "\n",
    "if (sorted(string_1.lower().strip()) == sorted(string_2.lower().strip())):\n",
    "    print(\"They are Anagrams!\")\n",
    "else:\n",
    "    print(\"They are not Anagrams.\")"
   ]
  },
  {
   "cell_type": "markdown",
   "metadata": {},
   "source": [
    "### Python Program to Form a New String where the First Character and the Last Character have been Exchanged "
   ]
  },
  {
   "cell_type": "code",
   "execution_count": 23,
   "metadata": {},
   "outputs": [
    {
     "name": "stdout",
     "output_type": "stream",
     "text": [
      "Inputted String: Hello\n",
      "oellH\n"
     ]
    }
   ],
   "source": [
    "string = str(input(\"Please Enter String: \"))\n",
    "count = 0\n",
    "\n",
    "print(\"Inputted String: \" + string)\n",
    "\n",
    "for i in string:\n",
    "    count += 1\n",
    "\n",
    "index = count - 1\n",
    "\n",
    "result = string[index] + string[1:index] + string[0]\n",
    "print(result)"
   ]
  },
  {
   "cell_type": "markdown",
   "metadata": {},
   "source": [
    "### Python Program to Take in a String and Replace Every Blank Space with Hyphen "
   ]
  },
  {
   "cell_type": "code",
   "execution_count": 26,
   "metadata": {},
   "outputs": [
    {
     "name": "stdout",
     "output_type": "stream",
     "text": [
      "Original String: Hello World\n",
      "New String: Hello-World\n"
     ]
    }
   ],
   "source": [
    "string = str(input(\"Please Enter String: \"))\n",
    "\n",
    "print(\"Original String: \" + string)\n",
    "\n",
    "string = string.replace(\" \", \"-\")\n",
    "\n",
    "print(\"New String: \" + string)"
   ]
  },
  {
   "cell_type": "markdown",
   "metadata": {},
   "source": [
    "### Python Program to Calculate the Length of a String Without Using a Library Function "
   ]
  },
  {
   "cell_type": "code",
   "execution_count": 29,
   "metadata": {},
   "outputs": [
    {
     "name": "stdout",
     "output_type": "stream",
     "text": [
      "String Entered: Hello World\n",
      "Length of String: 11\n"
     ]
    }
   ],
   "source": [
    "string = str(input(\"Please Enter String: \"))\n",
    "\n",
    "count = 0\n",
    "\n",
    "for i in string:\n",
    "    count += 1\n",
    "\n",
    "print(\"String Entered: \" + string)\n",
    "print(\"Length of String: \" + str(count))"
   ]
  },
  {
   "cell_type": "markdown",
   "metadata": {},
   "source": [
    "### Python Program to Remove the Characters of Odd Index Values in a String "
   ]
  },
  {
   "cell_type": "code",
   "execution_count": 33,
   "metadata": {},
   "outputs": [
    {
     "name": "stdout",
     "output_type": "stream",
     "text": [
      "String Inputted: Hello World\n",
      "String Output: HloWrd\n"
     ]
    }
   ],
   "source": [
    "string = str(input(\"Please Enter String: \"))\n",
    "result = \"\"\n",
    "\n",
    "print(\"String Inputted: \" + string)\n",
    "\n",
    "for i in range(0, len(string), 2):\n",
    "    result = result + string[i]\n",
    "\n",
    "print(\"String Output: \" + result)"
   ]
  },
  {
   "cell_type": "markdown",
   "metadata": {},
   "source": [
    "### Python Program to Take in Two Strings and Display the Larger String without Using Built-in Functions "
   ]
  },
  {
   "cell_type": "code",
   "execution_count": 35,
   "metadata": {},
   "outputs": [
    {
     "name": "stdout",
     "output_type": "stream",
     "text": [
      "String 1: Hello World\n",
      "String 2: Python\n",
      "String 1 is Bigger.\n"
     ]
    }
   ],
   "source": [
    "string_1 = str(input(\"Please Enter String 1: \")).strip()\n",
    "string_2 = str(input(\"Please Enter String 2: \")).strip()\n",
    "\n",
    "print(\"String 1: \" + string_1)\n",
    "print(\"String 2: \" + string_2)\n",
    "\n",
    "count_1 = 0\n",
    "count_2 = 0\n",
    "\n",
    "for i in string_1:\n",
    "    count_1 += 1\n",
    "for j in string_2:\n",
    "    count_2 += 1\n",
    "\n",
    "if count_1 > count_2:\n",
    "    print(\"String 1 is Bigger.\")\n",
    "elif count_1 < count_2:\n",
    "    print(\"String 2 is Bigger.\")\n",
    "else:\n",
    "    print(\"The Strings are Equal.\")"
   ]
  },
  {
   "cell_type": "markdown",
   "metadata": {},
   "source": [
    "### Python Program to Count Number of Lowercase Characters in a String "
   ]
  },
  {
   "cell_type": "code",
   "execution_count": 37,
   "metadata": {},
   "outputs": [
    {
     "name": "stdout",
     "output_type": "stream",
     "text": [
      "Inputted String: Hello\n",
      "No. of Lowercase Characters: 4\n"
     ]
    }
   ],
   "source": [
    "string = str(input(\"Please Enter String: \"))\n",
    "print(\"Inputted String: \" + string)\n",
    "count = 0\n",
    "\n",
    "for i in string:\n",
    "    if i.islower():\n",
    "        count += 1\n",
    "    else:\n",
    "        continue\n",
    "\n",
    "print(\"No. of Lowercase Characters: \" + str(count))"
   ]
  },
  {
   "cell_type": "markdown",
   "metadata": {},
   "source": [
    "### Python Program to Check if a String is a Palindrome or Not "
   ]
  },
  {
   "cell_type": "code",
   "execution_count": 56,
   "metadata": {},
   "outputs": [
    {
     "name": "stdout",
     "output_type": "stream",
     "text": [
      "String Entered: lol\n",
      "It is a Palindrome!\n"
     ]
    }
   ],
   "source": [
    "string_1 = str(input(\"Please Enter String: \")).lower().strip()\n",
    "print(\"String Entered: \" + string_1)\n",
    "reversed_string_1 = \"\"\n",
    "\n",
    "for i in range(0, len(string_1)):\n",
    "    reversed_string_1 = reversed_string_1 + string_1[(len(string_1) - 1) - i]\n",
    "\n",
    "if string_1 == reversed_string_1:\n",
    "    print(\"It is a Palindrome!\")\n",
    "else:\n",
    "    print(\"It is not a Palindrome.\")"
   ]
  },
  {
   "cell_type": "markdown",
   "metadata": {},
   "source": [
    "### Python Program to Calculate the Number of Upper Case Letters and Lower Case Letters in a String "
   ]
  },
  {
   "cell_type": "code",
   "execution_count": 58,
   "metadata": {},
   "outputs": [
    {
     "name": "stdout",
     "output_type": "stream",
     "text": [
      "String Entered: Hello World\n",
      "Upper Count: 2\n",
      "Lower Count: 8\n"
     ]
    }
   ],
   "source": [
    "string = str(input(\"Please Enter String: \"))\n",
    "\n",
    "upper_count = 0\n",
    "lower_count = 0\n",
    "\n",
    "for i in string:\n",
    "    if i.isupper():\n",
    "        upper_count += 1\n",
    "    elif i.islower():\n",
    "        lower_count += 1   \n",
    "    else:\n",
    "        continue\n",
    "\n",
    "print(\"String Entered: \" + string)\n",
    "print(\"Upper Count: \" + str(upper_count))\n",
    "print(\"Lower Count: \" + str(lower_count))"
   ]
  },
  {
   "cell_type": "markdown",
   "metadata": {},
   "source": [
    "### Python Program to Check if a String is a Pangram or Not "
   ]
  },
  {
   "cell_type": "code",
   "execution_count": 79,
   "metadata": {},
   "outputs": [
    {
     "name": "stdout",
     "output_type": "stream",
     "text": [
      "abcdefghijklmnopqrstuvwxyz\n",
      "Pangram\n"
     ]
    }
   ],
   "source": [
    "string = str(input(\"Please Enter String: \"))\n",
    "string = sorted(string.lower().strip().replace(\" \", \"\").replace(\".\", \"\"))\n",
    "\n",
    "result = \"\"\n",
    "\n",
    "for i in string:\n",
    "    result += i\n",
    "\n",
    "alphabet = \"abcdefghijklmnopqrstuvwxyz\"\n",
    "print(result)\n",
    "\n",
    "if alphabet in result:\n",
    "    print(\"Pangram\")\n",
    "else:\n",
    "    print(\"Not a Pangram\")"
   ]
  },
  {
   "cell_type": "markdown",
   "metadata": {},
   "source": [
    "### Python Program to Accept a Hyphen Separated Sequence of Words as Input and Print the Words in a Hyphen-Separated Sequence after Sorting them Alphabetically "
   ]
  },
  {
   "cell_type": "code",
   "execution_count": 87,
   "metadata": {},
   "outputs": [
    {
     "name": "stdout",
     "output_type": "stream",
     "text": [
      "String Entered: a-b-f-e-h-t-d-k-i-o\n",
      "Final String: a-b-d-e-f-h-i-k-o-t\n"
     ]
    }
   ],
   "source": [
    "string = str(input(\"Please Enter the String: \")).lower()\n",
    "print(\"String Entered: \" + string)\n",
    "\n",
    "split_string = string.lower().split(\"-\")\n",
    "\n",
    "split_string.sort()\n",
    "\n",
    "final = \"-\".join(split_string)\n",
    "\n",
    "print(\"Final String: \" + final)"
   ]
  },
  {
   "cell_type": "markdown",
   "metadata": {},
   "source": [
    "### Python Program to Form a New String Made of the First 2 and Last 2 characters From a Given String "
   ]
  },
  {
   "cell_type": "code",
   "execution_count": 93,
   "metadata": {},
   "outputs": [
    {
     "name": "stdout",
     "output_type": "stream",
     "text": [
      "String Inputted: Hello World!\n",
      "Final String: Hed!\n"
     ]
    }
   ],
   "source": [
    "string = str(input(\"Please Enter String: \"))\n",
    "print(\"String Inputted: \" + string)\n",
    "\n",
    "new_string = string[0:2] + string[len(string)-2 : len(string)]\n",
    "print(\"Final String: \" + new_string)"
   ]
  }
 ],
 "metadata": {
  "kernelspec": {
   "display_name": "base",
   "language": "python",
   "name": "python3"
  },
  "language_info": {
   "codemirror_mode": {
    "name": "ipython",
    "version": 3
   },
   "file_extension": ".py",
   "mimetype": "text/x-python",
   "name": "python",
   "nbconvert_exporter": "python",
   "pygments_lexer": "ipython3",
   "version": "3.12.4"
  }
 },
 "nbformat": 4,
 "nbformat_minor": 2
}

{
 "cells": [
  {
   "cell_type": "markdown",
   "metadata": {},
   "source": [
    "# Half Yearly Practice Code"
   ]
  },
  {
   "cell_type": "code",
   "execution_count": 11,
   "metadata": {},
   "outputs": [
    {
     "name": "stdout",
     "output_type": "stream",
     "text": [
      "140724262615480\n",
      "140724262615512\n",
      "140724262615544\n",
      "140724262615576\n",
      "140724262615608\n",
      "140724262615640\n",
      "140724262615672\n",
      "140724262615704\n",
      "140724262615736\n",
      "[0, 1, 2, 3, 4, 5, 6, 7, 8, 9]\n"
     ]
    }
   ],
   "source": [
    "list = [0]; list1 = 0\n",
    "\n",
    "for i in range(1, 10):\n",
    "    list.append(i)\n",
    "    print(id(list[i]))\n",
    "print(list)"
   ]
  },
  {
   "cell_type": "code",
   "execution_count": 15,
   "metadata": {},
   "outputs": [
    {
     "name": "stdout",
     "output_type": "stream",
     "text": [
      "1 2 3 4 5 6 7 8 9 "
     ]
    }
   ],
   "source": [
    "a = range(1, 10)\n",
    "\n",
    "for i in a:\n",
    "    print(i, end=\" \")"
   ]
  },
  {
   "cell_type": "code",
   "execution_count": 3,
   "metadata": {},
   "outputs": [
    {
     "name": "stdout",
     "output_type": "stream",
     "text": [
      "['12', 'Helo']\n"
     ]
    }
   ],
   "source": [
    "list = []\n",
    "while True:\n",
    "    a = input(\"Please Enter a Number: \")\n",
    "    if a == \"0\":\n",
    "        break\n",
    "    else:\n",
    "        list.append(a)\n",
    "\n",
    "print(list)\n"
   ]
  },
  {
   "cell_type": "code",
   "execution_count": 18,
   "metadata": {},
   "outputs": [
    {
     "name": "stdout",
     "output_type": "stream",
     "text": [
      "Hello \f I am Pranav\n",
      "\n",
      "Hello I am Prana\n",
      "\n",
      "Hello \n",
      "I am Pranav\n",
      "\n",
      "Hello \tI am Pranav\n",
      "\n",
      "Hello \u000b I am Pranav\n",
      "\n",
      "Hello \u0007 I am Pranav\n",
      "\n",
      " I am Pranav\n",
      "\n"
     ]
    }
   ],
   "source": [
    "str = \"Hello \\f I am Pranav\"\n",
    "print(str)\n",
    "print(\"\")\n",
    "str = \"Hello I am Pranav\\b\"\n",
    "print(str)\n",
    "print(\"\")\n",
    "str = \"Hello \\nI am Pranav\"\n",
    "print(str)\n",
    "print(\"\")\n",
    "str = \"Hello \\tI am Pranav\"\n",
    "print(str)\n",
    "print(\"\")\n",
    "str = \"Hello \\v I am Pranav\"\n",
    "print(str)\n",
    "print(\"\")\n",
    "str = \"Hello \\a I am Pranav\"\n",
    "print(str)\n",
    "print(\"\")\n",
    "str = \"Hello \\r I am Pranav\"\n",
    "print(str)\n",
    "print(\"\")"
   ]
  },
  {
   "cell_type": "code",
   "execution_count": 24,
   "metadata": {},
   "outputs": [
    {
     "name": "stdout",
     "output_type": "stream",
     "text": [
      "Hello I am Pranav\n",
      "Hello I am Pranav"
     ]
    }
   ],
   "source": [
    "str = \"Hello I am Pranav\"\n",
    "for char in str:\n",
    "    print(char, end=\"\")\n",
    "\n",
    "print(\"\")\n",
    "\n",
    "i = 0\n",
    "while i < len(str):\n",
    "    print(str[i], end=\"\")\n",
    "    i += 1"
   ]
  },
  {
   "cell_type": "code",
   "execution_count": 36,
   "metadata": {},
   "outputs": [
    {
     "name": "stdout",
     "output_type": "stream",
     "text": [
      "Opposite is the Same!\n",
      "<class 'str'> <class 'str'>\n"
     ]
    }
   ],
   "source": [
    "str = input(\"Please Enter a String: \").lower()\n",
    "rev_str = str[::-1]\n",
    "\n",
    "if rev_str == str:\n",
    "    print(\"Opposite is the Same!\")\n",
    "else:\n",
    "    print(\"Not the Same.\")\n",
    "\n",
    "print(type(str), type(rev_str))"
   ]
  },
  {
   "cell_type": "code",
   "execution_count": 37,
   "metadata": {},
   "outputs": [
    {
     "name": "stdout",
     "output_type": "stream",
     "text": [
      "musttry\n",
      "mustmustmust\n"
     ]
    },
    {
     "ename": "TypeError",
     "evalue": "can only concatenate str (not \"int\") to str",
     "output_type": "error",
     "traceback": [
      "\u001b[1;31m---------------------------------------------------------------------------\u001b[0m",
      "\u001b[1;31mTypeError\u001b[0m                                 Traceback (most recent call last)",
      "Cell \u001b[1;32mIn[37], line 7\u001b[0m\n\u001b[0;32m      5\u001b[0m \u001b[38;5;28mprint\u001b[39m(s1\u001b[38;5;241m+\u001b[39ms2)\n\u001b[0;32m      6\u001b[0m \u001b[38;5;28mprint\u001b[39m(s1\u001b[38;5;241m*\u001b[39mn2)\n\u001b[1;32m----> 7\u001b[0m \u001b[38;5;28mprint\u001b[39m(\u001b[43ms1\u001b[49m\u001b[38;5;241;43m+\u001b[39;49m\u001b[43mn1\u001b[49m)\n\u001b[0;32m      8\u001b[0m \u001b[38;5;28mprint\u001b[39m(s2\u001b[38;5;241m*\u001b[39ms1)\n",
      "\u001b[1;31mTypeError\u001b[0m: can only concatenate str (not \"int\") to str"
     ]
    }
   ],
   "source": [
    "s1 = \"must\"\n",
    "s2 = \"try\"\n",
    "n1=10\n",
    "n2=3\n",
    "print(s1+s2)\n",
    "print(s1*n2)\n",
    "print(s1+n1)\n",
    "print(s2*s1)"
   ]
  },
  {
   "cell_type": "code",
   "execution_count": 39,
   "metadata": {},
   "outputs": [
    {
     "name": "stdout",
     "output_type": "stream",
     "text": [
      "None\n"
     ]
    },
    {
     "ename": "TypeError",
     "evalue": "unsupported operand type(s) for +: 'NoneType' and 'int'",
     "output_type": "error",
     "traceback": [
      "\u001b[1;31m---------------------------------------------------------------------------\u001b[0m",
      "\u001b[1;31mTypeError\u001b[0m                                 Traceback (most recent call last)",
      "Cell \u001b[1;32mIn[39], line 4\u001b[0m\n\u001b[0;32m      2\u001b[0m An \u001b[38;5;241m=\u001b[39m L1\u001b[38;5;241m.\u001b[39mremove(\u001b[38;5;241m31\u001b[39m)\n\u001b[0;32m      3\u001b[0m \u001b[38;5;28mprint\u001b[39m(An)\n\u001b[1;32m----> 4\u001b[0m \u001b[38;5;28mprint\u001b[39m(\u001b[43mAn\u001b[49m\u001b[43m \u001b[49m\u001b[38;5;241;43m+\u001b[39;49m\u001b[43m \u001b[49m\u001b[38;5;241;43m2\u001b[39;49m)\n",
      "\u001b[1;31mTypeError\u001b[0m: unsupported operand type(s) for +: 'NoneType' and 'int'"
     ]
    }
   ],
   "source": [
    "L1 = [1, 11, 21, 31]\n",
    "An = L1.remove(31)\n",
    "print(An)\n",
    "print(An + 2)"
   ]
  },
  {
   "cell_type": "code",
   "execution_count": 41,
   "metadata": {},
   "outputs": [
    {
     "ename": "TypeError",
     "evalue": "unsupported operand type(s) for -: 'list' and 'list'",
     "output_type": "error",
     "traceback": [
      "\u001b[1;31m---------------------------------------------------------------------------\u001b[0m",
      "\u001b[1;31mTypeError\u001b[0m                                 Traceback (most recent call last)",
      "Cell \u001b[1;32mIn[41], line 4\u001b[0m\n\u001b[0;32m      1\u001b[0m list1 \u001b[38;5;241m=\u001b[39m [\u001b[38;5;124m\"\u001b[39m\u001b[38;5;124mH1\u001b[39m\u001b[38;5;124m\"\u001b[39m, \u001b[38;5;124m\"\u001b[39m\u001b[38;5;124mHello\u001b[39m\u001b[38;5;124m\"\u001b[39m, \u001b[38;5;124m\"\u001b[39m\u001b[38;5;124mHi\u001b[39m\u001b[38;5;124m\"\u001b[39m]\n\u001b[0;32m      2\u001b[0m list2 \u001b[38;5;241m=\u001b[39m [\u001b[38;5;124m\"\u001b[39m\u001b[38;5;124mHello\u001b[39m\u001b[38;5;124m\"\u001b[39m]\n\u001b[1;32m----> 4\u001b[0m new_list \u001b[38;5;241m=\u001b[39m \u001b[43mlist1\u001b[49m\u001b[43m \u001b[49m\u001b[38;5;241;43m-\u001b[39;49m\u001b[43m \u001b[49m\u001b[43mlist2\u001b[49m\n\u001b[0;32m      5\u001b[0m \u001b[38;5;28mprint\u001b[39m(new_list)\n",
      "\u001b[1;31mTypeError\u001b[0m: unsupported operand type(s) for -: 'list' and 'list'"
     ]
    }
   ],
   "source": [
    "list1 = [\"H1\", \"Hello\", \"Hi\"]\n",
    "list2 = [\"Hello\"]\n",
    "\n",
    "new_list = list1 - list2\n",
    "print(new_list)"
   ]
  },
  {
   "cell_type": "code",
   "execution_count": 47,
   "metadata": {},
   "outputs": [
    {
     "name": "stdout",
     "output_type": "stream",
     "text": [
      "('Hello', (1, 2), 'Hello', (1, 2), 'Hello')\n",
      "\n",
      "5\n"
     ]
    }
   ],
   "source": [
    "Tup1= ((1,2), \"Hello\") * 7\n",
    "print(Tup1[3:8])\n",
    "print()\n",
    "print(len(Tup1[3:8]))"
   ]
  },
  {
   "cell_type": "code",
   "execution_count": 48,
   "metadata": {},
   "outputs": [
    {
     "name": "stdout",
     "output_type": "stream",
     "text": [
      "6\n"
     ]
    }
   ],
   "source": [
    "string = input(\"Please Enter String: \")\n",
    "finalSum = 0\n",
    "for i in string:\n",
    "    if i.isdigit():\n",
    "        finalSum += int(i)\n",
    "    else:\n",
    "        continue\n",
    "print(finalSum)"
   ]
  },
  {
   "cell_type": "code",
   "execution_count": 53,
   "metadata": {},
   "outputs": [
    {
     "name": "stdout",
     "output_type": "stream",
     "text": [
      "[8, 2, [3, 'Python', 4], 'CBSE']\n"
     ]
    }
   ],
   "source": [
    "Demo=[1,2,[3,\"Python\",4],\"CBSE\"]\n",
    "Demo[0]=8\n",
    "print(Demo[0:4])"
   ]
  },
  {
   "cell_type": "code",
   "execution_count": 57,
   "metadata": {},
   "outputs": [
    {
     "name": "stdout",
     "output_type": "stream",
     "text": [
      "True\n"
     ]
    }
   ],
   "source": [
    "str = \"12345\"\n",
    "\n",
    "print(str.isnumeric())"
   ]
  },
  {
   "cell_type": "code",
   "execution_count": 67,
   "metadata": {},
   "outputs": [
    {
     "name": "stdout",
     "output_type": "stream",
     "text": [
      "6.0 2.0 3.0 1.0\n"
     ]
    }
   ],
   "source": [
    "totalsum = 0\n",
    "totalNumbers = 0\n",
    "maxValue = 0\n",
    "minValue = float('inf')\n",
    "while True:\n",
    "    intInput = float(input(\"Please Enter Value: \"))\n",
    "    if intInput < 0:\n",
    "        break\n",
    "    else:\n",
    "        totalsum = totalsum + intInput\n",
    "        totalNumbers = totalNumbers + 1\n",
    "        if intInput > maxValue:\n",
    "            maxValue = intInput\n",
    "        if intInput < minValue:\n",
    "            minValue = intInput\n",
    "\n",
    "print(totalsum, totalsum/totalNumbers, maxValue, minValue)"
   ]
  },
  {
   "cell_type": "code",
   "execution_count": 75,
   "metadata": {},
   "outputs": [
    {
     "name": "stdout",
     "output_type": "stream",
     "text": [
      "45\n"
     ]
    }
   ],
   "source": [
    "num = 1\n",
    "low = 0\n",
    "a=0\n",
    "while True:\n",
    "    num = int(input(\"Please enter num: \"))\n",
    "    if num >= 0:\n",
    "        while a==0:\n",
    "            low=num\n",
    "            a=1\n",
    "        if num<low:\n",
    "            low=num\n",
    "    else:\n",
    "        break\n",
    "print(low)"
   ]
  },
  {
   "cell_type": "code",
   "execution_count": 84,
   "metadata": {},
   "outputs": [
    {
     "name": "stdout",
     "output_type": "stream",
     "text": [
      "1 -4 7 -10 13 -16 19 -22 25 -28 31 -34 37 -40 "
     ]
    }
   ],
   "source": [
    "index = 0\n",
    "for i in range(1, 41, 3):\n",
    "    index = index + 1\n",
    "    if index % 2 == 0:\n",
    "        print(-i, end=\" \")\n",
    "    else:\n",
    "        print(i, end=\" \")"
   ]
  },
  {
   "cell_type": "code",
   "execution_count": 91,
   "metadata": {},
   "outputs": [
    {
     "name": "stdout",
     "output_type": "stream",
     "text": [
      "0 1 1 2 3 5 8 13 21 34 55 "
     ]
    }
   ],
   "source": [
    "n = int(input(\"Please Enter Number of Terms: \"))\n",
    "n = n - 3\n",
    "print(\"0 1 1\", end=\" \")\n",
    "\n",
    "\n",
    "\n",
    "previousValue = 1\n",
    "currentValue = 1\n",
    "finalValue = 0\n",
    "\n",
    "for i in range(0, n + 1):\n",
    "    finalValue = previousValue + currentValue\n",
    "    previousValue = currentValue\n",
    "    currentValue = finalValue\n",
    "\n",
    "    print(finalValue, end=\" \")"
   ]
  }
 ],
 "metadata": {
  "kernelspec": {
   "display_name": "base",
   "language": "python",
   "name": "python3"
  },
  "language_info": {
   "codemirror_mode": {
    "name": "ipython",
    "version": 3
   },
   "file_extension": ".py",
   "mimetype": "text/x-python",
   "name": "python",
   "nbconvert_exporter": "python",
   "pygments_lexer": "ipython3",
   "version": "3.12.4"
  }
 },
 "nbformat": 4,
 "nbformat_minor": 2
}

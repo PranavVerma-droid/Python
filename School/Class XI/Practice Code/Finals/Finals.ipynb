{
 "cells": [
  {
   "cell_type": "markdown",
   "metadata": {
    "vscode": {
     "languageId": "plaintext"
    }
   },
   "source": [
    "# Finals Practice Code"
   ]
  },
  {
   "cell_type": "code",
   "execution_count": 8,
   "metadata": {},
   "outputs": [
    {
     "name": "stdout",
     "output_type": "stream",
     "text": [
      "ba**le\n"
     ]
    }
   ],
   "source": [
    "string = \"babble\"\n",
    "newString = string[0]\n",
    "\n",
    "for i in range(1, len(string)):\n",
    "    if string[i] == string[0]:\n",
    "        newString = newString + \"*\"\n",
    "    else:\n",
    "        newString = newString + string[i]\n",
    "\n",
    "print(newString)"
   ]
  },
  {
   "cell_type": "code",
   "execution_count": 23,
   "metadata": {},
   "outputs": [
    {
     "name": "stdout",
     "output_type": "stream",
     "text": [
      "This dinner is good!\n"
     ]
    }
   ],
   "source": [
    "string = \"This dinner is not that bad!\"\n",
    "\n",
    "split_string = string.split(\" \")\n",
    "not_loc = string.find(\"not\")\n",
    "bad_loc = string.find(\"bad\")\n",
    "\n",
    "if bad_loc > not_loc:\n",
    "    new_string = string[0:not_loc] + \"good\" + string[bad_loc+3:]\n",
    "else:\n",
    "    new_string = string\n",
    "print(new_string)\n"
   ]
  },
  {
   "cell_type": "code",
   "execution_count": 3,
   "metadata": {},
   "outputs": [
    {
     "name": "stdout",
     "output_type": "stream",
     "text": [
      "155 128 160 \n",
      "[123, 155, 100, 128, 160, 67]\n"
     ]
    }
   ],
   "source": [
    "L = [123, 155, \"b\", 128, 160, \"A\"]\n",
    "\n",
    "for R in range(1, len(L)):\n",
    "    if not(str(L[R]).isalpha()) and L[R] % 10 == 12:\n",
    "        L[R] = L[R + 1]\n",
    "    elif str(L[R]).isalpha():\n",
    "        L[R] = ord(L[R]) + 2\n",
    "    else:\n",
    "        print(L[R], end=\" \")\n",
    "\n",
    "print()\n",
    "print(L)"
   ]
  }
 ],
 "metadata": {
  "kernelspec": {
   "display_name": "Python 3",
   "language": "python",
   "name": "python3"
  },
  "language_info": {
   "codemirror_mode": {
    "name": "ipython",
    "version": 3
   },
   "file_extension": ".py",
   "mimetype": "text/x-python",
   "name": "python",
   "nbconvert_exporter": "python",
   "pygments_lexer": "ipython3",
   "version": "3.10.12"
  }
 },
 "nbformat": 4,
 "nbformat_minor": 2
}

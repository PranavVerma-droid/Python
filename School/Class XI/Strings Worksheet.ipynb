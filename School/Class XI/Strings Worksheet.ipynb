{
 "cells": [
  {
   "cell_type": "markdown",
   "metadata": {},
   "source": [
    "### Q1"
   ]
  },
  {
   "cell_type": "code",
   "execution_count": 6,
   "metadata": {},
   "outputs": [
    {
     "name": "stdout",
     "output_type": "stream",
     "text": [
      "Givingly\n"
     ]
    }
   ],
   "source": [
    "s = input(\"Enter a string: \")\n",
    "if len(s) < 3:\n",
    "    result = s\n",
    "elif s.endswith('ing'):\n",
    "    result = s + 'ly'\n",
    "else:\n",
    "    result = s + 'ing'\n",
    "print(result)"
   ]
  },
  {
   "cell_type": "markdown",
   "metadata": {},
   "source": [
    "### Q2"
   ]
  },
  {
   "cell_type": "code",
   "execution_count": 7,
   "metadata": {},
   "outputs": [
    {
     "name": "stdout",
     "output_type": "stream",
     "text": [
      "Ging\n"
     ]
    }
   ],
   "source": [
    "s = input(\"Enter a string: \")\n",
    "if len(s) < 2:\n",
    "    result = ''\n",
    "else:\n",
    "    result = s[:2] + s[-2:]\n",
    "print(result)"
   ]
  },
  {
   "cell_type": "markdown",
   "metadata": {},
   "source": [
    "### Q3"
   ]
  },
  {
   "cell_type": "code",
   "execution_count": 13,
   "metadata": {},
   "outputs": [
    {
     "name": "stdout",
     "output_type": "stream",
     "text": [
      "This is a Paragraph Made of *hings.\n"
     ]
    }
   ],
   "source": [
    "s = input(\"Enter a string: \")\n",
    "if len(s) > 0:\n",
    "    first = s[0]\n",
    "    rest = s[1:]\n",
    "    for char in first:\n",
    "        rest = rest.replace(char, '*')\n",
    "    result = first + rest\n",
    "else:\n",
    "    result = s\n",
    "print(result)"
   ]
  },
  {
   "cell_type": "markdown",
   "metadata": {},
   "source": [
    "### Q4"
   ]
  },
  {
   "cell_type": "code",
   "execution_count": 14,
   "metadata": {},
   "outputs": [
    {
     "name": "stdout",
     "output_type": "stream",
     "text": [
      "He Hillo\n"
     ]
    }
   ],
   "source": [
    "a = input(\"Enter first string: \")\n",
    "b = input(\"Enter second string: \")\n",
    "result = b[:2] + a[2:] + ' ' + a[:2] + b[2:]\n",
    "print(result)"
   ]
  },
  {
   "cell_type": "markdown",
   "metadata": {},
   "source": [
    "### Q5"
   ]
  },
  {
   "cell_type": "code",
   "execution_count": 17,
   "metadata": {},
   "outputs": [
    {
     "name": "stdout",
     "output_type": "stream",
     "text": [
      "This dinner is good!\n"
     ]
    }
   ],
   "source": [
    "s = input(\"Enter a string: \")\n",
    "n = s.find('not')\n",
    "b = s.find('bad')\n",
    "if n != -1 and b != -1 and n < b:\n",
    "    result = s[:n] + 'good' + s[b+3:]\n",
    "else:\n",
    "    result = s\n",
    "print(result)"
   ]
  },
  {
   "cell_type": "markdown",
   "metadata": {},
   "source": [
    "### Q6"
   ]
  },
  {
   "cell_type": "code",
   "execution_count": 18,
   "metadata": {},
   "outputs": [
    {
     "name": "stdout",
     "output_type": "stream",
     "text": [
      "HelHloi\n"
     ]
    }
   ],
   "source": [
    "a = input(\"Enter first string: \")\n",
    "b = input(\"Enter second string: \")\n",
    "a_mid = (len(a) + 1) // 2\n",
    "b_mid = (len(b) + 1) // 2\n",
    "result = a[:a_mid] + b[:b_mid] + a[a_mid:] + b[b_mid:]\n",
    "print(result)"
   ]
  },
  {
   "cell_type": "markdown",
   "metadata": {},
   "source": [
    "### Q7"
   ]
  },
  {
   "cell_type": "code",
   "execution_count": 20,
   "metadata": {},
   "outputs": [
    {
     "name": "stdout",
     "output_type": "stream",
     "text": [
      "0\n"
     ]
    }
   ],
   "source": [
    "words = input(\"Enter words separated by spaces: \").split()\n",
    "count = 0\n",
    "for word in words:\n",
    "    if len(word) >= 2 and word[0] == word[-1]:\n",
    "        count = count + 1\n",
    "print(count)"
   ]
  }
 ],
 "metadata": {
  "kernelspec": {
   "display_name": "Python 3",
   "language": "python",
   "name": "python3"
  },
  "language_info": {
   "codemirror_mode": {
    "name": "ipython",
    "version": 3
   },
   "file_extension": ".py",
   "mimetype": "text/x-python",
   "name": "python",
   "nbconvert_exporter": "python",
   "pygments_lexer": "ipython3",
   "version": "3.12.5"
  }
 },
 "nbformat": 4,
 "nbformat_minor": 2
}

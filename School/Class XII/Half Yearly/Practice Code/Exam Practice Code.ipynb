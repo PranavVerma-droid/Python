{
 "cells": [
  {
   "cell_type": "markdown",
   "id": "caba86b3",
   "metadata": {},
   "source": [
    "# Half Yearly Practice Code"
   ]
  },
  {
   "cell_type": "code",
   "execution_count": 3,
   "id": "090ec0fc",
   "metadata": {},
   "outputs": [
    {
     "name": "stdout",
     "output_type": "stream",
     "text": [
      "34.0\n"
     ]
    }
   ],
   "source": [
    "x = 68\n",
    "y = 2\n",
    "\n",
    "z = x / y\n",
    "\n",
    "print(z)"
   ]
  },
  {
   "cell_type": "code",
   "execution_count": 4,
   "id": "c3192321",
   "metadata": {},
   "outputs": [
    {
     "name": "stdout",
     "output_type": "stream",
     "text": [
      "['False', 'None', 'True', 'and', 'as', 'assert', 'async', 'await', 'break', 'class', 'continue', 'def', 'del', 'elif', 'else', 'except', 'finally', 'for', 'from', 'global', 'if', 'import', 'in', 'is', 'lambda', 'nonlocal', 'not', 'or', 'pass', 'raise', 'return', 'try', 'while', 'with', 'yield']\n"
     ]
    }
   ],
   "source": [
    "import keyword\n",
    "\n",
    "print(keyword.kwlist)"
   ]
  },
  {
   "cell_type": "code",
   "execution_count": 5,
   "id": "8ed97841",
   "metadata": {},
   "outputs": [
    {
     "data": {
      "text/plain": [
       "True"
      ]
     },
     "execution_count": 5,
     "metadata": {},
     "output_type": "execute_result"
    }
   ],
   "source": [
    "R = 120\n",
    "P = 120\n",
    "\n",
    "R is P"
   ]
  },
  {
   "cell_type": "code",
   "execution_count": 1,
   "id": "ba6deddc",
   "metadata": {},
   "outputs": [
    {
     "name": "stdout",
     "output_type": "stream",
     "text": [
      "201.06192982974676\n"
     ]
    }
   ],
   "source": [
    "from math import *\n",
    "\n",
    "print(pi * 8 * 8)"
   ]
  },
  {
   "cell_type": "code",
   "execution_count": 2,
   "id": "1cfbd59f",
   "metadata": {},
   "outputs": [
    {
     "name": "stdout",
     "output_type": "stream",
     "text": [
      "range(1, 10)\n"
     ]
    }
   ],
   "source": [
    "print(range(1, 10, 1))"
   ]
  },
  {
   "cell_type": "code",
   "execution_count": null,
   "id": "2d405d89",
   "metadata": {},
   "outputs": [
    {
     "data": {
      "text/plain": [
       "[0, 2, 4, 6, 8]"
      ]
     },
     "execution_count": 1,
     "metadata": {},
     "output_type": "execute_result"
    }
   ],
   "source": [
    "l1 = [i for i in range (0, 10) if i % 2 == 0]\n",
    "\n",
    "print(l1)"
   ]
  },
  {
   "cell_type": "code",
   "execution_count": 2,
   "id": "7c5684b9",
   "metadata": {},
   "outputs": [
    {
     "name": "stdout",
     "output_type": "stream",
     "text": [
      "[1]\n"
     ]
    }
   ],
   "source": [
    "l2 = list((1,))\n",
    "\n",
    "print(l2)"
   ]
  },
  {
   "cell_type": "code",
   "execution_count": 3,
   "id": "e6c47526",
   "metadata": {},
   "outputs": [
    {
     "name": "stdout",
     "output_type": "stream",
     "text": [
      "2\n"
     ]
    }
   ],
   "source": [
    "tup1 = (1, 2, 3, 4)\n",
    "\n",
    "print(tup1[1])"
   ]
  },
  {
   "cell_type": "code",
   "execution_count": 19,
   "id": "ec671649",
   "metadata": {},
   "outputs": [
    {
     "name": "stdout",
     "output_type": "stream",
     "text": [
      "{'1': 'Hi', '2': 'Hello!'}\n",
      "Hi\n",
      "500\n",
      "{'1': 'Hi', '2': 'Hello!', '3': 500}\n"
     ]
    }
   ],
   "source": [
    "dict1 = {\"1\": \"Hi\", \"2\": \"Hello!\"}\n",
    "\n",
    "print(dict1)\n",
    "\n",
    "print(dict1.setdefault(\"1\", 500))\n",
    "print(dict1.setdefault(\"3\", 500))\n",
    "\n",
    "print(dict1)"
   ]
  },
  {
   "cell_type": "code",
   "execution_count": 8,
   "id": "b129b45b",
   "metadata": {},
   "outputs": [
    {
     "name": "stdout",
     "output_type": "stream",
     "text": [
      "133837355994304\n",
      "<class 'int'>\n"
     ]
    }
   ],
   "source": [
    "x = \"hello\"\n",
    "print(id(x))        # e.g., 140219485732272\n",
    "print(type(id(x)))  # <class 'int'>"
   ]
  },
  {
   "cell_type": "code",
   "execution_count": 9,
   "id": "7db1a603",
   "metadata": {},
   "outputs": [
    {
     "data": {
      "text/plain": [
       "'Python Prograaming Is Ez'"
      ]
     },
     "execution_count": 9,
     "metadata": {},
     "output_type": "execute_result"
    }
   ],
   "source": [
    "str1 = \"python prograaming is ez\"\n",
    "\n",
    "str1.title()"
   ]
  },
  {
   "cell_type": "code",
   "execution_count": 10,
   "id": "4e4c195f",
   "metadata": {},
   "outputs": [
    {
     "name": "stdout",
     "output_type": "stream",
     "text": [
      "<class 'tuple'>\n"
     ]
    }
   ],
   "source": [
    "D = 1, 2, 3\n",
    "\n",
    "print(type(D))"
   ]
  },
  {
   "cell_type": "code",
   "execution_count": 95,
   "id": "0068735c",
   "metadata": {},
   "outputs": [
    {
     "data": {
      "text/plain": [
       "12.473820287110822"
      ]
     },
     "execution_count": 95,
     "metadata": {},
     "output_type": "execute_result"
    }
   ],
   "source": [
    "import random\n",
    "\n",
    "random.random() * 5 + 10"
   ]
  },
  {
   "cell_type": "code",
   "execution_count": 98,
   "id": "feefe920",
   "metadata": {},
   "outputs": [],
   "source": [
    "try:\n",
    "    \"ASDASD\"\n",
    "except:\n",
    "    print(\"Nah\")"
   ]
  },
  {
   "cell_type": "code",
   "execution_count": 9,
   "id": "5bbf49a1",
   "metadata": {},
   "outputs": [
    {
     "name": "stdout",
     "output_type": "stream",
     "text": [
      "Module Does Not Exist...\n",
      "Continuing...\n",
      "Program Execution Finished.\n"
     ]
    }
   ],
   "source": [
    "try:\n",
    "    import testingDoesNotExist\n",
    "except ImportError:\n",
    "    print(\"Module Does Not Exist...\")\n",
    "    print(\"Continuing...\")\n",
    "else:\n",
    "    print(\"Module Import Completed Successfully.\")\n",
    "    print(\"Continuing...\")\n",
    "finally:\n",
    "    print(\"Program Execution Finished.\")"
   ]
  },
  {
   "cell_type": "code",
   "execution_count": 29,
   "id": "c2aab04f",
   "metadata": {},
   "outputs": [
    {
     "name": "stdout",
     "output_type": "stream",
     "text": [
      "Files/test.txt\n",
      "w+\n",
      "UTF-8\n",
      "False\n",
      "<class 'str'>\n",
      "True\n"
     ]
    }
   ],
   "source": [
    "import pickle\n",
    "\n",
    "f1 = open('Files/test.txt', \"w+\")\n",
    "f1.write(\"Hello!\\nTest!\")\n",
    "print(f1.name)\n",
    "print(f1.mode)\n",
    "print(f1.encoding)\n",
    "print(f1.closed)\n",
    "\n",
    "f1.seek(0)\n",
    "lines = f1.read()\n",
    "for i in lines:\n",
    "    if i == \"n\":\n",
    "        print(\"n found\")\n",
    "\n",
    "print(type(lines))\n",
    "\n",
    "\n",
    "f1.close()\n",
    "print(f1.closed)\n",
    "\n",
    "\n",
    "f2 = open('Files/test2', \"wb\")"
   ]
  },
  {
   "cell_type": "code",
   "execution_count": null,
   "id": "9606d2e8",
   "metadata": {},
   "outputs": [
    {
     "name": "stdout",
     "output_type": "stream",
     "text": [
      "False\n",
      "True\n"
     ]
    }
   ],
   "source": [
    "with open(\"Files/test.txt\", \"r\") as f:\n",
    "    print(f.closed)\n",
    "print(f.closed)"
   ]
  },
  {
   "cell_type": "code",
   "execution_count": null,
   "id": "085f3586",
   "metadata": {},
   "outputs": [
    {
     "name": "stdout",
     "output_type": "stream",
     "text": [
      "[('Athletics', 'Sushant')]\n"
     ]
    }
   ],
   "source": [
    "try: import pickle\n",
    "except: print(\"Error Occured\")\n",
    "\n",
    "\n",
    "# Code To Write to File:\n",
    "# Run This Before Running the Rest of the Code.\n",
    "\n",
    "# f1 = open('Files/sports.dat', 'wb')\n",
    "# data = [(\"Basketball\", \"Pranav\"), (\"Basketball\", \"Anirudh\"), (\"Athletics\", \"Sushant\")]\n",
    "# pickle.dump(data, f1)\n",
    "# f1.close()\n",
    "\n",
    "f2 = open('Files/sports.dat', 'rb')\n",
    "\n",
    "data = pickle.load(f2)\n",
    "\n",
    "newData = []\n",
    "\n",
    "for i in data:\n",
    "    if i[0] == \"Athletics\":\n",
    "        newData.append(i)\n",
    "    else:\n",
    "        continue\n",
    "\n",
    "print(newData)"
   ]
  },
  {
   "cell_type": "code",
   "execution_count": 45,
   "id": "299562b3",
   "metadata": {},
   "outputs": [
    {
     "name": "stdout",
     "output_type": "stream",
     "text": [
      "8 24\n"
     ]
    }
   ],
   "source": [
    "f1 = open('Files/poem.txt', 'r')\n",
    "\n",
    "to_count = the_count = 0\n",
    "\n",
    "for i in f1.readlines():\n",
    "    if ' to' in i:\n",
    "        to_count += 1\n",
    "    if ' the' in i:\n",
    "        the_count += 1\n",
    "\n",
    "print(to_count, the_count)\n",
    "\n",
    "f1.close()\n"
   ]
  },
  {
   "cell_type": "code",
   "execution_count": 46,
   "id": "033d7a32",
   "metadata": {},
   "outputs": [
    {
     "name": "stdout",
     "output_type": "stream",
     "text": [
      "27\n"
     ]
    }
   ],
   "source": [
    "upperCount = 0\n",
    "\n",
    "with open('Files/poem.txt', 'r') as f1:\n",
    "    for i in f1.readlines():\n",
    "        for j in i:\n",
    "            if j.isupper():\n",
    "                upperCount += 1\n",
    "    \n",
    "    print(upperCount)"
   ]
  },
  {
   "cell_type": "code",
   "execution_count": 2,
   "id": "ecd96d31",
   "metadata": {},
   "outputs": [
    {
     "name": "stdout",
     "output_type": "stream",
     "text": [
      "File Contents Copied Successfully.\n",
      "Program Execution Finished\n"
     ]
    }
   ],
   "source": [
    "f1_name = input(\"Please Enter Source Filename: \") # Enter `source.txt`\n",
    "f2_name = input(\"Please Enter Destination Filename: \")\n",
    "\n",
    "try:\n",
    "    f1 = open('Files/' + f1_name, 'r')\n",
    "    f2 = open('Files/' + f2_name, 'a')\n",
    "\n",
    "    data = f1.readlines()\n",
    "    f2.writelines(data)\n",
    "except FileNotFoundError:\n",
    "    print(\"File \" + f1_name + \" Does Not Exist. Please Create One.\")\n",
    "    exit(0)\n",
    "else:\n",
    "    f1.close()\n",
    "    f2.close()\n",
    "\n",
    "    print(\"File Contents Copied Successfully.\")\n",
    "finally:\n",
    "    print(\"Program Execution Finished\")"
   ]
  },
  {
   "cell_type": "code",
   "execution_count": 10,
   "id": "e4be7d4c",
   "metadata": {},
   "outputs": [
    {
     "name": "stdout",
     "output_type": "stream",
     "text": [
      "Hi\n",
      "This\n",
      "Pranav\n",
      "Github: PranavVerma-droid\n"
     ]
    }
   ],
   "source": [
    "filename = 'Files/usersen.txt'\n",
    "\n",
    "with open(filename, \"w+\") as f1: \n",
    "    data = []\n",
    "    while True:\n",
    "        st1 = input(\"Please Enter: \")\n",
    "        if st1 == \"END\":\n",
    "            break\n",
    "        \n",
    "        data.append(st1 + \"\\n\")\n",
    "\n",
    "    f1.writelines(data)\n",
    "\n",
    "\n",
    "with open(filename, \"r\") as f1:\n",
    "    lines = f1.readlines()\n",
    "\n",
    "    for i in lines:\n",
    "        if i[0].isupper():\n",
    "            print(i, end=\"\")\n",
    "        else:\n",
    "            continue\n"
   ]
  },
  {
   "cell_type": "code",
   "execution_count": null,
   "id": "fdbbcf00",
   "metadata": {},
   "outputs": [],
   "source": [
    "while True:\n",
    "    with open('Files/largefile.txt', 'a+') as f1:\n",
    "        userinp = input(\"Please Enter Data: \")\n",
    "        if userinp == 'END':\n",
    "            break\n",
    "        f1.write(userinp)"
   ]
  },
  {
   "cell_type": "code",
   "execution_count": 9,
   "id": "f32f3679",
   "metadata": {},
   "outputs": [
    {
     "name": "stdout",
     "output_type": "stream",
     "text": [
      "['1', 'Aditya', 64.4]\n"
     ]
    }
   ],
   "source": [
    "try: import pickle\n",
    "except ImportError: \n",
    "    print(\"Pickle Library Not Found. Exiting.\")\n",
    "    exit(1)\n",
    "\n",
    "data = [[\"1\", \"Aditya\", 64.4], [2, \"Sana\", 96.0], [3, \"Pranav\", 100.0]] # hehe\n",
    "\n",
    "# Write Data to File\n",
    "with open(\"Files/student.dat\", \"wb\") as f1:\n",
    "    for i in data:\n",
    "        pickle.dump(i, f1)\n",
    "\n",
    "# Read Data + Filter Out Percentage\n",
    "with open(\"Files/student.dat\", \"rb\") as f2:\n",
    "    while True:\n",
    "        try:\n",
    "            DATA = pickle.load(f2)\n",
    "            if DATA[2] < 65.0:\n",
    "                print(DATA)\n",
    "        except EOFError:\n",
    "            break"
   ]
  },
  {
   "cell_type": "code",
   "execution_count": 12,
   "id": "d6c2f931",
   "metadata": {},
   "outputs": [
    {
     "name": "stdout",
     "output_type": "stream",
     "text": [
      "Name: Pranav\tPhone: 96XXXXXXXX\n",
      "Name: Pranav\tPhone: 98XXXXXXXX\n",
      "Name: Pranav\tPhone: 93XXXXXXXX\n"
     ]
    }
   ],
   "source": [
    "try: import csv\n",
    "except ImportError:\n",
    "    print(\"CSV Library not Found. Exiting.\")\n",
    "    exit(1)\n",
    "\n",
    "file = open(\"Files/contacts.csv\", \"a\")\n",
    "\n",
    "name = input(\"Please Enter Name: \")\n",
    "phno = input(\"Please Enter Phno: \")\n",
    "\n",
    "data = [name, phno]\n",
    "\n",
    "csvwriter = csv.writer(file)\n",
    "csvwriter.writerow(data)\n",
    "file.close()\n",
    "\n",
    "\n",
    "with open(\"Files/contacts.csv\", \"r\") as f1:\n",
    "    csvreader = csv.reader(f1)\n",
    "\n",
    "    for i in csvreader:\n",
    "        print(\"Name: \" + i[0] + \"\\t\" + \"Phone: \" + i[1])"
   ]
  },
  {
   "cell_type": "code",
   "execution_count": null,
   "id": "f258503a",
   "metadata": {},
   "outputs": [
    {
     "name": "stdout",
     "output_type": "stream",
     "text": [
      "Item No: 1\n",
      "Item Name: Rose\n",
      "Item Quantity: 100\n",
      "Item Price: 12.34\n",
      "------------------------------\n",
      "Item No: 2\n",
      "Item Name: Lily\n",
      "Item Quantity: 125\n",
      "Item Price: 12.4\n",
      "------------------------------\n"
     ]
    }
   ],
   "source": [
    "try:\n",
    "    import pickle\n",
    "except ImportError:\n",
    "    print(\"Pickle Library Not Found. Exiting.\")\n",
    "    exit(1)\n",
    "\n",
    "def item_no_inp(string):\n",
    "    try: \n",
    "        item_no = int(input(string))\n",
    "    except ValueError: \n",
    "        print(\"Cannot Convert Given Data to Int. Please Try Again.\")\n",
    "        return item_no_inp(string)\n",
    "    else:\n",
    "        return item_no\n",
    "\n",
    "def item_price_inp(string):\n",
    "    try: \n",
    "        item_price = float(input(string))\n",
    "    except ValueError: \n",
    "        print(\"Cannot Convert Given Data to Float. Please Try Again.\")\n",
    "        return item_price_inp(string)\n",
    "    else:\n",
    "        return item_price\n",
    "\n",
    "# Writing data to file\n",
    "with open(\"Files/records.dat\", \"wb\") as f1:\n",
    "    while True:\n",
    "        user_inp = input(\"Do You Want to Enter More Data? Y/N: \")\n",
    "        if user_inp.upper() == \"N\":\n",
    "            break\n",
    "        else:\n",
    "            item_no = item_no_inp(\"Please Enter Item Number: \")\n",
    "            item_name = input(\"Please Enter Item Name: \")\n",
    "            item_qty = item_no_inp(\"Please Enter Item Quantity: \")\n",
    "            item_price = item_price_inp(\"Please Enter Item Price: \")\n",
    "\n",
    "            data = [item_no, item_name, item_qty, item_price]\n",
    "            pickle.dump(data, f1)\n",
    "\n",
    "# Reading data from file\n",
    "with open(\"Files/records.dat\", \"rb\") as f1:\n",
    "    while True:\n",
    "        try:\n",
    "            data = pickle.load(f1)\n",
    "        \n",
    "            print(\"Item No: \" + str(data[0]))\n",
    "            print(\"Item Name: \" + data[1])\n",
    "            print(\"Item Quantity: \" + str(data[2])) \n",
    "            print(\"Item Price: \" + str(data[3])) \n",
    "            print(\"-\" * 30)\n",
    "            \n",
    "        except EOFError:\n",
    "            break"
   ]
  }
 ],
 "metadata": {
  "kernelspec": {
   "display_name": "base",
   "language": "python",
   "name": "python3"
  },
  "language_info": {
   "codemirror_mode": {
    "name": "ipython",
    "version": 3
   },
   "file_extension": ".py",
   "mimetype": "text/x-python",
   "name": "python",
   "nbconvert_exporter": "python",
   "pygments_lexer": "ipython3",
   "version": "3.13.5"
  }
 },
 "nbformat": 4,
 "nbformat_minor": 5
}

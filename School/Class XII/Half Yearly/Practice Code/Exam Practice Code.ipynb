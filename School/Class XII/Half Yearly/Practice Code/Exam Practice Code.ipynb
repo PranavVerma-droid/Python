{
 "cells": [
  {
   "cell_type": "markdown",
   "id": "caba86b3",
   "metadata": {},
   "source": [
    "Todo."
   ]
  }
 ],
 "metadata": {
  "language_info": {
   "name": "python"
  }
 },
 "nbformat": 4,
 "nbformat_minor": 5
}

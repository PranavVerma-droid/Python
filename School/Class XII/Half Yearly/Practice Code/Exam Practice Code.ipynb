{
 "cells": [
  {
   "cell_type": "markdown",
   "id": "caba86b3",
   "metadata": {},
   "source": [
    "# Half Yearly Practice Code"
   ]
  },
  {
   "cell_type": "markdown",
   "id": "d7499d92",
   "metadata": {},
   "source": [
    "## Chapter 1: Python Fundamentals"
   ]
  },
  {
   "cell_type": "code",
   "execution_count": 3,
   "id": "090ec0fc",
   "metadata": {},
   "outputs": [
    {
     "name": "stdout",
     "output_type": "stream",
     "text": [
      "34.0\n"
     ]
    }
   ],
   "source": [
    "x = 68\n",
    "y = 2\n",
    "\n",
    "z = x / y\n",
    "\n",
    "print(z)"
   ]
  },
  {
   "cell_type": "code",
   "execution_count": 4,
   "id": "c3192321",
   "metadata": {},
   "outputs": [
    {
     "name": "stdout",
     "output_type": "stream",
     "text": [
      "['False', 'None', 'True', 'and', 'as', 'assert', 'async', 'await', 'break', 'class', 'continue', 'def', 'del', 'elif', 'else', 'except', 'finally', 'for', 'from', 'global', 'if', 'import', 'in', 'is', 'lambda', 'nonlocal', 'not', 'or', 'pass', 'raise', 'return', 'try', 'while', 'with', 'yield']\n"
     ]
    }
   ],
   "source": [
    "import keyword\n",
    "\n",
    "print(keyword.kwlist)"
   ]
  },
  {
   "cell_type": "code",
   "execution_count": 5,
   "id": "8ed97841",
   "metadata": {},
   "outputs": [
    {
     "data": {
      "text/plain": [
       "True"
      ]
     },
     "execution_count": 5,
     "metadata": {},
     "output_type": "execute_result"
    }
   ],
   "source": [
    "R = 120\n",
    "P = 120\n",
    "\n",
    "R is P"
   ]
  },
  {
   "cell_type": "code",
   "execution_count": 1,
   "id": "ba6deddc",
   "metadata": {},
   "outputs": [
    {
     "name": "stdout",
     "output_type": "stream",
     "text": [
      "201.06192982974676\n"
     ]
    }
   ],
   "source": [
    "from math import *\n",
    "\n",
    "print(pi * 8 * 8)"
   ]
  },
  {
   "cell_type": "code",
   "execution_count": 2,
   "id": "1cfbd59f",
   "metadata": {},
   "outputs": [
    {
     "name": "stdout",
     "output_type": "stream",
     "text": [
      "range(1, 10)\n"
     ]
    }
   ],
   "source": [
    "print(range(1, 10, 1))"
   ]
  },
  {
   "cell_type": "code",
   "execution_count": null,
   "id": "2d405d89",
   "metadata": {},
   "outputs": [
    {
     "data": {
      "text/plain": [
       "[0, 2, 4, 6, 8]"
      ]
     },
     "execution_count": 1,
     "metadata": {},
     "output_type": "execute_result"
    }
   ],
   "source": [
    "l1 = [i for i in range (0, 10) if i % 2 == 0]\n",
    "\n",
    "print(l1)"
   ]
  },
  {
   "cell_type": "code",
   "execution_count": 2,
   "id": "7c5684b9",
   "metadata": {},
   "outputs": [
    {
     "name": "stdout",
     "output_type": "stream",
     "text": [
      "[1]\n"
     ]
    }
   ],
   "source": [
    "l2 = list((1,))\n",
    "\n",
    "print(l2)"
   ]
  },
  {
   "cell_type": "code",
   "execution_count": 3,
   "id": "e6c47526",
   "metadata": {},
   "outputs": [
    {
     "name": "stdout",
     "output_type": "stream",
     "text": [
      "2\n"
     ]
    }
   ],
   "source": [
    "tup1 = (1, 2, 3, 4)\n",
    "\n",
    "print(tup1[1])"
   ]
  },
  {
   "cell_type": "code",
   "execution_count": 19,
   "id": "ec671649",
   "metadata": {},
   "outputs": [
    {
     "name": "stdout",
     "output_type": "stream",
     "text": [
      "{'1': 'Hi', '2': 'Hello!'}\n",
      "Hi\n",
      "500\n",
      "{'1': 'Hi', '2': 'Hello!', '3': 500}\n"
     ]
    }
   ],
   "source": [
    "dict1 = {\"1\": \"Hi\", \"2\": \"Hello!\"}\n",
    "\n",
    "print(dict1)\n",
    "\n",
    "print(dict1.setdefault(\"1\", 500))\n",
    "print(dict1.setdefault(\"3\", 500))\n",
    "\n",
    "print(dict1)"
   ]
  },
  {
   "cell_type": "code",
   "execution_count": 8,
   "id": "b129b45b",
   "metadata": {},
   "outputs": [
    {
     "name": "stdout",
     "output_type": "stream",
     "text": [
      "133837355994304\n",
      "<class 'int'>\n"
     ]
    }
   ],
   "source": [
    "x = \"hello\"\n",
    "print(id(x))        # e.g., 140219485732272\n",
    "print(type(id(x)))  # <class 'int'>"
   ]
  },
  {
   "cell_type": "code",
   "execution_count": 9,
   "id": "7db1a603",
   "metadata": {},
   "outputs": [
    {
     "data": {
      "text/plain": [
       "'Python Prograaming Is Ez'"
      ]
     },
     "execution_count": 9,
     "metadata": {},
     "output_type": "execute_result"
    }
   ],
   "source": [
    "str1 = \"python prograaming is ez\"\n",
    "\n",
    "str1.title()"
   ]
  },
  {
   "cell_type": "markdown",
   "id": "5bd06317",
   "metadata": {},
   "source": [
    "## Chapter 2: Functions"
   ]
  },
  {
   "cell_type": "code",
   "execution_count": 10,
   "id": "4e4c195f",
   "metadata": {},
   "outputs": [
    {
     "name": "stdout",
     "output_type": "stream",
     "text": [
      "<class 'tuple'>\n"
     ]
    }
   ],
   "source": [
    "D = 1, 2, 3\n",
    "\n",
    "print(type(D))"
   ]
  },
  {
   "cell_type": "code",
   "execution_count": 95,
   "id": "0068735c",
   "metadata": {},
   "outputs": [
    {
     "data": {
      "text/plain": [
       "12.473820287110822"
      ]
     },
     "execution_count": 95,
     "metadata": {},
     "output_type": "execute_result"
    }
   ],
   "source": [
    "import random\n",
    "\n",
    "random.random() * 5 + 10"
   ]
  },
  {
   "cell_type": "markdown",
   "id": "6c19f028",
   "metadata": {},
   "source": [
    "## Chapter 3: Exception Handling"
   ]
  },
  {
   "cell_type": "code",
   "execution_count": 7,
   "id": "feefe920",
   "metadata": {},
   "outputs": [],
   "source": [
    "try:\n",
    "    \"ASDASD\"\n",
    "except:\n",
    "    print(\"Nah\")"
   ]
  },
  {
   "cell_type": "code",
   "execution_count": 8,
   "id": "5bbf49a1",
   "metadata": {},
   "outputs": [
    {
     "name": "stdout",
     "output_type": "stream",
     "text": [
      "Module Does Not Exist...\n",
      "Continuing...\n",
      "Program Execution Finished.\n"
     ]
    }
   ],
   "source": [
    "try:\n",
    "    import testingDoesNotExist\n",
    "except ImportError:\n",
    "    print(\"Module Does Not Exist...\")\n",
    "    print(\"Continuing...\")\n",
    "else:\n",
    "    print(\"Module Import Completed Successfully.\")\n",
    "    print(\"Continuing...\")\n",
    "finally:\n",
    "    print(\"Program Execution Finished.\")"
   ]
  },
  {
   "cell_type": "markdown",
   "id": "5a623a7b",
   "metadata": {},
   "source": [
    "## Chapter 4: File Management"
   ]
  },
  {
   "cell_type": "code",
   "execution_count": 9,
   "id": "c2aab04f",
   "metadata": {},
   "outputs": [
    {
     "name": "stdout",
     "output_type": "stream",
     "text": [
      "Files/test.txt\n",
      "w+\n",
      "UTF-8\n",
      "False\n",
      "<class 'str'>\n",
      "True\n"
     ]
    }
   ],
   "source": [
    "import pickle\n",
    "\n",
    "f1 = open('Files/test.txt', \"w+\")\n",
    "f1.write(\"Hello!\\nTest!\")\n",
    "print(f1.name)\n",
    "print(f1.mode)\n",
    "print(f1.encoding)\n",
    "print(f1.closed)\n",
    "\n",
    "f1.seek(0)\n",
    "lines = f1.read()\n",
    "for i in lines:\n",
    "    if i == \"n\":\n",
    "        print(\"n found\")\n",
    "\n",
    "print(type(lines))\n",
    "\n",
    "\n",
    "f1.close()\n",
    "print(f1.closed)\n",
    "\n",
    "\n",
    "f2 = open('Files/test2', \"wb\")"
   ]
  },
  {
   "cell_type": "code",
   "execution_count": 10,
   "id": "9606d2e8",
   "metadata": {},
   "outputs": [
    {
     "name": "stdout",
     "output_type": "stream",
     "text": [
      "False\n",
      "True\n"
     ]
    }
   ],
   "source": [
    "with open(\"Files/test.txt\", \"r\") as f:\n",
    "    print(f.closed)\n",
    "print(f.closed)"
   ]
  },
  {
   "cell_type": "code",
   "execution_count": 11,
   "id": "085f3586",
   "metadata": {},
   "outputs": [
    {
     "name": "stdout",
     "output_type": "stream",
     "text": [
      "[('Athletics', 'Sushant')]\n"
     ]
    }
   ],
   "source": [
    "try: import pickle\n",
    "except: print(\"Error Occured\")\n",
    "\n",
    "\n",
    "# Code To Write to File:\n",
    "# Run This Before Running the Rest of the Code.\n",
    "\n",
    "# f1 = open('Files/sports.dat', 'wb')\n",
    "# data = [(\"Basketball\", \"Pranav\"), (\"Basketball\", \"Anirudh\"), (\"Athletics\", \"Sushant\")]\n",
    "# pickle.dump(data, f1)\n",
    "# f1.close()\n",
    "\n",
    "f2 = open('Files/sports.dat', 'rb')\n",
    "\n",
    "data = pickle.load(f2)\n",
    "\n",
    "newData = []\n",
    "\n",
    "for i in data:\n",
    "    if i[0] == \"Athletics\":\n",
    "        newData.append(i)\n",
    "    else:\n",
    "        continue\n",
    "\n",
    "print(newData)"
   ]
  },
  {
   "cell_type": "code",
   "execution_count": 12,
   "id": "299562b3",
   "metadata": {},
   "outputs": [
    {
     "name": "stdout",
     "output_type": "stream",
     "text": [
      "8 24\n"
     ]
    }
   ],
   "source": [
    "f1 = open('Files/poem.txt', 'r')\n",
    "\n",
    "to_count = the_count = 0\n",
    "\n",
    "for i in f1.readlines():\n",
    "    if ' to' in i:\n",
    "        to_count += 1\n",
    "    if ' the' in i:\n",
    "        the_count += 1\n",
    "\n",
    "print(to_count, the_count)\n",
    "\n",
    "f1.close()\n"
   ]
  },
  {
   "cell_type": "code",
   "execution_count": 13,
   "id": "033d7a32",
   "metadata": {},
   "outputs": [
    {
     "name": "stdout",
     "output_type": "stream",
     "text": [
      "27\n"
     ]
    }
   ],
   "source": [
    "upperCount = 0\n",
    "\n",
    "with open('Files/poem.txt', 'r') as f1:\n",
    "    for i in f1.readlines():\n",
    "        for j in i:\n",
    "            if j.isupper():\n",
    "                upperCount += 1\n",
    "    \n",
    "    print(upperCount)"
   ]
  },
  {
   "cell_type": "code",
   "execution_count": 14,
   "id": "ecd96d31",
   "metadata": {},
   "outputs": [
    {
     "name": "stdout",
     "output_type": "stream",
     "text": [
      "Program Execution Finished\n"
     ]
    },
    {
     "ename": "IsADirectoryError",
     "evalue": "[Errno 21] Is a directory: 'Files/'",
     "output_type": "error",
     "traceback": [
      "\u001b[0;31m---------------------------------------------------------------------------\u001b[0m",
      "\u001b[0;31mIsADirectoryError\u001b[0m                         Traceback (most recent call last)",
      "Cell \u001b[0;32mIn[14], line 5\u001b[0m\n\u001b[1;32m      2\u001b[0m f2_name \u001b[38;5;241m=\u001b[39m \u001b[38;5;28minput\u001b[39m(\u001b[38;5;124m\"\u001b[39m\u001b[38;5;124mPlease Enter Destination Filename: \u001b[39m\u001b[38;5;124m\"\u001b[39m)\n\u001b[1;32m      4\u001b[0m \u001b[38;5;28;01mtry\u001b[39;00m:\n\u001b[0;32m----> 5\u001b[0m     f1 \u001b[38;5;241m=\u001b[39m \u001b[38;5;28mopen\u001b[39m(\u001b[38;5;124m'\u001b[39m\u001b[38;5;124mFiles/\u001b[39m\u001b[38;5;124m'\u001b[39m \u001b[38;5;241m+\u001b[39m f1_name, \u001b[38;5;124m'\u001b[39m\u001b[38;5;124mr\u001b[39m\u001b[38;5;124m'\u001b[39m)\n\u001b[1;32m      6\u001b[0m     f2 \u001b[38;5;241m=\u001b[39m \u001b[38;5;28mopen\u001b[39m(\u001b[38;5;124m'\u001b[39m\u001b[38;5;124mFiles/\u001b[39m\u001b[38;5;124m'\u001b[39m \u001b[38;5;241m+\u001b[39m f2_name, \u001b[38;5;124m'\u001b[39m\u001b[38;5;124ma\u001b[39m\u001b[38;5;124m'\u001b[39m)\n\u001b[1;32m      8\u001b[0m     data \u001b[38;5;241m=\u001b[39m f1\u001b[38;5;241m.\u001b[39mreadlines()\n",
      "File \u001b[0;32m~/anaconda3/lib/python3.13/site-packages/IPython/core/interactiveshell.py:324\u001b[0m, in \u001b[0;36m_modified_open\u001b[0;34m(file, *args, **kwargs)\u001b[0m\n\u001b[1;32m    317\u001b[0m \u001b[38;5;28;01mif\u001b[39;00m file \u001b[38;5;129;01min\u001b[39;00m {\u001b[38;5;241m0\u001b[39m, \u001b[38;5;241m1\u001b[39m, \u001b[38;5;241m2\u001b[39m}:\n\u001b[1;32m    318\u001b[0m     \u001b[38;5;28;01mraise\u001b[39;00m \u001b[38;5;167;01mValueError\u001b[39;00m(\n\u001b[1;32m    319\u001b[0m         \u001b[38;5;124mf\u001b[39m\u001b[38;5;124m\"\u001b[39m\u001b[38;5;124mIPython won\u001b[39m\u001b[38;5;124m'\u001b[39m\u001b[38;5;124mt let you open fd=\u001b[39m\u001b[38;5;132;01m{\u001b[39;00mfile\u001b[38;5;132;01m}\u001b[39;00m\u001b[38;5;124m by default \u001b[39m\u001b[38;5;124m\"\u001b[39m\n\u001b[1;32m    320\u001b[0m         \u001b[38;5;124m\"\u001b[39m\u001b[38;5;124mas it is likely to crash IPython. If you know what you are doing, \u001b[39m\u001b[38;5;124m\"\u001b[39m\n\u001b[1;32m    321\u001b[0m         \u001b[38;5;124m\"\u001b[39m\u001b[38;5;124myou can use builtins\u001b[39m\u001b[38;5;124m'\u001b[39m\u001b[38;5;124m open.\u001b[39m\u001b[38;5;124m\"\u001b[39m\n\u001b[1;32m    322\u001b[0m     )\n\u001b[0;32m--> 324\u001b[0m \u001b[38;5;28;01mreturn\u001b[39;00m io_open(file, \u001b[38;5;241m*\u001b[39margs, \u001b[38;5;241m*\u001b[39m\u001b[38;5;241m*\u001b[39mkwargs)\n",
      "\u001b[0;31mIsADirectoryError\u001b[0m: [Errno 21] Is a directory: 'Files/'"
     ]
    }
   ],
   "source": [
    "f1_name = input(\"Please Enter Source Filename: \") # Enter `source.txt`\n",
    "f2_name = input(\"Please Enter Destination Filename: \")\n",
    "\n",
    "try:\n",
    "    f1 = open('Files/' + f1_name, 'r')\n",
    "    f2 = open('Files/' + f2_name, 'a')\n",
    "\n",
    "    data = f1.readlines()\n",
    "    f2.writelines(data)\n",
    "except FileNotFoundError:\n",
    "    print(\"File \" + f1_name + \" Does Not Exist. Please Create One.\")\n",
    "    exit(0)\n",
    "else:\n",
    "    f1.close()\n",
    "    f2.close()\n",
    "\n",
    "    print(\"File Contents Copied Successfully.\")\n",
    "finally:\n",
    "    print(\"Program Execution Finished\")"
   ]
  },
  {
   "cell_type": "code",
   "execution_count": null,
   "id": "e4be7d4c",
   "metadata": {},
   "outputs": [
    {
     "name": "stdout",
     "output_type": "stream",
     "text": [
      "Hi\n",
      "This\n",
      "Pranav\n",
      "Github: PranavVerma-droid\n"
     ]
    }
   ],
   "source": [
    "filename = 'Files/usersen.txt'\n",
    "\n",
    "with open(filename, \"w+\") as f1: \n",
    "    data = []\n",
    "    while True:\n",
    "        st1 = input(\"Please Enter: \")\n",
    "        if st1 == \"END\":\n",
    "            break\n",
    "        \n",
    "        data.append(st1 + \"\\n\")\n",
    "\n",
    "    f1.writelines(data)\n",
    "\n",
    "\n",
    "with open(filename, \"r\") as f1:\n",
    "    lines = f1.readlines()\n",
    "\n",
    "    for i in lines:\n",
    "        if i[0].isupper():\n",
    "            print(i, end=\"\")\n",
    "        else:\n",
    "            continue\n"
   ]
  },
  {
   "cell_type": "code",
   "execution_count": null,
   "id": "fdbbcf00",
   "metadata": {},
   "outputs": [],
   "source": [
    "while True:\n",
    "    with open('Files/largefile.txt', 'a+') as f1:\n",
    "        userinp = input(\"Please Enter Data: \")\n",
    "        if userinp == 'END':\n",
    "            break\n",
    "        f1.write(userinp)"
   ]
  },
  {
   "cell_type": "code",
   "execution_count": null,
   "id": "f32f3679",
   "metadata": {},
   "outputs": [
    {
     "name": "stdout",
     "output_type": "stream",
     "text": [
      "['1', 'Aditya', 64.4]\n"
     ]
    }
   ],
   "source": [
    "try: import pickle\n",
    "except ImportError: \n",
    "    print(\"Pickle Library Not Found. Exiting.\")\n",
    "    exit(1)\n",
    "\n",
    "data = [[\"1\", \"Aditya\", 64.4], [2, \"Sana\", 96.0], [3, \"Pranav\", 100.0]] # hehe\n",
    "\n",
    "# Write Data to File\n",
    "with open(\"Files/student.dat\", \"wb\") as f1:\n",
    "    for i in data:\n",
    "        pickle.dump(i, f1)\n",
    "\n",
    "# Read Data + Filter Out Percentage\n",
    "with open(\"Files/student.dat\", \"rb\") as f2:\n",
    "    while True:\n",
    "        try:\n",
    "            DATA = pickle.load(f2)\n",
    "            if DATA[2] < 65.0:\n",
    "                print(DATA)\n",
    "        except EOFError:\n",
    "            break"
   ]
  },
  {
   "cell_type": "code",
   "execution_count": null,
   "id": "d6c2f931",
   "metadata": {},
   "outputs": [
    {
     "name": "stdout",
     "output_type": "stream",
     "text": [
      "Name: Pranav\tPhone: 96XXXXXXXX\n",
      "Name: Pranav\tPhone: 98XXXXXXXX\n",
      "Name: Pranav\tPhone: 93XXXXXXXX\n"
     ]
    }
   ],
   "source": [
    "try: import csv\n",
    "except ImportError:\n",
    "    print(\"CSV Library not Found. Exiting.\")\n",
    "    exit(1)\n",
    "\n",
    "file = open(\"Files/contacts.csv\", \"a\")\n",
    "\n",
    "name = input(\"Please Enter Name: \")\n",
    "phno = input(\"Please Enter Phno: \")\n",
    "\n",
    "data = [name, phno]\n",
    "\n",
    "csvwriter = csv.writer(file)\n",
    "csvwriter.writerow(data)\n",
    "file.close()\n",
    "\n",
    "\n",
    "with open(\"Files/contacts.csv\", \"r\") as f1:\n",
    "    csvreader = csv.reader(f1)\n",
    "\n",
    "    for i in csvreader:\n",
    "        print(\"Name: \" + i[0] + \"\\t\" + \"Phone: \" + i[1])"
   ]
  },
  {
   "cell_type": "code",
   "execution_count": null,
   "id": "f258503a",
   "metadata": {},
   "outputs": [
    {
     "name": "stdout",
     "output_type": "stream",
     "text": [
      "Item No: 1\n",
      "Item Name: Rose\n",
      "Item Quantity: 100\n",
      "Item Price: 12.34\n",
      "------------------------------\n",
      "Item No: 2\n",
      "Item Name: Lily\n",
      "Item Quantity: 125\n",
      "Item Price: 12.4\n",
      "------------------------------\n"
     ]
    }
   ],
   "source": [
    "try:\n",
    "    import pickle\n",
    "except ImportError:\n",
    "    print(\"Pickle Library Not Found. Exiting.\")\n",
    "    exit(1)\n",
    "\n",
    "def item_no_inp(string):\n",
    "    try: \n",
    "        item_no = int(input(string))\n",
    "    except ValueError: \n",
    "        print(\"Cannot Convert Given Data to Int. Please Try Again.\")\n",
    "        return item_no_inp(string)\n",
    "    else:\n",
    "        return item_no\n",
    "\n",
    "def item_price_inp(string):\n",
    "    try: \n",
    "        item_price = float(input(string))\n",
    "    except ValueError: \n",
    "        print(\"Cannot Convert Given Data to Float. Please Try Again.\")\n",
    "        return item_price_inp(string)\n",
    "    else:\n",
    "        return item_price\n",
    "\n",
    "# Writing data to file\n",
    "with open(\"Files/records.dat\", \"wb\") as f1:\n",
    "    while True:\n",
    "        user_inp = input(\"Do You Want to Enter More Data? Y/N: \")\n",
    "        if user_inp.upper() == \"N\":\n",
    "            break\n",
    "        else:\n",
    "            item_no = item_no_inp(\"Please Enter Item Number: \")\n",
    "            item_name = input(\"Please Enter Item Name: \")\n",
    "            item_qty = item_no_inp(\"Please Enter Item Quantity: \")\n",
    "            item_price = item_price_inp(\"Please Enter Item Price: \")\n",
    "\n",
    "            data = [item_no, item_name, item_qty, item_price]\n",
    "            pickle.dump(data, f1)\n",
    "\n",
    "# Reading data from file\n",
    "with open(\"Files/records.dat\", \"rb\") as f1:\n",
    "    while True:\n",
    "        try:\n",
    "            data = pickle.load(f1)\n",
    "        \n",
    "            print(\"Item No: \" + str(data[0]))\n",
    "            print(\"Item Name: \" + data[1])\n",
    "            print(\"Item Quantity: \" + str(data[2])) \n",
    "            print(\"Item Price: \" + str(data[3])) \n",
    "            print(\"-\" * 30)\n",
    "            \n",
    "        except EOFError:\n",
    "            break"
   ]
  },
  {
   "cell_type": "code",
   "execution_count": null,
   "id": "ee384baa",
   "metadata": {},
   "outputs": [
    {
     "name": "stdout",
     "output_type": "stream",
     "text": [
      "/home/pranavverma/Github/Languages/Python3/School/Class XII/Half Yearly/Practice Code\n"
     ]
    }
   ],
   "source": [
    "try: import os\n",
    "except ImportError: \n",
    "    print(\"OS Library Not Found. Exiting.\")\n",
    "    exit(1)\n",
    "\n",
    "print(os.getcwd())"
   ]
  },
  {
   "cell_type": "code",
   "execution_count": null,
   "id": "30c41a5c",
   "metadata": {},
   "outputs": [
    {
     "name": "stdout",
     "output_type": "stream",
     "text": [
      "What the hell is this shit dude\n"
     ]
    },
    {
     "data": {
      "text/plain": [
       "32"
      ]
     },
     "execution_count": 3,
     "metadata": {},
     "output_type": "execute_result"
    }
   ],
   "source": [
    "try: import sys\n",
    "except ImportError:\n",
    "    print(\"Sys Library Not Found. Exiting.\")\n",
    "    exit(1)\n",
    "\n",
    "f1 = open('Files/source.txt')\n",
    "sys.stdout.write(f1.readline())"
   ]
  },
  {
   "cell_type": "code",
   "execution_count": null,
   "id": "41d31c22",
   "metadata": {},
   "outputs": [],
   "source": [
    "try: import csv\n",
    "except ImportError:\n",
    "    print(\"CSV Library Not Found. Exiting.\")\n",
    "    exit(1)\n",
    "\n",
    "f1 = open('Files/groceries.csv', \"w\")\n",
    "\n",
    "csv_writer = csv.writer(f1)\n",
    "\n",
    "csv_writer.writerow([\"Item Code\", \"Name\", \"Quantity\", \"Price\"])\n",
    "\n",
    "while True:\n",
    "    user_inp = input(\"Do You Want to Enter More Data? Y/N: \")\n",
    "    if user_inp.upper() == \"N\":\n",
    "        break\n",
    "    else:\n",
    "        item_code_input = int(input(\"Please Enter Item Code\"))\n",
    "        item_name_input = input(\"Please Enter Item Name\")\n",
    "        item_price_input = float(input(\"Please Enter Item Price: \"))\n",
    "        item_qty_input = int(input(\"Please Enter Item Quantity: \"))\n",
    "\n",
    "        data = [item_code_input, item_name_input, item_price_input, item_qty_input]\n",
    "        csv_writer.writerow(data)\n",
    "f1.close()"
   ]
  },
  {
   "cell_type": "code",
   "execution_count": 14,
   "id": "1dd2841a",
   "metadata": {},
   "outputs": [
    {
     "name": "stdout",
     "output_type": "stream",
     "text": [
      "['1', 'Carrot', '12.34', '1023']\n",
      "['2', 'Onion', '34.3', '1240']\n"
     ]
    }
   ],
   "source": [
    "try:\n",
    "    import csv\n",
    "except ImportError:\n",
    "    print(\"CSV Library Not Found. Exiting.\")\n",
    "    exit(1)\n",
    "\n",
    "with open(\"Files/groceries.csv\", \"r\") as f2:\n",
    "    csv_reader = csv.reader(f2)\n",
    "\n",
    "    for row in csv_reader:\n",
    "        if csv_reader.line_num == 1:\n",
    "            continue\n",
    "        print(row)\n"
   ]
  },
  {
   "cell_type": "code",
   "execution_count": 13,
   "id": "f4d56cea",
   "metadata": {},
   "outputs": [
    {
     "name": "stdout",
     "output_type": "stream",
     "text": [
      "0\n",
      "0\n"
     ]
    },
    {
     "ename": "UnsupportedOperation",
     "evalue": "can't do nonzero end-relative seeks",
     "output_type": "error",
     "traceback": [
      "\u001b[0;31m---------------------------------------------------------------------------\u001b[0m",
      "\u001b[0;31mUnsupportedOperation\u001b[0m                      Traceback (most recent call last)",
      "Cell \u001b[0;32mIn[13], line 16\u001b[0m\n\u001b[1;32m     13\u001b[0m \u001b[38;5;28mprint\u001b[39m(f1\u001b[38;5;241m.\u001b[39mtell())\n\u001b[1;32m     15\u001b[0m \u001b[38;5;66;03m# From the End Of the File:\u001b[39;00m\n\u001b[0;32m---> 16\u001b[0m f1\u001b[38;5;241m.\u001b[39mseek(\u001b[38;5;241m-\u001b[39m\u001b[38;5;241m3\u001b[39m, \u001b[38;5;241m2\u001b[39m)\n\u001b[1;32m     17\u001b[0m \u001b[38;5;28mprint\u001b[39m(f1\u001b[38;5;241m.\u001b[39mtell())\n",
      "\u001b[0;31mUnsupportedOperation\u001b[0m: can't do nonzero end-relative seeks"
     ]
    }
   ],
   "source": [
    "try: f1 = open('Files/test.txt', 'r')\n",
    "except FileNotFoundError:\n",
    "    print(\"File 'test.txt' Not Found. Exiting.\")\n",
    "    exit(1)\n",
    "\n",
    "\n",
    "# From the Beginning of the File:\n",
    "f1.seek(0, 0)\n",
    "print(f1.tell())\n",
    "\n",
    "# From the Current Pos:\n",
    "f1.seek(0, 1)\n",
    "print(f1.tell())\n",
    "\n",
    "# From the End Of the File:\n",
    "f1.seek(-3, 2)\n",
    "print(f1.tell())"
   ]
  },
  {
   "cell_type": "code",
   "execution_count": 16,
   "id": "4975be21",
   "metadata": {},
   "outputs": [],
   "source": [
    "try: import pickle\n",
    "except ImportError:\n",
    "    print(\"Library Pickle Not Found. Exiting.\")\n",
    "    exit(1)\n",
    "\n",
    "def update_stock(prod_code, prod_desc, stock):\n",
    "    data = {\"prod_code\": prod_code, \"prod_desc\": prod_desc, \"stock\": stock}\n",
    "    with open(\"Files/product.dat\", 'wb') as f1:\n",
    "        pickle.dump(data, f1)\n",
    "\n",
    "\n",
    "\n",
    "products = [\n",
    "    {\"prod_code\": \"P001\", \"prod_desc\": \"Laptop\", \"stock\": 25},\n",
    "    {\"prod_code\": \"P002\", \"prod_desc\": \"Smartphone\", \"stock\": 50},\n",
    "    {\"prod_code\": \"P003\", \"prod_desc\": \"Headphones\", \"stock\": 100},\n",
    "    {\"prod_code\": \"P004\", \"prod_desc\": \"Monitor\", \"stock\": 15},\n",
    "    {\"prod_code\": \"P005\", \"prod_desc\": \"Keyboard\", \"stock\": 35}\n",
    "]\n",
    "\n",
    "for i in products:\n",
    "    update_stock(i[\"prod_code\"], i[\"prod_desc\"], i[\"stock\"])"
   ]
  },
  {
   "cell_type": "markdown",
   "id": "f1e7665e",
   "metadata": {},
   "source": [
    "## Chapter 5: Data Structures in Python"
   ]
  },
  {
   "cell_type": "code",
   "execution_count": 14,
   "id": "6394502d",
   "metadata": {},
   "outputs": [
    {
     "name": "stdout",
     "output_type": "stream",
     "text": [
      "23\n",
      "34\n",
      "[23, 34]\n",
      "34\n",
      "[23]\n",
      "23\n",
      "[]\n"
     ]
    }
   ],
   "source": [
    "stack = list()\n",
    "\n",
    "STACK_OVERFLOW_LIMIT = 2\n",
    "\n",
    "def Push(item):\n",
    "    global stack\n",
    "    stack.append(item)\n",
    "    if len(stack) > STACK_OVERFLOW_LIMIT:\n",
    "        raise Exception(\"Stack Overflow. Exiting.\")\n",
    "    return item\n",
    "\n",
    "def Pop():\n",
    "    global stack\n",
    "    if len(stack) <= 0:\n",
    "        raise Exception(\"Stack Underflow. Exiting.\")\n",
    "    item = stack.pop()\n",
    "    return item\n",
    "\n",
    "def View():\n",
    "    global stack\n",
    "    return stack\n",
    "\n",
    "\n",
    "print(Push(23))\n",
    "print(Push(34))\n",
    "print(View())\n",
    "\n",
    "print(Pop())\n",
    "print(View())\n",
    "print(Pop())\n",
    "print(View())"
   ]
  },
  {
   "cell_type": "code",
   "execution_count": 22,
   "id": "7deb24ee",
   "metadata": {},
   "outputs": [
    {
     "name": "stdout",
     "output_type": "stream",
     "text": [
      "('XXXXXX', 'Noida')\n",
      "('XXXXXX', 'Delhi')\n",
      "('XXXXXX', 'Gurgaon')\n",
      "('XXXXXX', 'Gurgaon')\n",
      "('XXXXXX', 'Delhi')\n",
      "('XXXXXX', 'Noida')\n"
     ]
    },
    {
     "ename": "Exception",
     "evalue": "Stack Underflow. Exiting.",
     "output_type": "error",
     "traceback": [
      "\u001b[0;31m---------------------------------------------------------------------------\u001b[0m",
      "\u001b[0;31mException\u001b[0m                                 Traceback (most recent call last)",
      "Cell \u001b[0;32mIn[22], line 31\u001b[0m\n\u001b[1;32m     28\u001b[0m \u001b[38;5;28mprint\u001b[39m(delete(Directory))\n\u001b[1;32m     30\u001b[0m \u001b[38;5;66;03m# This will Cause Stack Underflow:\u001b[39;00m\n\u001b[0;32m---> 31\u001b[0m \u001b[38;5;28mprint\u001b[39m(delete(Directory))\n",
      "Cell \u001b[0;32mIn[22], line 18\u001b[0m, in \u001b[0;36mdelete\u001b[0;34m(Directory)\u001b[0m\n\u001b[1;32m     16\u001b[0m \u001b[38;5;28;01mdef\u001b[39;00m\u001b[38;5;250m \u001b[39m\u001b[38;5;21mdelete\u001b[39m(Directory):\n\u001b[1;32m     17\u001b[0m     \u001b[38;5;28;01mif\u001b[39;00m \u001b[38;5;28mlen\u001b[39m(Directory) \u001b[38;5;241m<\u001b[39m\u001b[38;5;241m=\u001b[39m \u001b[38;5;241m0\u001b[39m:\n\u001b[0;32m---> 18\u001b[0m         \u001b[38;5;28;01mraise\u001b[39;00m \u001b[38;5;167;01mException\u001b[39;00m(\u001b[38;5;124m\"\u001b[39m\u001b[38;5;124mStack Underflow. Exiting.\u001b[39m\u001b[38;5;124m\"\u001b[39m)\n\u001b[1;32m     19\u001b[0m     popped_item \u001b[38;5;241m=\u001b[39m Directory\u001b[38;5;241m.\u001b[39mpop()\n\u001b[1;32m     20\u001b[0m     \u001b[38;5;28;01mreturn\u001b[39;00m popped_item\n",
      "\u001b[0;31mException\u001b[0m: Stack Underflow. Exiting."
     ]
    }
   ],
   "source": [
    "Directory = []\n",
    "\n",
    "STACK_SIZE_LIMIT = float('inf')\n",
    "\n",
    "def add(Directory):\n",
    "    pin_code = input(\"Please Enter Pin Code: \")\n",
    "    name_city = input(\"Please Enter Name of City: \")\n",
    "\n",
    "    data = (pin_code, name_city)\n",
    "    Directory.append(data)\n",
    "\n",
    "    if len(Directory) > STACK_SIZE_LIMIT:\n",
    "        raise Exception(\"Stack Overflow. Exiting.\")\n",
    "    return(data)\n",
    "\n",
    "def delete(Directory):\n",
    "    if len(Directory) <= 0:\n",
    "        raise Exception(\"Stack Underflow. Exiting.\")\n",
    "    popped_item = Directory.pop()\n",
    "    return popped_item\n",
    "\n",
    "\n",
    "print(add(Directory))\n",
    "print(add(Directory))\n",
    "print(add(Directory))\n",
    "print(delete(Directory))\n",
    "print(delete(Directory))\n",
    "print(delete(Directory))\n",
    "\n",
    "# This will Cause Stack Underflow:\n",
    "print(delete(Directory))"
   ]
  },
  {
   "cell_type": "code",
   "execution_count": 25,
   "id": "2225082a",
   "metadata": {},
   "outputs": [
    {
     "name": "stdout",
     "output_type": "stream",
     "text": [
      "Before sorting: [12, 5, -3, 4, 10]\n",
      "After sorting: [-3, 4, 5, 10, 12]\n"
     ]
    }
   ],
   "source": [
    "def insert_sorted(stack, num):\n",
    "    if not stack or num > stack[-1]:\n",
    "        stack.append(num)\n",
    "    else:\n",
    "        temp = stack.pop()\n",
    "        insert_sorted(stack, num)\n",
    "        stack.append(temp)\n",
    "\n",
    "def sort_stack(stack):\n",
    "    if stack:\n",
    "        temp = stack.pop()\n",
    "        sort_stack(stack)\n",
    "        insert_sorted(stack, temp)\n",
    "\n",
    "# Example usage\n",
    "stack = [12, 5, -3, 4, 10]\n",
    "\n",
    "print(\"Before sorting:\", stack)\n",
    "sort_stack(stack)\n",
    "print(\"After sorting:\", stack)\n"
   ]
  },
  {
   "cell_type": "code",
   "execution_count": 28,
   "id": "4a62d1cf",
   "metadata": {},
   "outputs": [
    {
     "name": "stdout",
     "output_type": "stream",
     "text": [
      "b 20\n",
      "c 30\n",
      "z 10\n"
     ]
    }
   ],
   "source": [
    "dict1 = {\"z\": 10, \"b\":20, \"c\": 30}\n",
    "\n",
    "dict2 = sorted(dict1)\n",
    "\n",
    "for i in dict2:\n",
    "    print(i, dict1[i])"
   ]
  }
 ],
 "metadata": {
  "kernelspec": {
   "display_name": "base",
   "language": "python",
   "name": "python3"
  },
  "language_info": {
   "codemirror_mode": {
    "name": "ipython",
    "version": 3
   },
   "file_extension": ".py",
   "mimetype": "text/x-python",
   "name": "python",
   "nbconvert_exporter": "python",
   "pygments_lexer": "ipython3",
   "version": "3.13.5"
  }
 },
 "nbformat": 4,
 "nbformat_minor": 5
}

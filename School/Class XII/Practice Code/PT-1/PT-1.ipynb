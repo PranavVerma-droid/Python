{
 "cells": [
  {
   "cell_type": "markdown",
   "metadata": {},
   "source": [
    "# PT-1 Practice Code File"
   ]
  },
  {
   "cell_type": "code",
   "execution_count": null,
   "metadata": {},
   "outputs": [
    {
     "name": "stdout",
     "output_type": "stream",
     "text": [
      "{'UPPER': 3, 'LOWER': 12}\n"
     ]
    }
   ],
   "source": [
    "# Book UNSOLVED Chaper 1 Q5\n",
    "\n",
    "str1 = \"Cricket World Cup\"\n",
    "\n",
    "upperCount = 0; lowerCount = 0\n",
    "\n",
    "for i in str1:\n",
    "    if i.isupper():\n",
    "        upperCount += 1\n",
    "    elif i.islower():\n",
    "        lowerCount += 1\n",
    "    else:\n",
    "        pass\n",
    "\n",
    "newDict = {\"UPPER\": upperCount, \"LOWER\": lowerCount}\n",
    "\n",
    "print(newDict)"
   ]
  },
  {
   "cell_type": "code",
   "execution_count": 11,
   "metadata": {},
   "outputs": [
    {
     "name": "stdout",
     "output_type": "stream",
     "text": [
      "[1, 2, 3, 4, 5]\n"
     ]
    }
   ],
   "source": [
    "# Book UNSOLVED Chaper 1 Q6\n",
    "\n",
    "sample_list = [1, 1, 1, 1, 1, 2, 3, 4, 5, 4, 4, 4, 4]\n",
    "\n",
    "unique_list = []\n",
    "\n",
    "\n",
    "for i in sample_list:\n",
    "    if i not in unique_list:\n",
    "        unique_list.append(i)\n",
    "    else:\n",
    "        pass\n",
    "\n",
    "print(unique_list)"
   ]
  },
  {
   "cell_type": "code",
   "execution_count": 14,
   "metadata": {},
   "outputs": [
    {
     "name": "stdout",
     "output_type": "stream",
     "text": [
      "{}\n"
     ]
    }
   ],
   "source": [
    "# Testing Block\n",
    "\n",
    "dict_name = {\"Sumit\": 100}\n",
    "\n",
    "del(dict_name[\"Sumit\"])\n",
    "print(dict_name)"
   ]
  },
  {
   "cell_type": "code",
   "execution_count": 19,
   "metadata": {},
   "outputs": [
    {
     "name": "stdout",
     "output_type": "stream",
     "text": [
      "1\n",
      "2\n",
      "3\n",
      "hell\n"
     ]
    }
   ],
   "source": [
    "# Testing Block\n",
    "\n",
    "d = {1:4, 2:5, 3:6}\n",
    "\n",
    "for i in d:\n",
    "    print(i)\n",
    "\n",
    "str1 = \"hello\"\n",
    "print(str1[:-1])\n",
    "\n",
    "dict1 = {}\n",
    "dict1.clear()"
   ]
  },
  {
   "cell_type": "code",
   "execution_count": 20,
   "metadata": {},
   "outputs": [
    {
     "name": "stdout",
     "output_type": "stream",
     "text": [
      "i@DIA@g@@@I@G\n"
     ]
    }
   ],
   "source": [
    "s = \"India Growing\"\n",
    "\n",
    "n = len(s)\n",
    "m = \"\"\n",
    "\n",
    "for i in range(0, n):\n",
    "    if (s[i] >= \"a\" and s[i] <= \"m\"):\n",
    "        m = m + s[i].upper()\n",
    "    elif (s[i] >= \"O\" and s[i] <= \"Z\"):\n",
    "        m = m + s[i-1]\n",
    "    elif (s[i].isupper()):\n",
    "        m = m + s[i].lower()\n",
    "    else:\n",
    "        m = m + \"@\"\n",
    "\n",
    "print(m)\n",
    "\n",
    "#Output: i@DIA@g@@@I@G"
   ]
  },
  {
   "cell_type": "code",
   "execution_count": 21,
   "metadata": {},
   "outputs": [
    {
     "name": "stdout",
     "output_type": "stream",
     "text": [
      "HIMALAYA#8\n",
      "ALPS#4\n"
     ]
    }
   ],
   "source": [
    "LS = [\"HIMALAYA\", \"NILGIRI\", \"ALASKA\", \"ALPS\"]\n",
    "D = {}\n",
    "\n",
    "for S in LS:\n",
    "    if len(S)%4 == 0:\n",
    "        D[S] = len(S)\n",
    "\n",
    "for K in D:\n",
    "    print(K, D[K], sep=\"#\")"
   ]
  },
  {
   "cell_type": "code",
   "execution_count": 23,
   "metadata": {},
   "outputs": [
    {
     "name": "stdout",
     "output_type": "stream",
     "text": [
      "['Maths', 'English', 'Science'] Computer Science\n"
     ]
    }
   ],
   "source": [
    "tup1 = (\"Maths\", \"English\", \"Science\", \"Computer Science\")\n",
    "\n",
    "list1 = [i for i in tup1]\n",
    "\n",
    "delSubject = list1.pop()\n",
    "\n",
    "print(list1, delSubject)"
   ]
  },
  {
   "cell_type": "code",
   "execution_count": 26,
   "metadata": {},
   "outputs": [
    {
     "name": "stdout",
     "output_type": "stream",
     "text": [
      "si no\n"
     ]
    }
   ],
   "source": [
    "NAME = \"Learning Python is Fun\"\n",
    "\n",
    "print(NAME[-5:-10:-1])"
   ]
  },
  {
   "cell_type": "code",
   "execution_count": 29,
   "metadata": {},
   "outputs": [
    {
     "name": "stdout",
     "output_type": "stream",
     "text": [
      "{1: 'Bravo', 2: 'New', 5: 'Delta'}\n"
     ]
    }
   ],
   "source": [
    "dict1 = {1:\"Testing\", 2:\"New\"}\n",
    "dict2 = {1: \"Bravo\", 5: \"Delta\"}\n",
    "\n",
    "dict1.update(dict2)\n",
    "\n",
    "print(dict1)"
   ]
  },
  {
   "cell_type": "code",
   "execution_count": 41,
   "metadata": {},
   "outputs": [
    {
     "name": "stdout",
     "output_type": "stream",
     "text": [
      "SEARNINGgC\n"
     ]
    }
   ],
   "source": [
    "text = \"LearningCS\"\n",
    "L = len(text)\n",
    "ntext = \"\"\n",
    "\n",
    "for i in range(0, L):\n",
    "    if text[i].islower():\n",
    "        ntext = ntext + text[i].upper()\n",
    "    elif text[i].isalnum():\n",
    "        ntext = ntext + text[i - 1]\n",
    "    else:\n",
    "        ntext = ntext + \"&&\"\n",
    "print (ntext)\n",
    "\n",
    "#Output: SEARNINGgC"
   ]
  }
 ],
 "metadata": {
  "kernelspec": {
   "display_name": "Python 3",
   "language": "python",
   "name": "python3"
  },
  "language_info": {
   "codemirror_mode": {
    "name": "ipython",
    "version": 3
   },
   "file_extension": ".py",
   "mimetype": "text/x-python",
   "name": "python",
   "nbconvert_exporter": "python",
   "pygments_lexer": "ipython3",
   "version": "3.12.7"
  }
 },
 "nbformat": 4,
 "nbformat_minor": 2
}

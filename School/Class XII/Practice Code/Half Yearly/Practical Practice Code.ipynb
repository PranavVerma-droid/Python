{
 "cells": [
  {
   "cell_type": "markdown",
   "id": "13b0a293",
   "metadata": {},
   "source": [
    "# Practice Code CS Half Yearly Practical"
   ]
  },
  {
   "cell_type": "code",
   "execution_count": null,
   "id": "c29411b6",
   "metadata": {
    "vscode": {
     "languageId": "plaintext"
    }
   },
   "outputs": [],
   "source": [
    "I don't need no practice, I'm just that good!"
   ]
  }
 ],
 "metadata": {
  "kernelspec": {
   "display_name": "base",
   "language": "python",
   "name": "python3"
  },
  "language_info": {
   "name": "python",
   "version": "3.13.5"
  }
 },
 "nbformat": 4,
 "nbformat_minor": 5
}

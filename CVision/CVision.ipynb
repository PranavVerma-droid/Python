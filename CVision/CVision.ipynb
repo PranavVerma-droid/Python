{
 "cells": [
  {
   "cell_type": "markdown",
   "metadata": {},
   "source": [
    "# CVision Notebook"
   ]
  },
  {
   "cell_type": "markdown",
   "metadata": {},
   "source": [
    "### Convert Black Pictures to Colored"
   ]
  },
  {
   "cell_type": "code",
   "execution_count": null,
   "metadata": {},
   "outputs": [],
   "source": [
    "%pip install opencv-python"
   ]
  },
  {
   "cell_type": "code",
   "execution_count": null,
   "metadata": {},
   "outputs": [],
   "source": [
    "import cv2\n",
    "\n",
    "# Load the B&amp;W image\n",
    "img = cv2.imread('bw_image.jpg', 0)\n",
    "\n",
    "# Apply a pseudocolor effect to the B&amp;W image\n",
    "colorized = cv2.applyColorMap(img, cv2.COLORMAP_JET)\n",
    "\n",
    "# Save the colorized image\n",
    "cv2.imwrite('colorized_image.jpg', colorized)"
   ]
  },
  {
   "cell_type": "markdown",
   "metadata": {},
   "source": [
    "### Convert Image to Sketch"
   ]
  },
  {
   "cell_type": "code",
   "execution_count": null,
   "metadata": {},
   "outputs": [],
   "source": [
    "import cv2 as cv\n",
    "\n",
    "# Replace the name with your Image Name\n",
    "image = cv.imread(\"sample.jpeg\")\n",
    "\n",
    "gray_image = cv.cvtColor(image, cv.COLOR_BGR2GRAY)\n",
    "\n",
    "invert_image = cv.bitwise_not(gray_image)\n",
    "blur_image = cv.GaussianBlur(invert_image, (21,21), 0)\n",
    "\n",
    "invert_blur = cv.bitwise_not(blur_image) #Blur\n",
    "\n",
    "sketch = cv.divide(gray_image, invert_blur, scale=256.0)\n",
    "\n",
    "cv.imwrite(\"Sketch4.png\", invert_blur)"
   ]
  }
 ],
 "metadata": {
  "language_info": {
   "name": "python"
  },
  "orig_nbformat": 4
 },
 "nbformat": 4,
 "nbformat_minor": 2
}

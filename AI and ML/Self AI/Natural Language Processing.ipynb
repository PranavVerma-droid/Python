{
 "cells": [
  {
   "cell_type": "markdown",
   "metadata": {},
   "source": [
    "# Natural Language Processing"
   ]
  },
  {
   "cell_type": "code",
   "execution_count": null,
   "metadata": {},
   "outputs": [],
   "source": [
    "%pip install nltk"
   ]
  },
  {
   "cell_type": "code",
   "execution_count": null,
   "metadata": {},
   "outputs": [],
   "source": [
    "import nltk\n",
    "from nltk.tokenize import word_tokenize\n",
    "from nltk.corpus import stopwords\n",
    "from nltk.probability import FreqDist\n",
    "from nltk.sentiment import SentimentIntensityAnalyzer\n",
    "from nltk.tree import Tree\n",
    "\n",
    "nltk.download('punkt')\n",
    "nltk.download('stopwords')\n",
    "nltk.download('vader_lexicon')\n",
    "nltk.download('averaged_perceptron_tagger')\n",
    "nltk.download('maxent_ne_chunker')\n",
    "nltk.download('words')\n",
    "\n",
    "\n",
    "# Tokenization\n",
    "text = \"The curious cat with fluffy white fur and sparkling green eyes cautiously crept through the tall trees.\"\n",
    "tokens = word_tokenize(text)\n",
    "print(\"Tokens:\", tokens)\n",
    "\n",
    "# Stopword Removal\n",
    "stop_words = set(stopwords.words('english'))\n",
    "filtered_tokens = [token for token in tokens if token.lower() not in stop_words]\n",
    "print(\"Filtered Tokens:\", filtered_tokens)\n",
    "\n",
    "# Frequency Distribution\n",
    "fdist = FreqDist(filtered_tokens)\n",
    "print(\"Most Common Words:\", fdist.most_common(3))\n",
    "\n",
    "# Sentiment Analysis\n",
    "sentiment_analyzer = SentimentIntensityAnalyzer()\n",
    "sentiment_scores = sentiment_analyzer.polarity_scores(text)\n",
    "print(\"Sentiment Scores:\", sentiment_scores)\n",
    "\n",
    "# Syntax Parsing\n",
    "sentence = input(\"Enter: \")\n",
    "tokens = word_tokenize(sentence)\n",
    "tagged_tokens = nltk.pos_tag(tokens)\n",
    "parse_tree = nltk.ne_chunk(tagged_tokens)\n",
    "\n",
    "# Draw Syntax Tree\n",
    "parse_tree.draw()"
   ]
  },
  {
   "cell_type": "code",
   "execution_count": null,
   "metadata": {},
   "outputs": [],
   "source": [
    "import nltk\n",
    "from nltk.chat.util import Chat, reflections\n",
    "\n",
    "# Define chat pairs\n",
    "pairs = [\n",
    "    [\n",
    "        r\"my name is (.*)\",\n",
    "        [\"Hello %1! How can I assist you?\",]\n",
    "    ],\n",
    "    [\n",
    "        r\"hi|hey|hello\",\n",
    "        [\"Hello\", \"Hey there\",]\n",
    "    ],\n",
    "    [\n",
    "        r\"(.*) (hungry|thirsty)\",\n",
    "        [\"I'm sorry to hear that. Can I help you find a restaurant?\",]\n",
    "    ],\n",
    "    [\n",
    "        r\"quit\",\n",
    "        [\"Goodbye! Take care.\",]\n",
    "    ],\n",
    "]\n",
    "\n",
    "# Create a chatbot\n",
    "chatbot = Chat(pairs, reflections)\n",
    "\n",
    "# Start the conversation\n",
    "print(\"Bot: Hello! How can I assist you? Type 'quit' to exit.\")\n",
    "chatbot.converse()\n"
   ]
  }
 ],
 "metadata": {
  "kernelspec": {
   "display_name": "Python 3",
   "language": "python",
   "name": "python3"
  },
  "language_info": {
   "codemirror_mode": {
    "name": "ipython",
    "version": 3
   },
   "file_extension": ".py",
   "mimetype": "text/x-python",
   "name": "python",
   "nbconvert_exporter": "python",
   "pygments_lexer": "ipython3",
   "version": "3.11.3"
  },
  "orig_nbformat": 4
 },
 "nbformat": 4,
 "nbformat_minor": 2
}

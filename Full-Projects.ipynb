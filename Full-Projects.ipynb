{
 "cells": [
  {
   "attachments": {},
   "cell_type": "markdown",
   "metadata": {},
   "source": [
    "# Fully Made Projects (For Python)"
   ]
  },
  {
   "attachments": {},
   "cell_type": "markdown",
   "metadata": {},
   "source": [
    "### Calculator"
   ]
  },
  {
   "cell_type": "code",
   "execution_count": 1,
   "metadata": {},
   "outputs": [
    {
     "name": "stdout",
     "output_type": "stream",
     "text": [
      "choose one of the following options:\n",
      "1. add\n",
      "2. subtract\n",
      "3. multiply\n",
      "4. divide\n",
      "5. power\n",
      "2.0 * 4.0 = 8.0\n",
      "choose one of the following options:\n",
      "1. add\n",
      "2. subtract\n",
      "3. multiply\n",
      "4. divide\n",
      "5. power\n",
      "100.0 - 1000.0 = -900.0\n"
     ]
    }
   ],
   "source": [
    "import sys\n",
    "\n",
    "\n",
    "# define the variables.\n",
    "def add(x, y):\n",
    "    return x + y\n",
    "\n",
    "\n",
    "def subtract(x, y):\n",
    "    return x - y\n",
    "\n",
    "\n",
    "def multiply(x, y):\n",
    "    return x * y\n",
    "\n",
    "\n",
    "def divide(x, y):\n",
    "    return x / y\n",
    "\n",
    "def power(x, y):\n",
    "    return x ** y\n",
    "\n",
    "\n",
    "\n",
    "\n",
    "# start the calculator.\n",
    "def calculator():\n",
    "    active = True\n",
    "    while active:\n",
    "        print(\"choose one of the following options:\")\n",
    "        print(\"1. add\")\n",
    "        print(\"2. subtract\")\n",
    "        print(\"3. multiply\")\n",
    "        print(\"4. divide\")\n",
    "        print(\"5. power\")\n",
    "\n",
    "        choice = input(\"Your input:\")\n",
    "        if choice in (\"1\", \"2\", \"3\", \"4\",\"5\"):\n",
    "            num1 = float(input(\"enter the first number: \"))\n",
    "            num2 = float(input(\"enter the second number: \"))\n",
    "            if choice == \"1\":\n",
    "                print(num1, \"+\", num2, \"=\", add(num1, num2))\n",
    "                ans = input(\"do you want to use this again (y/n): \")\n",
    "                if ans == \"n\":\n",
    "                    break\n",
    "            elif choice == \"2\":\n",
    "                print(num1, \"-\", num2, \"=\", subtract(num1, num2))\n",
    "                ans = input(\"do you want to use this again (y/n): \")\n",
    "                if ans == \"n\":\n",
    "                    break\n",
    "            elif choice == \"3\":\n",
    "                print(num1, \"*\", num2, \"=\", multiply(num1, num2))\n",
    "                ans = input(\"do you want to use this again (y/n): \")\n",
    "                if ans == \"n\":\n",
    "                    break\n",
    "            # there seems to be a problem here...\n",
    "            elif choice == \"4\":\n",
    "                if num2 == \"0\":\n",
    "                    try:\n",
    "                        print(num1, \"/\", num2, \"=\", divide(num1, num2))\n",
    "                    except ZeroDivisionError:\n",
    "                        print(\"you can't divide by zero!\")\n",
    "                else:\n",
    "                    print(num1, \"/\", num2, \"=\", divide(num1, num2))\n",
    "                ans = input(\"do you want to use this again (y/n): \")\n",
    "                if ans == \"n\":\n",
    "                    break\n",
    "\n",
    "            elif choice == \"5\":\n",
    "                print(num1, \"Raised to the power of\", num2, \"=\", power(num1, num2))\n",
    "                ans = input(\"do you want to use this again (y/n): \")\n",
    "                if ans == \"n\":\n",
    "                    break\n",
    "\n",
    "\n",
    "\n",
    "\n",
    "            else:\n",
    "                print(\"invalid input!\")\n",
    "\n",
    "\n",
    "calculator()"
   ]
  },
  {
   "attachments": {},
   "cell_type": "markdown",
   "metadata": {},
   "source": [
    "### Random Game"
   ]
  },
  {
   "cell_type": "code",
   "execution_count": 3,
   "metadata": {},
   "outputs": [
    {
     "name": "stdout",
     "output_type": "stream",
     "text": [
      "Welcome to my guessing game. My name is Jiksaw.\n",
      "You have to guess the correct number and enter it in the terminal.\n",
      "The Max number for Guessing will be what you select as the number( That means the number will not go above what you specify)\n",
      "if you want to quit at any time, pls type the number 0\n",
      "Go ahead and type the Number Bellow. viel Glück!!\n",
      "Number is too large!\n",
      "Number is too small!\n",
      "Number is too small!\n",
      "Number is too small!\n",
      "Number is too large!\n",
      "Number is too large!\n",
      "Number is too large!\n",
      "Number is too small!\n",
      "Number is too small!\n",
      "Number is too small!\n",
      "Number is too small!\n",
      "Number is too large!\n",
      "Number is too large!\n",
      "Number is too large!\n",
      "Number is too large!\n",
      "Number is too large!\n",
      "Number is too small!\n",
      "Congrats you found the number!!! It was in fact the number 85 !!\n"
     ]
    }
   ],
   "source": [
    "import random\n",
    "guess = 0\n",
    "print('Welcome to my guessing game. My name is Jiksaw.')\n",
    "print('You have to guess the correct number and enter it in the terminal.')\n",
    "print('The Max number for Guessing will be what you select as the number''( That means the number will not go above what you specify)')\n",
    "print('if you want to quit at any time, pls type the number 0')\n",
    "print('Go ahead and type the Number Bellow. viel Glück!!')\n",
    "\n",
    "\n",
    "max = int(input('Pls Specify the Max number to Start: '))\n",
    "what_to_guess = int(max * random.random()) + 1\n",
    "while guess != what_to_guess:\n",
    "    guess = int(input('New Number: '))\n",
    "    if guess > 0:\n",
    "        if guess > what_to_guess:\n",
    "            print('Number is too large!')\n",
    "        elif guess < what_to_guess:\n",
    "            print('Number is too small!')\n",
    "    else:\n",
    "        print('Sorry that u are giving up!! The Number was',what_to_guess)\n",
    "        break\n",
    "\n",
    "else:\n",
    "    print('Congrats you found the number!!! It was in fact the number',what_to_guess,'!!')\n"
   ]
  }
 ],
 "metadata": {
  "kernelspec": {
   "display_name": "Python 3",
   "language": "python",
   "name": "python3"
  },
  "language_info": {
   "codemirror_mode": {
    "name": "ipython",
    "version": 3
   },
   "file_extension": ".py",
   "mimetype": "text/x-python",
   "name": "python",
   "nbconvert_exporter": "python",
   "pygments_lexer": "ipython3",
   "version": "3.11.2"
  },
  "orig_nbformat": 4
 },
 "nbformat": 4,
 "nbformat_minor": 2
}

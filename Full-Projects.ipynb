{
 "cells": [
  {
   "attachments": {},
   "cell_type": "markdown",
   "metadata": {},
   "source": [
    "# Fully Made Projects (For Python)"
   ]
  },
  {
   "cell_type": "code",
   "execution_count": null,
   "metadata": {},
   "outputs": [],
   "source": [
    "# All of these given projects will NOT work on github web. You need to download the files and run them on your local machine.\n",
    "# This is because of the reason to take input from the user. Jupyter Notebook is not able to take input from the user on github web.\n",
    "\n",
    "#All of these Projects have been made by me. I have not copied any of these projects from any other source.\n",
    "#If you have any doubt or any suggestion, please feel free to contact me on my website: https://web.craftingrealm.tk"
   ]
  },
  {
   "attachments": {},
   "cell_type": "markdown",
   "metadata": {},
   "source": [
    "### Calculator"
   ]
  },
  {
   "cell_type": "code",
   "execution_count": 3,
   "metadata": {},
   "outputs": [
    {
     "name": "stdout",
     "output_type": "stream",
     "text": [
      "choose one of the following options:\n",
      "1. add\n",
      "2. subtract\n",
      "3. multiply\n",
      "4. divide\n",
      "5. power\n",
      "1.0 + 1.0 = 2.0\n"
     ]
    }
   ],
   "source": [
    "import sys\n",
    "\n",
    "\n",
    "# define the variables.\n",
    "def add(x, y):\n",
    "    return x + y\n",
    "\n",
    "\n",
    "def subtract(x, y):\n",
    "    return x - y\n",
    "\n",
    "\n",
    "def multiply(x, y):\n",
    "    return x * y\n",
    "\n",
    "\n",
    "def divide(x, y):\n",
    "    return x / y\n",
    "\n",
    "def power(x, y):\n",
    "    return x ** y\n",
    "\n",
    "\n",
    "\n",
    "\n",
    "# start the calculator.\n",
    "def calculator():\n",
    "    active = True\n",
    "    while active:\n",
    "        print(\"choose one of the following options:\")\n",
    "        print(\"1. add\")\n",
    "        print(\"2. subtract\")\n",
    "        print(\"3. multiply\")\n",
    "        print(\"4. divide\")\n",
    "        print(\"5. power\")\n",
    "\n",
    "        choice = input(\"Your input:\")\n",
    "        if choice in (\"1\", \"2\", \"3\", \"4\",\"5\"):\n",
    "            num1 = float(input(\"enter the first number: \"))\n",
    "            num2 = float(input(\"enter the second number: \"))\n",
    "            if choice == \"1\":\n",
    "                print(num1, \"+\", num2, \"=\", add(num1, num2))\n",
    "                ans = input(\"do you want to use this again (y/n): \")\n",
    "                if ans == \"n\":\n",
    "                    break\n",
    "            elif choice == \"2\":\n",
    "                print(num1, \"-\", num2, \"=\", subtract(num1, num2))\n",
    "                ans = input(\"do you want to use this again (y/n): \")\n",
    "                if ans == \"n\":\n",
    "                    break\n",
    "            elif choice == \"3\":\n",
    "                print(num1, \"*\", num2, \"=\", multiply(num1, num2))\n",
    "                ans = input(\"do you want to use this again (y/n): \")\n",
    "                if ans == \"n\":\n",
    "                    break\n",
    "            # there seems to be a problem here...\n",
    "            elif choice == \"4\":\n",
    "                if num2 == \"0\":\n",
    "                    try:\n",
    "                        print(num1, \"/\", num2, \"=\", divide(num1, num2))\n",
    "                    except ZeroDivisionError:\n",
    "                        print(\"you can't divide by zero!\")\n",
    "                else:\n",
    "                    print(num1, \"/\", num2, \"=\", divide(num1, num2))\n",
    "                ans = input(\"do you want to use this again (y/n): \")\n",
    "                if ans == \"n\":\n",
    "                    break\n",
    "\n",
    "            elif choice == \"5\":\n",
    "                print(num1, \"Raised to the power of\", num2, \"=\", power(num1, num2))\n",
    "                ans = input(\"do you want to use this again (y/n): \")\n",
    "                if ans == \"n\":\n",
    "                    break\n",
    "\n",
    "\n",
    "\n",
    "\n",
    "            else:\n",
    "                print(\"invalid input!\")\n",
    "\n",
    "\n",
    "calculator()"
   ]
  },
  {
   "attachments": {},
   "cell_type": "markdown",
   "metadata": {},
   "source": [
    "### Random Game"
   ]
  },
  {
   "cell_type": "code",
   "execution_count": 6,
   "metadata": {},
   "outputs": [
    {
     "name": "stdout",
     "output_type": "stream",
     "text": [
      "Welcome to my guessing game. My name is Jiksaw.\n",
      "You have to guess the correct number and enter it in the terminal.\n",
      "The Max number for Guessing will be what you select as the number( That means the number will not go above what you specify)\n",
      "if you want to quit at any time, pls type the number 0\n",
      "Go ahead and type the Number Bellow. viel Glück!!\n",
      "Sorry that u are giving up!! The Number was 43\n"
     ]
    }
   ],
   "source": [
    "import random\n",
    "guess = 0\n",
    "print('Welcome to my guessing game. My name is Jiksaw.')\n",
    "print('You have to guess the correct number and enter it in the terminal.')\n",
    "print('The Max number for Guessing will be what you select as the number''( That means the number will not go above what you specify)')\n",
    "print('if you want to quit at any time, pls type the number 0')\n",
    "print('Go ahead and type the Number Bellow. viel Glück!!')\n",
    "\n",
    "\n",
    "max = int(input('Pls Specify the Max number to Start: '))\n",
    "what_to_guess = int(max * random.random()) + 1\n",
    "while guess != what_to_guess:\n",
    "    guess = int(input('New Number: '))\n",
    "    if guess > 0:\n",
    "        if guess > what_to_guess:\n",
    "            print('Number is too large!')\n",
    "        elif guess < what_to_guess:\n",
    "            print('Number is too small!')\n",
    "    else:\n",
    "        print('Sorry that you are giving up!! The Number was',what_to_guess)\n",
    "        break\n",
    "\n",
    "else:\n",
    "    print('Congrats you found the number!!! It was in fact the number',what_to_guess,'!!')\n"
   ]
  },
  {
   "attachments": {},
   "cell_type": "markdown",
   "metadata": {},
   "source": [
    "### Discord Bot Example (With ChatGPT)"
   ]
  },
  {
   "cell_type": "code",
   "execution_count": 11,
   "metadata": {},
   "outputs": [
    {
     "name": "stdout",
     "output_type": "stream",
     "text": [
      "Requirement already satisfied: discord.py in c:\\users\\kumar\\appdata\\local\\programs\\python\\python311\\lib\\site-packages (2.2.2)\n",
      "Requirement already satisfied: aiohttp<4,>=3.7.4 in c:\\users\\kumar\\appdata\\local\\programs\\python\\python311\\lib\\site-packages (from discord.py) (3.8.4)\n",
      "Requirement already satisfied: attrs>=17.3.0 in c:\\users\\kumar\\appdata\\local\\programs\\python\\python311\\lib\\site-packages (from aiohttp<4,>=3.7.4->discord.py) (22.2.0)\n",
      "Requirement already satisfied: charset-normalizer<4.0,>=2.0 in c:\\users\\kumar\\appdata\\local\\programs\\python\\python311\\lib\\site-packages (from aiohttp<4,>=3.7.4->discord.py) (3.1.0)\n",
      "Requirement already satisfied: multidict<7.0,>=4.5 in c:\\users\\kumar\\appdata\\local\\programs\\python\\python311\\lib\\site-packages (from aiohttp<4,>=3.7.4->discord.py) (6.0.4)\n",
      "Requirement already satisfied: async-timeout<5.0,>=4.0.0a3 in c:\\users\\kumar\\appdata\\local\\programs\\python\\python311\\lib\\site-packages (from aiohttp<4,>=3.7.4->discord.py) (4.0.2)\n",
      "Requirement already satisfied: yarl<2.0,>=1.0 in c:\\users\\kumar\\appdata\\local\\programs\\python\\python311\\lib\\site-packages (from aiohttp<4,>=3.7.4->discord.py) (1.8.2)\n",
      "Requirement already satisfied: frozenlist>=1.1.1 in c:\\users\\kumar\\appdata\\local\\programs\\python\\python311\\lib\\site-packages (from aiohttp<4,>=3.7.4->discord.py) (1.3.3)\n",
      "Requirement already satisfied: aiosignal>=1.1.2 in c:\\users\\kumar\\appdata\\local\\programs\\python\\python311\\lib\\site-packages (from aiohttp<4,>=3.7.4->discord.py) (1.3.1)\n",
      "Requirement already satisfied: idna>=2.0 in c:\\users\\kumar\\appdata\\local\\programs\\python\\python311\\lib\\site-packages (from yarl<2.0,>=1.0->aiohttp<4,>=3.7.4->discord.py) (3.4)\n",
      "Note: you may need to restart the kernel to use updated packages.\n"
     ]
    },
    {
     "name": "stderr",
     "output_type": "stream",
     "text": [
      "\n",
      "[notice] A new release of pip available: 22.3.1 -> 23.0.1\n",
      "[notice] To update, run: python.exe -m pip install --upgrade pip\n"
     ]
    },
    {
     "name": "stdout",
     "output_type": "stream",
     "text": [
      "Requirement already satisfied: discord in c:\\users\\kumar\\appdata\\local\\programs\\python\\python311\\lib\\site-packages (2.2.2)\n",
      "Requirement already satisfied: discord.py>=2.2.2 in c:\\users\\kumar\\appdata\\local\\programs\\python\\python311\\lib\\site-packages (from discord) (2.2.2)\n",
      "Requirement already satisfied: aiohttp<4,>=3.7.4 in c:\\users\\kumar\\appdata\\local\\programs\\python\\python311\\lib\\site-packages (from discord.py>=2.2.2->discord) (3.8.4)\n",
      "Requirement already satisfied: attrs>=17.3.0 in c:\\users\\kumar\\appdata\\local\\programs\\python\\python311\\lib\\site-packages (from aiohttp<4,>=3.7.4->discord.py>=2.2.2->discord) (22.2.0)\n",
      "Requirement already satisfied: charset-normalizer<4.0,>=2.0 in c:\\users\\kumar\\appdata\\local\\programs\\python\\python311\\lib\\site-packages (from aiohttp<4,>=3.7.4->discord.py>=2.2.2->discord) (3.1.0)\n",
      "Requirement already satisfied: multidict<7.0,>=4.5 in c:\\users\\kumar\\appdata\\local\\programs\\python\\python311\\lib\\site-packages (from aiohttp<4,>=3.7.4->discord.py>=2.2.2->discord) (6.0.4)\n",
      "Requirement already satisfied: async-timeout<5.0,>=4.0.0a3 in c:\\users\\kumar\\appdata\\local\\programs\\python\\python311\\lib\\site-packages (from aiohttp<4,>=3.7.4->discord.py>=2.2.2->discord) (4.0.2)\n",
      "Requirement already satisfied: yarl<2.0,>=1.0 in c:\\users\\kumar\\appdata\\local\\programs\\python\\python311\\lib\\site-packages (from aiohttp<4,>=3.7.4->discord.py>=2.2.2->discord) (1.8.2)\n",
      "Requirement already satisfied: frozenlist>=1.1.1 in c:\\users\\kumar\\appdata\\local\\programs\\python\\python311\\lib\\site-packages (from aiohttp<4,>=3.7.4->discord.py>=2.2.2->discord) (1.3.3)\n",
      "Requirement already satisfied: aiosignal>=1.1.2 in c:\\users\\kumar\\appdata\\local\\programs\\python\\python311\\lib\\site-packages (from aiohttp<4,>=3.7.4->discord.py>=2.2.2->discord) (1.3.1)\n",
      "Requirement already satisfied: idna>=2.0 in c:\\users\\kumar\\appdata\\local\\programs\\python\\python311\\lib\\site-packages (from yarl<2.0,>=1.0->aiohttp<4,>=3.7.4->discord.py>=2.2.2->discord) (3.4)\n",
      "Note: you may need to restart the kernel to use updated packages.\n"
     ]
    },
    {
     "name": "stderr",
     "output_type": "stream",
     "text": [
      "\n",
      "[notice] A new release of pip available: 22.3.1 -> 23.0.1\n",
      "[notice] To update, run: python.exe -m pip install --upgrade pip\n"
     ]
    }
   ],
   "source": [
    "#These are the modules that you need to install to run this code.\n",
    "#You can install them by running this code in your local machine (not on github web).\n",
    "#Run them by clicking the \"Run\" buttonon the side of the code.\n",
    "\n",
    "%pip install discord.py\n",
    "%pip install discord"
   ]
  },
  {
   "cell_type": "code",
   "execution_count": 1,
   "metadata": {},
   "outputs": [
    {
     "ename": "RuntimeError",
     "evalue": "asyncio.run() cannot be called from a running event loop",
     "output_type": "error",
     "traceback": [
      "\u001b[1;31m---------------------------------------------------------------------------\u001b[0m",
      "\u001b[1;31mRuntimeError\u001b[0m                              Traceback (most recent call last)",
      "Cell \u001b[1;32mIn[1], line 19\u001b[0m\n\u001b[0;32m     15\u001b[0m \u001b[39m@bot\u001b[39m\u001b[39m.\u001b[39mcommand()\n\u001b[0;32m     16\u001b[0m \u001b[39masync\u001b[39;00m \u001b[39mdef\u001b[39;00m \u001b[39mhello\u001b[39m(ctx: commands\u001b[39m.\u001b[39mContext) \u001b[39m-\u001b[39m\u001b[39m>\u001b[39m \u001b[39mNone\u001b[39;00m:\n\u001b[0;32m     17\u001b[0m     \u001b[39mawait\u001b[39;00m ctx\u001b[39m.\u001b[39msend(\u001b[39m'\u001b[39m\u001b[39mHello, \u001b[39m\u001b[39m{0.author.mention}\u001b[39;00m\u001b[39m!\u001b[39m\u001b[39m'\u001b[39m\u001b[39m.\u001b[39mformat(ctx))\n\u001b[1;32m---> 19\u001b[0m bot\u001b[39m.\u001b[39;49mrun(\u001b[39m'\u001b[39;49m\u001b[39mhidden\u001b[39;49m\u001b[39m'\u001b[39;49m)\n",
      "File \u001b[1;32mc:\\Users\\kumar\\AppData\\Local\\Programs\\Python\\Python311\\Lib\\site-packages\\discord\\client.py:860\u001b[0m, in \u001b[0;36mClient.run\u001b[1;34m(self, token, reconnect, log_handler, log_formatter, log_level, root_logger)\u001b[0m\n\u001b[0;32m    852\u001b[0m     utils\u001b[39m.\u001b[39msetup_logging(\n\u001b[0;32m    853\u001b[0m         handler\u001b[39m=\u001b[39mlog_handler,\n\u001b[0;32m    854\u001b[0m         formatter\u001b[39m=\u001b[39mlog_formatter,\n\u001b[0;32m    855\u001b[0m         level\u001b[39m=\u001b[39mlog_level,\n\u001b[0;32m    856\u001b[0m         root\u001b[39m=\u001b[39mroot_logger,\n\u001b[0;32m    857\u001b[0m     )\n\u001b[0;32m    859\u001b[0m \u001b[39mtry\u001b[39;00m:\n\u001b[1;32m--> 860\u001b[0m     asyncio\u001b[39m.\u001b[39;49mrun(runner())\n\u001b[0;32m    861\u001b[0m \u001b[39mexcept\u001b[39;00m \u001b[39mKeyboardInterrupt\u001b[39;00m:\n\u001b[0;32m    862\u001b[0m     \u001b[39m# nothing to do here\u001b[39;00m\n\u001b[0;32m    863\u001b[0m     \u001b[39m# `asyncio.run` handles the loop cleanup\u001b[39;00m\n\u001b[0;32m    864\u001b[0m     \u001b[39m# and `self.start` closes all sockets and the HTTPClient instance.\u001b[39;00m\n\u001b[0;32m    865\u001b[0m     \u001b[39mreturn\u001b[39;00m\n",
      "File \u001b[1;32mc:\\Users\\kumar\\AppData\\Local\\Programs\\Python\\Python311\\Lib\\asyncio\\runners.py:186\u001b[0m, in \u001b[0;36mrun\u001b[1;34m(main, debug)\u001b[0m\n\u001b[0;32m    161\u001b[0m \u001b[39m\u001b[39m\u001b[39m\"\"\"Execute the coroutine and return the result.\u001b[39;00m\n\u001b[0;32m    162\u001b[0m \n\u001b[0;32m    163\u001b[0m \u001b[39mThis function runs the passed coroutine, taking care of\u001b[39;00m\n\u001b[1;32m   (...)\u001b[0m\n\u001b[0;32m    182\u001b[0m \u001b[39m    asyncio.run(main())\u001b[39;00m\n\u001b[0;32m    183\u001b[0m \u001b[39m\"\"\"\u001b[39;00m\n\u001b[0;32m    184\u001b[0m \u001b[39mif\u001b[39;00m events\u001b[39m.\u001b[39m_get_running_loop() \u001b[39mis\u001b[39;00m \u001b[39mnot\u001b[39;00m \u001b[39mNone\u001b[39;00m:\n\u001b[0;32m    185\u001b[0m     \u001b[39m# fail fast with short traceback\u001b[39;00m\n\u001b[1;32m--> 186\u001b[0m     \u001b[39mraise\u001b[39;00m \u001b[39mRuntimeError\u001b[39;00m(\n\u001b[0;32m    187\u001b[0m         \u001b[39m\"\u001b[39m\u001b[39masyncio.run() cannot be called from a running event loop\u001b[39m\u001b[39m\"\u001b[39m)\n\u001b[0;32m    189\u001b[0m \u001b[39mwith\u001b[39;00m Runner(debug\u001b[39m=\u001b[39mdebug) \u001b[39mas\u001b[39;00m runner:\n\u001b[0;32m    190\u001b[0m     \u001b[39mreturn\u001b[39;00m runner\u001b[39m.\u001b[39mrun(main)\n",
      "\u001b[1;31mRuntimeError\u001b[0m: asyncio.run() cannot be called from a running event loop"
     ]
    }
   ],
   "source": [
    "import discord\n",
    "from discord.ext import commands\n",
    "from discord.ext import tasks\n",
    "import typing\n",
    "\n",
    "intents = discord.Intents.default()\n",
    "intents.members = True\n",
    "\n",
    "bot = commands.Bot(command_prefix=\"!\", intents=intents)\n",
    "\n",
    "@bot.event\n",
    "async def on_ready() -> None:\n",
    "    print('Logged in as {0.user}'.format(bot))\n",
    "\n",
    "@bot.command()\n",
    "async def hello(ctx: commands.Context) -> None:\n",
    "    await ctx.send('Hello, {0.author.mention}!'.format(ctx))\n",
    "\n",
    "bot.run('hidden')"
   ]
  },
  {
   "attachments": {},
   "cell_type": "markdown",
   "metadata": {},
   "source": [
    "### Conway's Game of Life"
   ]
  },
  {
   "cell_type": "code",
   "execution_count": 3,
   "metadata": {},
   "outputs": [
    {
     "name": "stdout",
     "output_type": "stream",
     "text": [
      "Requirement already satisfied: numpy in c:\\users\\kumar\\appdata\\local\\programs\\python\\python311\\lib\\site-packages (1.24.2)\n",
      "Note: you may need to restart the kernel to use updated packages.\n",
      "Requirement already satisfied: pygame in c:\\users\\kumar\\appdata\\local\\programs\\python\\python311\\lib\\site-packages (2.3.0)\n",
      "Note: you may need to restart the kernel to use updated packages.\n"
     ]
    }
   ],
   "source": [
    "#Run this code to install the modules that you need to run the code.\n",
    "#You can run this code by clicking the \"Run\" button on the side of the code.\n",
    "%pip install numpy\n",
    "%pip install pygame"
   ]
  },
  {
   "cell_type": "code",
   "execution_count": 2,
   "metadata": {},
   "outputs": [],
   "source": [
    "#This is the Conway's Game of Life code (in Python).\n",
    "#It generates a cell grid with random cells as alive or dead, and then applies the rules of Conway's Game of Life to determine which cells will live or die.\n",
    "#The rules are as follows:\n",
    "\n",
    "#1) Any live cell with fewer than two live neighbours dies, as if caused by under-population.\n",
    "#2) Any live cell with two or three live neighbours lives on to the next generation.\n",
    "#3) Any live cell with more than three live neighbours dies, as if by overcrowding.\n",
    "#4) Any dead cell with exactly three live neighbours becomes a live cell, as if by reproduction.\n",
    "\n",
    "#This code is used to create a grid of cells that are either alive or dead, and then apply the rules of Conway's Game of Life to determine which cells will live or die.\n",
    "#This is the Conway's Game of Life code (in Python).\n",
    "\n",
    "\n",
    "#You have to download the code and run it on your local machine (not on github web).\n",
    "\n",
    "\"\"\"\n",
    "Controls:\n",
    "\n",
    "Space Bar   Play/Pause the Game\n",
    "C           Clear the Grid\n",
    "R           Randomize the Grid\n",
    "\"\"\"\n",
    "\n",
    "import pygame\n",
    "import numpy as np\n",
    "\n",
    "# Initialize Pygame\n",
    "pygame.init()\n",
    "\n",
    "# Set up the display\n",
    "width, height = 640, 480\n",
    "screen = pygame.display.set_mode((width, height))\n",
    "pygame.display.set_caption(\"Conway's Game of Life (Made by Pranav Verma)\")\n",
    "\n",
    "# Set up the grid\n",
    "cell_size = 10\n",
    "grid_width, grid_height = width // cell_size, height // cell_size\n",
    "grid = np.zeros((grid_height, grid_width), dtype=int)\n",
    "\n",
    "# Set up the colors\n",
    "bg_color = (255, 255, 255)\n",
    "cell_color = (0, 0, 0)\n",
    "\n",
    "# Define the rules of the game\n",
    "def get_next_generation(grid):\n",
    "    new_grid = np.zeros_like(grid)\n",
    "    for i in range(grid.shape[0]):\n",
    "        for j in range(grid.shape[1]):\n",
    "            neighbors = (\n",
    "                grid[(i-1)%grid.shape[0], (j-1)%grid.shape[1]] +\n",
    "                grid[(i-1)%grid.shape[0], j] +\n",
    "                grid[(i-1)%grid.shape[0], (j+1)%grid.shape[1]] +\n",
    "                grid[i, (j-1)%grid.shape[1]] +\n",
    "                grid[i, (j+1)%grid.shape[1]] +\n",
    "                grid[(i+1)%grid.shape[0], (j-1)%grid.shape[1]] +\n",
    "                grid[(i+1)%grid.shape[0], j] +\n",
    "                grid[(i+1)%grid.shape[0], (j+1)%grid.shape[1]]\n",
    "            )\n",
    "            if grid[i, j] == 1 and neighbors in (2, 3):\n",
    "                new_grid[i, j] = 1\n",
    "            elif grid[i, j] == 0 and neighbors == 3:\n",
    "                new_grid[i, j] = 1\n",
    "    return new_grid\n",
    "\n",
    "# Start the game loop\n",
    "running = True\n",
    "paused = False\n",
    "clock = pygame.time.Clock()\n",
    "while running:\n",
    "    # Handle events\n",
    "    for event in pygame.event.get():\n",
    "        if event.type == pygame.QUIT:\n",
    "            running = False\n",
    "        elif event.type == pygame.KEYDOWN:\n",
    "            if event.key == pygame.K_SPACE:\n",
    "                paused = not paused\n",
    "            elif event.key == pygame.K_c:\n",
    "                grid = np.zeros_like(grid)\n",
    "            elif event.key == pygame.K_r:\n",
    "                grid = np.random.randint(2, size=grid.shape)\n",
    "\n",
    "    # Update the grid\n",
    "    if not paused:\n",
    "        grid = get_next_generation(grid)\n",
    "\n",
    "    # Draw the grid\n",
    "    screen.fill(bg_color)\n",
    "    for i in range(grid.shape[0]):\n",
    "        for j in range(grid.shape[1]):\n",
    "            if grid[i, j] == 1:\n",
    "                pygame.draw.rect(screen, cell_color, (j*cell_size, i*cell_size, cell_size, cell_size))\n",
    "\n",
    "    # Update the screen\n",
    "    pygame.display.update()\n",
    "\n",
    "    # Wait for the next frame\n",
    "    clock.tick(10)\n",
    "\n",
    "# Clean up Pygame\n",
    "pygame.quit()\n"
   ]
  },
  {
   "attachments": {},
   "cell_type": "markdown",
   "metadata": {},
   "source": [
    "### Login Page"
   ]
  },
  {
   "cell_type": "code",
   "execution_count": 11,
   "metadata": {},
   "outputs": [
    {
     "name": "stdout",
     "output_type": "stream",
     "text": [
      "Welcome to the Router Login Page! Please Enter your Username and Password to Login.\n",
      "Login Successful\n"
     ]
    }
   ],
   "source": [
    "print('Welcome to the Router Login Page! Please Enter your Username and Password to Login.')\n",
    "x = str(input('Enter your Username: '))\n",
    "y = str(input('Enter your Password: '))\n",
    "\n",
    "correct_username = 'admin'\n",
    "correct_password = 'password'\n",
    "\n",
    "\n",
    "if (x == correct_username and y == correct_password):\n",
    "    print('Login Successful')\n",
    "else:\n",
    "    print('Login Failed, Please Try Again!')\n"
   ]
  },
  {
   "attachments": {},
   "cell_type": "markdown",
   "metadata": {},
   "source": [
    "### HTTP URL Parser"
   ]
  },
  {
   "cell_type": "code",
   "execution_count": 8,
   "metadata": {},
   "outputs": [
    {
     "name": "stdout",
     "output_type": "stream",
     "text": [
      "https://www.python.org/ - Welcome to Python.org\n",
      "https://www.nytimes.com/ - The New York Times - Breaking News, US News, World News and Videos\n",
      "https://en.wikipedia.org/wiki/Main_Page - Wikipedia, the free encyclopedia\n",
      "https://github.com/ - GitHub: Let’s build from here · GitHub\n",
      "https://www.youtube.com/ - YouTube\n",
      "https://www.cnn.com/ - CNN International - Breaking News, US News, World News and Video\n",
      "https://www.quora.com/ - Quora - A place to share knowledge and better understand the world\n",
      "https://www.facebook.com/ - Facebook - लॉग इन या साइन अप करें\n",
      "https://www.spotify.com/ - Spotify - Web Player: Music for everyone\n",
      "https://github.com/PranavVerma-droid/ - PranavVerma-droid (Pranav Verma) · GitHub\n",
      "https://www.reddit.com/ - Reddit - Dive into anything\n"
     ]
    }
   ],
   "source": [
    "import requests\n",
    "import threading\n",
    "from queue import Queue\n",
    "from bs4 import BeautifulSoup\n",
    "\n",
    "def get_url_title(url):\n",
    "    try:\n",
    "        response = requests.get(url)\n",
    "        if response.status_code == 200:\n",
    "            soup = BeautifulSoup(response.content, 'html.parser')\n",
    "            return soup.title.string.strip()\n",
    "    except:\n",
    "        pass\n",
    "\n",
    "def worker():\n",
    "    while True:\n",
    "        url = url_queue.get()\n",
    "        title = get_url_title(url)\n",
    "        if title:\n",
    "            print(f\"{url} - {title}\")\n",
    "        url_queue.task_done()\n",
    "\n",
    "# List of URLs to fetch titles from\n",
    "urls = [\n",
    "    \"https://www.python.org/\",\n",
    "    \"https://en.wikipedia.org/wiki/Main_Page\",\n",
    "    \"https://www.youtube.com/\",\n",
    "    \"https://www.reddit.com/\",\n",
    "    \"https://www.amazon.com/\",\n",
    "    \"https://www.nytimes.com/\",\n",
    "    \"https://github.com/\",\n",
    "    \"https://www.quora.com/\",\n",
    "    \"https://www.spotify.com/\",\n",
    "    \"https://www.cnn.com/\",\n",
    "    \"https://www.facebook.com/\", \n",
    "    \"https://github.com/PranavVerma-droid/\"\n",
    "]\n",
    "\n",
    "# Create a queue to hold the URLs\n",
    "url_queue = Queue()\n",
    "\n",
    "# Start a thread pool to fetch titles\n",
    "for i in range(5):\n",
    "    t = threading.Thread(target=worker)\n",
    "    t.daemon = True\n",
    "    t.start()\n",
    "\n",
    "# Add URLs to the queue\n",
    "for url in urls:\n",
    "    url_queue.put(url)\n",
    "\n",
    "# Wait for all URLs to be processed\n",
    "url_queue.join()\n"
   ]
  },
  {
   "attachments": {},
   "cell_type": "markdown",
   "metadata": {},
   "source": [
    "### FizzBuzz Project"
   ]
  },
  {
   "cell_type": "code",
   "execution_count": 5,
   "metadata": {},
   "outputs": [
    {
     "name": "stdout",
     "output_type": "stream",
     "text": [
      "1\n",
      "2\n",
      "Fizz\n",
      "4\n",
      "Buzz\n",
      "Fizz\n",
      "7\n",
      "8\n",
      "Fizz\n",
      "Buzz\n",
      "11\n",
      "Fizz\n",
      "13\n",
      "14\n",
      "FizzBuzz\n",
      "16\n",
      "17\n",
      "Fizz\n",
      "19\n",
      "Buzz\n",
      "Fizz\n",
      "22\n",
      "23\n",
      "Fizz\n",
      "Buzz\n",
      "26\n",
      "Fizz\n",
      "28\n",
      "29\n",
      "FizzBuzz\n",
      "31\n",
      "32\n",
      "Fizz\n",
      "34\n",
      "Buzz\n",
      "Fizz\n",
      "37\n",
      "38\n",
      "Fizz\n",
      "Buzz\n",
      "41\n",
      "Fizz\n",
      "43\n",
      "44\n",
      "FizzBuzz\n",
      "46\n",
      "47\n",
      "Fizz\n",
      "49\n",
      "Buzz\n",
      "Fizz\n",
      "52\n",
      "53\n",
      "Fizz\n",
      "Buzz\n",
      "56\n",
      "Fizz\n",
      "58\n",
      "59\n",
      "FizzBuzz\n",
      "61\n",
      "62\n",
      "Fizz\n",
      "64\n",
      "Buzz\n",
      "Fizz\n",
      "67\n",
      "68\n",
      "Fizz\n",
      "Buzz\n",
      "71\n",
      "Fizz\n",
      "73\n",
      "74\n",
      "FizzBuzz\n",
      "76\n",
      "77\n",
      "Fizz\n",
      "79\n",
      "Buzz\n",
      "Fizz\n",
      "82\n",
      "83\n",
      "Fizz\n",
      "Buzz\n",
      "86\n",
      "Fizz\n",
      "88\n",
      "89\n",
      "FizzBuzz\n",
      "91\n",
      "92\n",
      "Fizz\n",
      "94\n",
      "Buzz\n",
      "Fizz\n",
      "97\n",
      "98\n",
      "Fizz\n",
      "Buzz\n"
     ]
    }
   ],
   "source": [
    "i = 0\n",
    "while (i < 100):\n",
    "    i += 1\n",
    "    if (i % 3 == 0 and i % 5 == 0):\n",
    "        print('FizzBuzz')\n",
    "    elif (i % 3 == 0):\n",
    "        print('Fizz')\n",
    "    elif (i % 5 == 0):\n",
    "        print('Buzz')\n",
    "    else:\n",
    "        print(i)\n",
    "    "
   ]
  }
 ],
 "metadata": {
  "kernelspec": {
   "display_name": "Python 3",
   "language": "python",
   "name": "python3"
  },
  "language_info": {
   "codemirror_mode": {
    "name": "ipython",
    "version": 3
   },
   "file_extension": ".py",
   "mimetype": "text/x-python",
   "name": "python",
   "nbconvert_exporter": "python",
   "pygments_lexer": "ipython3",
   "version": "3.11.2"
  },
  "orig_nbformat": 4
 },
 "nbformat": 4,
 "nbformat_minor": 2
}

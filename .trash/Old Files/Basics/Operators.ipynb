{
 "cells": [
  {
   "attachments": {},
   "cell_type": "markdown",
   "metadata": {},
   "source": [
    "# Operators in Python"
   ]
  },
  {
   "cell_type": "code",
   "execution_count": 1,
   "metadata": {},
   "outputs": [
    {
     "name": "stdout",
     "output_type": "stream",
     "text": [
      "15\n"
     ]
    }
   ],
   "source": [
    "#Operators are used to perform operations on variables and values.\n",
    "#In the example below, we use the + operator to add together two values:\n",
    "print(10 + 5)"
   ]
  },
  {
   "cell_type": "code",
   "execution_count": null,
   "metadata": {},
   "outputs": [],
   "source": [
    "'''Python divides the operators in the following groups:\n",
    "\n",
    "1. Arithmetic operators\n",
    "2. Assignment operators\n",
    "3. Comparison operators\n",
    "4. Logical operators\n",
    "5. Identity operators\n",
    "6. Membership operators\n",
    "7. Bitwise operators'''"
   ]
  },
  {
   "attachments": {},
   "cell_type": "markdown",
   "metadata": {},
   "source": [
    "### Python Areithmetic Operators"
   ]
  },
  {
   "cell_type": "code",
   "execution_count": null,
   "metadata": {},
   "outputs": [],
   "source": [
    "'''Arithmetic operators are used with numeric values to perform common mathematical operations:\n",
    "\n",
    "+\t    Addition\t        x + y\t\n",
    "-\t    Subtraction\t        x - y\t\n",
    "*\t    Multiplication\t    x * y\t\n",
    "/\t    Division\t        x / y\t\n",
    "%\t    Modulus\t            x % y\t\n",
    "**\t    Exponentiation\t    x ** y\t\n",
    "//\t    Floor division\t    x // y '''"
   ]
  },
  {
   "attachments": {},
   "cell_type": "markdown",
   "metadata": {},
   "source": [
    "### Python Assignment Operators"
   ]
  },
  {
   "cell_type": "code",
   "execution_count": null,
   "metadata": {},
   "outputs": [],
   "source": [
    "'''Assignment operators are used to assign values to variables:\n",
    "\n",
    "\n",
    "=\t    x = 5\t    x = 5\t\n",
    "+=\t    x += 3\t    x = x + 3\t\n",
    "-=\t    x -= 3\t    x = x - 3\t\n",
    "*=\t    x *= 3\t    x = x * 3\t\n",
    "/=\t    x /= 3\t    x = x / 3\t\n",
    "%=\t    x %= 3\t    x = x % 3\t\n",
    "//=\t    x //= 3\t    x = x // 3\t\n",
    "**=\t    x **= 3\t    x = x ** 3\t\n",
    "&=\t    x &= 3\t    x = x & 3\t\n",
    "|=\t    x |= 3\t    x = x | 3\t\n",
    "^=\t    x ^= 3\t    x = x ^ 3\t\n",
    ">>=\t    x >>= 3\t    x = x >> 3\t\n",
    "<<=\t    x <<= 3\t    x = x << 3  '''"
   ]
  },
  {
   "attachments": {},
   "cell_type": "markdown",
   "metadata": {},
   "source": [
    "### Python Comparison Operators"
   ]
  },
  {
   "cell_type": "code",
   "execution_count": null,
   "metadata": {},
   "outputs": [],
   "source": [
    "'''Comparison operators are used to compare two values:\n",
    "\n",
    "==\t    Equal\t                    x == y\t\n",
    "!=\t    Not equal\t                x != y\t\n",
    ">\t    Greater than\t            x > y\t\n",
    "<\t    Less than\t                x < y\t\n",
    ">=\t    Greater than or =\t        x >= y\t\n",
    "<=\t    Less than or equal to\t    x <= y  '''"
   ]
  },
  {
   "attachments": {},
   "cell_type": "markdown",
   "metadata": {},
   "source": [
    "### Python Logical Operators"
   ]
  },
  {
   "cell_type": "code",
   "execution_count": null,
   "metadata": {},
   "outputs": [],
   "source": [
    "'''Logical operators are used to combine conditional statements:\n",
    "\n",
    "and \t    Returns True if both statements are true\t                x < 5 and  x < 10\t\n",
    "or\t        Returns True if one of the statements is true\t            x < 5 or x < 4\t\n",
    "not\t        Reverse the result, returns False if the result is true\t    not(x < 5 and x < 10)   '''"
   ]
  },
  {
   "attachments": {},
   "cell_type": "markdown",
   "metadata": {},
   "source": [
    "### Python Identity Operators"
   ]
  },
  {
   "cell_type": "code",
   "execution_count": null,
   "metadata": {},
   "outputs": [],
   "source": [
    "'''Identity operators are used to compare the objects, not if they are equal, but if they are actually the same object,\n",
    "with the same memory location:\n",
    "\n",
    "is \t            Returns True if both variables are the same object\t        x is y\t\n",
    "is not\t        Returns True if both variables are not the same object\t    x is not y '''"
   ]
  },
  {
   "attachments": {},
   "cell_type": "markdown",
   "metadata": {},
   "source": [
    "### Python Membership Operators"
   ]
  },
  {
   "cell_type": "code",
   "execution_count": null,
   "metadata": {},
   "outputs": [],
   "source": [
    "'''Membership operators are used to test if a sequence is presented in an object:\n",
    "\n",
    "in \t        Returns True if a sequence with the specified value is present in the object\t        x in y\t\n",
    "not in\t    Returns True if a sequence with the specified value is not present in the object\t    x not in y  '''"
   ]
  },
  {
   "attachments": {},
   "cell_type": "markdown",
   "metadata": {},
   "source": [
    "### Python Bitwise Operators"
   ]
  },
  {
   "cell_type": "code",
   "execution_count": null,
   "metadata": {},
   "outputs": [],
   "source": [
    "'''Bitwise operators are used to compare (binary) numbers:\n",
    "\n",
    "& \t    AND\t                        Sets each bit to 1 if both bits are 1\t                                                                                        x & y\t\n",
    "|\t    OR\t                        Sets each bit to 1 if one of two bits is 1\t                                                                                    x | y\t\n",
    "^\t    XOR\t                        Sets each bit to 1 if only one of two bits is 1\t                                                                                x ^ y\t\n",
    "~\t    NOT\t                        Inverts all the bits\t                                                                                                        ~x\t\n",
    "<<\t    Zero fill left shift\t    Shift left by pushing zeros in from the right and let the leftmost bits fall off\t                                            x << 2\t\n",
    ">>\t    Signed right shift\t        Shift right by pushing copies of the leftmost bit in from the left, and let the rightmost bits fall off\t                        x >> 2'''"
   ]
  },
  {
   "attachments": {},
   "cell_type": "markdown",
   "metadata": {},
   "source": [
    "### Operator Precedence"
   ]
  },
  {
   "cell_type": "code",
   "execution_count": null,
   "metadata": {},
   "outputs": [],
   "source": [
    "#Operator precedence describes the order in which operations are performed.\n",
    "\n",
    "#Parentheses has the highest precedence, meaning that expressions inside parentheses must be evaluated first:\n",
    "print((6 + 3) - (6 + 3))\n",
    "\n",
    "#Multiplication * has higher precedence than addition +, and therefor multiplications are evaluated before additions:\n",
    "print(100 + 5 * 3)"
   ]
  },
  {
   "cell_type": "code",
   "execution_count": null,
   "metadata": {},
   "outputs": [],
   "source": [
    "#The precedence order is described in the table below, starting with the highest precedence at the top:\n",
    "\n",
    "'''\n",
    "()\t                                                Parentheses\t\n",
    "**\t                                                Exponentiation\t\n",
    "+x  -x  ~x\t                                        Unary plus, unary minus, and bitwise NOT\t\n",
    "*  /  //  %\t                                        Multiplication, division, floor division, and modulus\t\n",
    "+  -\t                                            Addition and subtraction\t\n",
    "<<  >>\t                                            Bitwise left and right shifts\t\n",
    "&\t                                                Bitwise AND\t\n",
    "^\t                                                Bitwise XOR\t\n",
    "|\t                                                Bitwise OR\t\n",
    "==  !=  >  >=  <  <=  is  is not  in  not in \t    Comparisons, identity, and membership operators\t\n",
    "not\t                                                Logical NOT\t\n",
    "and\t                                                AND\t\n",
    "or\t                                                OR\n",
    "'''"
   ]
  },
  {
   "cell_type": "code",
   "execution_count": 2,
   "metadata": {},
   "outputs": [
    {
     "name": "stdout",
     "output_type": "stream",
     "text": [
      "5\n"
     ]
    }
   ],
   "source": [
    "#If two operators have the same precedence, the expression is evaluated from left to right.\n",
    "#Addition + and subtraction - has the same precedence, and therefor we evaluate the expression from left to right:\n",
    "\n",
    "print(5 + 4 - 7 + 3)"
   ]
  }
 ],
 "metadata": {
  "kernelspec": {
   "display_name": "Python 3",
   "language": "python",
   "name": "python3"
  },
  "language_info": {
   "codemirror_mode": {
    "name": "ipython",
    "version": 3
   },
   "file_extension": ".py",
   "mimetype": "text/x-python",
   "name": "python",
   "nbconvert_exporter": "python",
   "pygments_lexer": "ipython3",
   "version": "3.11.2"
  },
  "orig_nbformat": 4
 },
 "nbformat": 4,
 "nbformat_minor": 2
}

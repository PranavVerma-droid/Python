{
 "cells": [
  {
   "cell_type": "markdown",
   "metadata": {},
   "source": [
    "# Map"
   ]
  },
  {
   "cell_type": "code",
   "execution_count": 3,
   "metadata": {},
   "outputs": [
    {
     "name": "stdout",
     "output_type": "stream",
     "text": [
      "<map object at 0x0000021A5CA8FDF0>\n",
      "(1, 4, 9, 16)\n"
     ]
    }
   ],
   "source": [
    "#map(function,iterables)\n",
    "def new(a):\n",
    "    return a*a\n",
    "x = map(new, [1,2,3,4])\n",
    "print(x)\n",
    "print(list(x)) #Can also use tuple/dicts"
   ]
  },
  {
   "cell_type": "code",
   "execution_count": 5,
   "metadata": {},
   "outputs": [
    {
     "name": "stdout",
     "output_type": "stream",
     "text": [
      "<map object at 0x0000021A5CA8FB20>\n",
      "[2, 6, 12, 20]\n"
     ]
    }
   ],
   "source": [
    "#map(function,iterables)\n",
    "def new(a, b):\n",
    "    return a*b\n",
    "x = map(new, [1,2,3,4], [2,3,4,5,])\n",
    "print(x)\n",
    "print(list(x)) #Can also use tuple/dicts"
   ]
  },
  {
   "cell_type": "code",
   "execution_count": 8,
   "metadata": {},
   "outputs": [
    {
     "name": "stdout",
     "output_type": "stream",
     "text": [
      "[4, 5, 6, 7, 8]\n"
     ]
    }
   ],
   "source": [
    "lst = [1,2,3,4,5]\n",
    "y =list(map(lambda x: x + 3, lst))\n",
    "print(y)"
   ]
  },
  {
   "cell_type": "markdown",
   "metadata": {},
   "source": [
    "# Filter"
   ]
  },
  {
   "cell_type": "code",
   "execution_count": 12,
   "metadata": {},
   "outputs": [
    {
     "name": "stdout",
     "output_type": "stream",
     "text": [
      "(3, 4, 5, 6, 7)\n"
     ]
    }
   ],
   "source": [
    "#filter(function,iterables)\n",
    "def new1(i):\n",
    "    if i >= 3:\n",
    "        return i\n",
    "j = filter(new1, (1,2,3,4,5,6,7))\n",
    "print(tuple(j))"
   ]
  },
  {
   "cell_type": "code",
   "execution_count": 13,
   "metadata": {},
   "outputs": [
    {
     "name": "stdout",
     "output_type": "stream",
     "text": [
      "[3, 4, 5, 6, 7]\n"
     ]
    }
   ],
   "source": [
    "z = filter(lambda x:(x >= 3), (1,2,3,4,5,6,7))\n",
    "print(list(z))"
   ]
  },
  {
   "cell_type": "markdown",
   "metadata": {},
   "source": [
    "# Reduce"
   ]
  },
  {
   "cell_type": "code",
   "execution_count": 14,
   "metadata": {},
   "outputs": [
    {
     "name": "stdout",
     "output_type": "stream",
     "text": [
      "53\n"
     ]
    }
   ],
   "source": [
    "#reduce(function,iterables)\n",
    "from functools import *\n",
    "def a(x, y):\n",
    "    return x + y\n",
    "s = reduce(a,[1,3,4,5,6,7,8,9,10])\n",
    "print(s)"
   ]
  }
 ],
 "metadata": {
  "interpreter": {
   "hash": "c81af17539a12d068bd5aa9f8d75656335c72993f04982d0b2c8a68fb6df7c2f"
  },
  "kernelspec": {
   "display_name": "Python 3.8.8 64-bit ('base': conda)",
   "name": "python3"
  },
  "language_info": {
   "codemirror_mode": {
    "name": "ipython",
    "version": 3
   },
   "file_extension": ".py",
   "mimetype": "text/x-python",
   "name": "python",
   "nbconvert_exporter": "python",
   "pygments_lexer": "ipython3",
   "version": "3.8.8"
  },
  "orig_nbformat": 4
 },
 "nbformat": 4,
 "nbformat_minor": 2
}

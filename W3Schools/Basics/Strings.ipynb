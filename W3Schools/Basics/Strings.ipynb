{
 "cells": [
  {
   "attachments": {},
   "cell_type": "markdown",
   "metadata": {},
   "source": [
    "# Strings in Python"
   ]
  },
  {
   "cell_type": "code",
   "execution_count": null,
   "metadata": {},
   "outputs": [],
   "source": [
    "\"\"\"\n",
    "Strings in python are surrounded by either single quotation marks, or double quotation marks.\n",
    "'hello' is the same as \"hello\".\n",
    "You can display a string literal with the print() function:\n",
    "\"\"\"\n",
    "\n",
    "print(\"Hello\")\n",
    "print('Hello')"
   ]
  },
  {
   "attachments": {},
   "cell_type": "markdown",
   "metadata": {},
   "source": [
    "### Assign a String to a Variable"
   ]
  },
  {
   "cell_type": "code",
   "execution_count": null,
   "metadata": {},
   "outputs": [],
   "source": [
    "#Assigning a string to a variable is done with the variable name followed by an equal sign and the string:\n",
    "\n",
    "a = \"Hello\"\n",
    "print(a)"
   ]
  },
  {
   "attachments": {},
   "cell_type": "markdown",
   "metadata": {},
   "source": [
    "### Multiline Strings"
   ]
  },
  {
   "cell_type": "code",
   "execution_count": 4,
   "metadata": {},
   "outputs": [
    {
     "name": "stdout",
     "output_type": "stream",
     "text": [
      "This is a multiline string written by Pranav Verma.\n",
      "https://web.craftingrealm.tk\n",
      "This is a multiline string no. 2 written by Pranav Verma.\n",
      "https://web.craftingrealm.tk\n"
     ]
    }
   ],
   "source": [
    "#You can assign a multiline string to a variable by using three quotes:\n",
    "a = \"\"\"This is a multiline string written by Pranav Verma.\n",
    "https://web.craftingrealm.tk\"\"\"\n",
    "print(a)\n",
    "\n",
    "#Or three single quotes:\n",
    "a = '''This is a multiline string no. 2 written by Pranav Verma.\n",
    "https://web.craftingrealm.tk'''\n",
    "print(a)\n",
    "\n",
    "#Note: in the result, the line breaks are inserted at the same position as in the code."
   ]
  },
  {
   "attachments": {},
   "cell_type": "markdown",
   "metadata": {},
   "source": [
    "### Strings can be like Arrays"
   ]
  },
  {
   "cell_type": "code",
   "execution_count": 13,
   "metadata": {},
   "outputs": [
    {
     "name": "stdout",
     "output_type": "stream",
     "text": [
      "H e l l o ,   W o r l d !\n"
     ]
    }
   ],
   "source": [
    "'''\n",
    "Like many other popular programming languages, strings in Python are arrays of bytes representing unicode characters.\n",
    "However, Python does not have a character data type, a single character is simply a string with a length of 1.\n",
    "Square brackets can be used to access elements of the string.\n",
    "'''\n",
    "#Get the character at position 1 (remember that the first character has the position 0):\n",
    "\n",
    "a = \"Hello, World!\"\n",
    "print(a[0], a[1], a[2], a[3], a[4], a[5], a[6], a[7], a[8], a[9], a[10], a[11], a[12])"
   ]
  },
  {
   "attachments": {},
   "cell_type": "markdown",
   "metadata": {},
   "source": [
    "### Looping through a String"
   ]
  },
  {
   "cell_type": "code",
   "execution_count": null,
   "metadata": {},
   "outputs": [],
   "source": [
    "#Since strings are arrays, we can loop through the characters in a string, with a for loop.\n",
    "for x in \"banana\":\n",
    "  print(x)"
   ]
  },
  {
   "attachments": {},
   "cell_type": "markdown",
   "metadata": {},
   "source": [
    "### String Length"
   ]
  },
  {
   "cell_type": "code",
   "execution_count": 17,
   "metadata": {},
   "outputs": [
    {
     "name": "stdout",
     "output_type": "stream",
     "text": [
      "13\n",
      "13.0\n"
     ]
    }
   ],
   "source": [
    "#To get the length of a string, use the len() function.\n",
    "a = \"Hello, World!\"\n",
    "print(len(a))\n",
    "\n",
    "x = len(a)\n",
    "print(float(x))"
   ]
  },
  {
   "attachments": {},
   "cell_type": "markdown",
   "metadata": {},
   "source": [
    "### Check String"
   ]
  },
  {
   "cell_type": "code",
   "execution_count": 22,
   "metadata": {},
   "outputs": [
    {
     "name": "stdout",
     "output_type": "stream",
     "text": [
      "True\n",
      "Yes, 'free' is present.\n"
     ]
    }
   ],
   "source": [
    "#To check if a certain phrase or character is present in a string, we can use the keyword in.\n",
    "txt = \"The best things in life are free!\"\n",
    "a = \"free\" in txt\n",
    "print(bool(a))\n",
    "\n",
    "#Use it in an if statement:\n",
    "txt = \"The best things in life are free!\"\n",
    "if \"free\" in txt:\n",
    "  print(\"Yes, 'free' is present.\")"
   ]
  },
  {
   "attachments": {},
   "cell_type": "markdown",
   "metadata": {},
   "source": [
    "### Check if NOT"
   ]
  },
  {
   "cell_type": "code",
   "execution_count": 24,
   "metadata": {},
   "outputs": [
    {
     "name": "stdout",
     "output_type": "stream",
     "text": [
      "True\n",
      "Yes, 'expensive' is NOT present.\n"
     ]
    }
   ],
   "source": [
    "#To check if a certain phrase or character is NOT present in a string, we can use the keyword not in.\n",
    "#Check if \"expensive\" is NOT present in the following text:\n",
    "txt = \"The best things in life are free!\"\n",
    "print(\"expensive\" not in txt)\n",
    "\n",
    "#Use it in an if statement:\n",
    "txt = \"The best things in life are free!\"\n",
    "if \"expensive\" not in txt:\n",
    "    print(\"Yes, 'expensive' is NOT present.\")"
   ]
  }
 ],
 "metadata": {
  "kernelspec": {
   "display_name": "Python 3",
   "language": "python",
   "name": "python3"
  },
  "language_info": {
   "codemirror_mode": {
    "name": "ipython",
    "version": 3
   },
   "file_extension": ".py",
   "mimetype": "text/x-python",
   "name": "python",
   "nbconvert_exporter": "python",
   "pygments_lexer": "ipython3",
   "version": "3.11.2"
  },
  "orig_nbformat": 4
 },
 "nbformat": 4,
 "nbformat_minor": 2
}

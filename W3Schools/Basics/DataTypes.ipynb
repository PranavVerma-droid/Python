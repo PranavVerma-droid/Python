{
 "cells": [
  {
   "attachments": {},
   "cell_type": "markdown",
   "metadata": {},
   "source": [
    "# Data Types"
   ]
  },
  {
   "cell_type": "code",
   "execution_count": null,
   "metadata": {},
   "outputs": [],
   "source": [
    "\"\"\"\n",
    "Built-in Data Types\n",
    "In programming, data type is an important concept.\n",
    "\n",
    "Variables can store data of different types, and different types can do different things.\n",
    "\n",
    "Python has the following data types built-in by default, in these categories:\n",
    "\n",
    "Text Type:\t        str\n",
    "Numeric Types:\t    int, float, complex\n",
    "Sequence Types:\t    list, tuple, range\n",
    "Mapping Type:\t    dict\n",
    "Set Types:\t        set, frozenset\n",
    "Boolean Type:\t    bool\n",
    "Binary Types:\t    bytes, bytearray, memoryview\n",
    "None Type:\t        NoneType\n",
    "\"\"\""
   ]
  },
  {
   "attachments": {},
   "cell_type": "markdown",
   "metadata": {},
   "source": [
    "### Getting the Data Types"
   ]
  },
  {
   "cell_type": "code",
   "execution_count": null,
   "metadata": {},
   "outputs": [],
   "source": [
    "#You can get the data type of any object by using the type() function:\n",
    "x = 5\n",
    "print(type(x))"
   ]
  },
  {
   "attachments": {},
   "cell_type": "markdown",
   "metadata": {},
   "source": [
    "### Setting the Data Type"
   ]
  },
  {
   "cell_type": "code",
   "execution_count": null,
   "metadata": {},
   "outputs": [],
   "source": [
    "\"\"\"\n",
    "The data type is set when you assign a value to a variable:\n",
    "\t\n",
    "x = \"Hello World\"\t                            str\t\n",
    "x = 20\t                                        int\t\n",
    "x = 20.5\t                                    float\t\n",
    "x = 1j\t                                        complex\t\n",
    "x = [\"apple\", \"banana\", \"cherry\"]\t            list\t\n",
    "x = (\"apple\", \"banana\", \"cherry\")\t            tuple\t\n",
    "x = range(6)\t                                range\t\n",
    "x = {\"name\" : \"John\", \"age\" : 36}\t            dict\t\n",
    "x = {\"apple\", \"banana\", \"cherry\"}\t            set\t\n",
    "x = frozenset({\"apple\", \"banana\", \"cherry\"})\tfrozenset\t\n",
    "x = True\t                                    bool\t\n",
    "x = b\"Hello\"\t                                bytes\t\n",
    "x = bytearray(5)\t                            bytearray\t\n",
    "x = memoryview(bytes(5))\t                    memoryview\t\n",
    "x = None\t                                    NoneType\n",
    "\"\"\""
   ]
  },
  {
   "attachments": {},
   "cell_type": "markdown",
   "metadata": {},
   "source": [
    "### Setting the Specific Data Type"
   ]
  },
  {
   "cell_type": "code",
   "execution_count": null,
   "metadata": {},
   "outputs": [],
   "source": [
    "\"\"\"\n",
    "If you want to specify the data type, you can use the following constructor functions:\n",
    "\n",
    "x = str(\"Hello World\")\t                            str\t\n",
    "x = int(20)\t                                        int\t\n",
    "x = float(20.5)\t                                    float\t\n",
    "x = complex(1j)\t                                    complex\t\n",
    "x = list((\"apple\", \"banana\", \"cherry\"))\t            list\t\n",
    "x = tuple((\"apple\", \"banana\", \"cherry\"))\t        tuple\t\n",
    "x = range(6)\t                                    range\t\n",
    "x = dict(name=\"John\", age=36)\t                    dict\t\n",
    "x = set((\"apple\", \"banana\", \"cherry\"))\t            set\t\n",
    "x = frozenset((\"apple\", \"banana\", \"cherry\"))\t    frozenset\t\n",
    "x = bool(5)\t                                        bool\t\n",
    "x = bytes(5)\t                                    bytes\t\n",
    "x = bytearray(5)\t                                bytearray\t\n",
    "x = memoryview(bytes(5))\t                        memoryview\n",
    "\"\"\""
   ]
  }
 ],
 "metadata": {
  "language_info": {
   "name": "python"
  },
  "orig_nbformat": 4
 },
 "nbformat": 4,
 "nbformat_minor": 2
}

{
 "cells": [
  {
   "cell_type": "markdown",
   "metadata": {},
   "source": [
    "# Turtle in Python"
   ]
  },
  {
   "cell_type": "code",
   "execution_count": null,
   "metadata": {},
   "outputs": [],
   "source": [
    "%pip install PythonTurtle"
   ]
  },
  {
   "cell_type": "code",
   "execution_count": null,
   "metadata": {},
   "outputs": [],
   "source": [
    "from turtle import *\n",
    "\n",
    "\n",
    "bgcolor(\"black\")\n",
    "speed(1)\n",
    "showturtle()\n",
    "color(\"orange\")\n",
    "\n",
    "\n",
    "\n",
    "def draw_square(sideLength):\n",
    "    showturtle()\n",
    "    penup()\n",
    "    forward(sideLength / 2)\n",
    "    pendown()\n",
    "    left(90)\n",
    "    forward(sideLength / 2)\n",
    "    left(90)\n",
    "    fd(sideLength)\n",
    "    left(90)\n",
    "    fd(sideLength)\n",
    "    left(90)\n",
    "    fd(sideLength)\n",
    "    left(90)\n",
    "    fd(sideLength / 2)\n",
    "    penup()\n",
    "    goto(0, 0)\n",
    "    hideturtle()\n",
    "\n",
    "\n",
    "def text(textinput):\n",
    "    penup()\n",
    "    showturtle()\n",
    "    goto(-132, 0)\n",
    "    pendown()\n",
    "    write(textinput, font=(\"Jetbrains Mono\", 20, \"normal\"))\n",
    "    penup()\n",
    "    goto(0,0)\n",
    "    hideturtle()\n",
    "\n",
    "\n",
    "\n",
    "\n",
    "    \n",
    "\n",
    "draw_square(500)\n",
    "text(\"PranavVerma-droid\")\n",
    "\n",
    "\n",
    "\n",
    "done()"
   ]
  }
 ],
 "metadata": {
  "kernelspec": {
   "display_name": "Python 3",
   "language": "python",
   "name": "python3"
  },
  "language_info": {
   "codemirror_mode": {
    "name": "ipython",
    "version": 3
   },
   "file_extension": ".py",
   "mimetype": "text/x-python",
   "name": "python",
   "nbconvert_exporter": "python",
   "pygments_lexer": "ipython3",
   "version": "3.11.5"
  },
  "orig_nbformat": 4
 },
 "nbformat": 4,
 "nbformat_minor": 2
}
